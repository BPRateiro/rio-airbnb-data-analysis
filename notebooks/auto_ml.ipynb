{
 "cells": [
  {
   "cell_type": "markdown",
   "metadata": {},
   "source": [
    "# Airbnb Rio de Janeiro - AutoML\n",
    "\n",
    "# 1. Introdução\n",
    "\n",
    "Esse notebook propõe aplicar o processo de AutoML para encontrar o melhor modelo que se adequa aos [dados do Airbnb na cidade do Rio de Janeiro](https://insideairbnb.com/get-the-data/#:~:text=Rio%20de%20Janeiro%2C%20Rio%20de%20Janeiro%2C%20Brazil). \n",
    "\n",
    "Os dados são carregados do processo de [feature engineering](https://github.com/BPRateiro/rio-airbnb-data-analysis/blob/main/notebooks/feature_engineering.ipynb).Incluem informações detalhadas sobre a disponibilidade de listagens, características dos imóveis, interações de usuários, e preços. \n",
    "\n",
    "O objetivo principal é construir um modelo com as melhores métricas possíveis.\n",
    "\n",
    "## 1.1 Configurações e bibliotecas"
   ]
  },
  {
   "cell_type": "code",
   "execution_count": 4,
   "metadata": {},
   "outputs": [],
   "source": [
    "import pandas as pd\n",
    "from pycaret.regression import setup, compare_models, tune_model, finalize_model, save_model, load_model, plot_model, interpret_model\n",
    "\n",
    "import sys\n",
    "import os\n",
    "sys.path.append(os.path.abspath('..'))\n",
    "\n",
    "from rio_airbnb.config import MODELS_DIR"
   ]
  },
  {
   "cell_type": "markdown",
   "metadata": {},
   "source": [
    "## 1.2 Leitura dos dados"
   ]
  },
  {
   "cell_type": "code",
   "execution_count": 5,
   "metadata": {},
   "outputs": [
    {
     "data": {
      "text/html": [
       "<div>\n",
       "<style scoped>\n",
       "    .dataframe tbody tr th:only-of-type {\n",
       "        vertical-align: middle;\n",
       "    }\n",
       "\n",
       "    .dataframe tbody tr th {\n",
       "        vertical-align: top;\n",
       "    }\n",
       "\n",
       "    .dataframe thead th {\n",
       "        text-align: right;\n",
       "    }\n",
       "</style>\n",
       "<table border=\"1\" class=\"dataframe\">\n",
       "  <thead>\n",
       "    <tr style=\"text-align: right;\">\n",
       "      <th></th>\n",
       "      <th>accommodates</th>\n",
       "      <th>availability_365</th>\n",
       "      <th>availability_60</th>\n",
       "      <th>bathrooms</th>\n",
       "      <th>bedrooms</th>\n",
       "      <th>beds</th>\n",
       "      <th>calculated_host_listings_count_entire_homes</th>\n",
       "      <th>calculated_host_listings_count_private_rooms</th>\n",
       "      <th>calculated_host_listings_count_shared_rooms</th>\n",
       "      <th>days_since_first_review</th>\n",
       "      <th>...</th>\n",
       "      <th>review_scores_value</th>\n",
       "      <th>reviews_per_month</th>\n",
       "      <th>verification_email</th>\n",
       "      <th>verification_work_email</th>\n",
       "      <th>was_reviewed</th>\n",
       "      <th>host_response_time_within_a_day</th>\n",
       "      <th>host_response_time_within_a_few_hours</th>\n",
       "      <th>host_response_time_within_an_hour</th>\n",
       "      <th>room_type_others</th>\n",
       "      <th>room_type_private_room</th>\n",
       "    </tr>\n",
       "  </thead>\n",
       "  <tbody>\n",
       "    <tr>\n",
       "      <th>0</th>\n",
       "      <td>5.0</td>\n",
       "      <td>269.0</td>\n",
       "      <td>59.0</td>\n",
       "      <td>2.0</td>\n",
       "      <td>1.0</td>\n",
       "      <td>2.0</td>\n",
       "      <td>1.0</td>\n",
       "      <td>0.0</td>\n",
       "      <td>0.0</td>\n",
       "      <td>131.8</td>\n",
       "      <td>...</td>\n",
       "      <td>4.502</td>\n",
       "      <td>1.700</td>\n",
       "      <td>0.0</td>\n",
       "      <td>0.0</td>\n",
       "      <td>0.0</td>\n",
       "      <td>0.0</td>\n",
       "      <td>0.0</td>\n",
       "      <td>0.0</td>\n",
       "      <td>0.0</td>\n",
       "      <td>0.0</td>\n",
       "    </tr>\n",
       "    <tr>\n",
       "      <th>1</th>\n",
       "      <td>4.0</td>\n",
       "      <td>176.0</td>\n",
       "      <td>56.0</td>\n",
       "      <td>2.0</td>\n",
       "      <td>2.0</td>\n",
       "      <td>0.0</td>\n",
       "      <td>6.0</td>\n",
       "      <td>0.0</td>\n",
       "      <td>0.0</td>\n",
       "      <td>173.0</td>\n",
       "      <td>...</td>\n",
       "      <td>4.500</td>\n",
       "      <td>0.690</td>\n",
       "      <td>0.0</td>\n",
       "      <td>0.0</td>\n",
       "      <td>1.0</td>\n",
       "      <td>0.0</td>\n",
       "      <td>0.0</td>\n",
       "      <td>1.0</td>\n",
       "      <td>0.0</td>\n",
       "      <td>0.0</td>\n",
       "    </tr>\n",
       "    <tr>\n",
       "      <th>2</th>\n",
       "      <td>2.0</td>\n",
       "      <td>267.0</td>\n",
       "      <td>59.0</td>\n",
       "      <td>1.0</td>\n",
       "      <td>1.0</td>\n",
       "      <td>1.0</td>\n",
       "      <td>0.0</td>\n",
       "      <td>2.0</td>\n",
       "      <td>0.0</td>\n",
       "      <td>151.4</td>\n",
       "      <td>...</td>\n",
       "      <td>4.600</td>\n",
       "      <td>0.448</td>\n",
       "      <td>1.0</td>\n",
       "      <td>0.0</td>\n",
       "      <td>0.0</td>\n",
       "      <td>0.0</td>\n",
       "      <td>0.0</td>\n",
       "      <td>1.0</td>\n",
       "      <td>0.0</td>\n",
       "      <td>1.0</td>\n",
       "    </tr>\n",
       "    <tr>\n",
       "      <th>3</th>\n",
       "      <td>2.0</td>\n",
       "      <td>38.0</td>\n",
       "      <td>35.0</td>\n",
       "      <td>1.0</td>\n",
       "      <td>1.0</td>\n",
       "      <td>1.0</td>\n",
       "      <td>1.0</td>\n",
       "      <td>1.0</td>\n",
       "      <td>0.0</td>\n",
       "      <td>531.0</td>\n",
       "      <td>...</td>\n",
       "      <td>5.000</td>\n",
       "      <td>0.230</td>\n",
       "      <td>1.0</td>\n",
       "      <td>0.0</td>\n",
       "      <td>1.0</td>\n",
       "      <td>0.0</td>\n",
       "      <td>1.0</td>\n",
       "      <td>0.0</td>\n",
       "      <td>0.0</td>\n",
       "      <td>1.0</td>\n",
       "    </tr>\n",
       "    <tr>\n",
       "      <th>4</th>\n",
       "      <td>5.0</td>\n",
       "      <td>10.0</td>\n",
       "      <td>10.0</td>\n",
       "      <td>2.0</td>\n",
       "      <td>2.0</td>\n",
       "      <td>3.0</td>\n",
       "      <td>1.0</td>\n",
       "      <td>0.0</td>\n",
       "      <td>0.0</td>\n",
       "      <td>3631.0</td>\n",
       "      <td>...</td>\n",
       "      <td>4.740</td>\n",
       "      <td>3.040</td>\n",
       "      <td>1.0</td>\n",
       "      <td>0.0</td>\n",
       "      <td>1.0</td>\n",
       "      <td>1.0</td>\n",
       "      <td>0.0</td>\n",
       "      <td>0.0</td>\n",
       "      <td>0.0</td>\n",
       "      <td>0.0</td>\n",
       "    </tr>\n",
       "  </tbody>\n",
       "</table>\n",
       "<p>5 rows × 44 columns</p>\n",
       "</div>"
      ],
      "text/plain": [
       "   accommodates  availability_365  availability_60  bathrooms  bedrooms  beds  \\\n",
       "0           5.0             269.0             59.0        2.0       1.0   2.0   \n",
       "1           4.0             176.0             56.0        2.0       2.0   0.0   \n",
       "2           2.0             267.0             59.0        1.0       1.0   1.0   \n",
       "3           2.0              38.0             35.0        1.0       1.0   1.0   \n",
       "4           5.0              10.0             10.0        2.0       2.0   3.0   \n",
       "\n",
       "   calculated_host_listings_count_entire_homes  \\\n",
       "0                                          1.0   \n",
       "1                                          6.0   \n",
       "2                                          0.0   \n",
       "3                                          1.0   \n",
       "4                                          1.0   \n",
       "\n",
       "   calculated_host_listings_count_private_rooms  \\\n",
       "0                                           0.0   \n",
       "1                                           0.0   \n",
       "2                                           2.0   \n",
       "3                                           1.0   \n",
       "4                                           0.0   \n",
       "\n",
       "   calculated_host_listings_count_shared_rooms  days_since_first_review  ...  \\\n",
       "0                                          0.0                    131.8  ...   \n",
       "1                                          0.0                    173.0  ...   \n",
       "2                                          0.0                    151.4  ...   \n",
       "3                                          0.0                    531.0  ...   \n",
       "4                                          0.0                   3631.0  ...   \n",
       "\n",
       "   review_scores_value  reviews_per_month  verification_email  \\\n",
       "0                4.502              1.700                 0.0   \n",
       "1                4.500              0.690                 0.0   \n",
       "2                4.600              0.448                 1.0   \n",
       "3                5.000              0.230                 1.0   \n",
       "4                4.740              3.040                 1.0   \n",
       "\n",
       "   verification_work_email  was_reviewed  host_response_time_within_a_day  \\\n",
       "0                      0.0           0.0                              0.0   \n",
       "1                      0.0           1.0                              0.0   \n",
       "2                      0.0           0.0                              0.0   \n",
       "3                      0.0           1.0                              0.0   \n",
       "4                      0.0           1.0                              1.0   \n",
       "\n",
       "   host_response_time_within_a_few_hours  host_response_time_within_an_hour  \\\n",
       "0                                    0.0                                0.0   \n",
       "1                                    0.0                                1.0   \n",
       "2                                    0.0                                1.0   \n",
       "3                                    1.0                                0.0   \n",
       "4                                    0.0                                0.0   \n",
       "\n",
       "   room_type_others  room_type_private_room  \n",
       "0               0.0                     0.0  \n",
       "1               0.0                     0.0  \n",
       "2               0.0                     1.0  \n",
       "3               0.0                     1.0  \n",
       "4               0.0                     0.0  \n",
       "\n",
       "[5 rows x 44 columns]"
      ]
     },
     "execution_count": 5,
     "metadata": {},
     "output_type": "execute_result"
    }
   ],
   "source": [
    "df_train = pd.read_parquet('../data/silver/fe_train_output.parquet')\n",
    "df_test = pd.read_parquet('../data/silver/fe_test_output.parquet')\n",
    "\n",
    "df_train.drop(columns=[col for col in df_train.columns if df_train[col].nunique() == 1], inplace=True)\n",
    "\n",
    "df_train.head()"
   ]
  },
  {
   "cell_type": "markdown",
   "metadata": {},
   "source": [
    "# 2. Comparação de modelos\n",
    "\n",
    "O AutoML testa um conjunto de diferentes modelos com valores de hiperparâmetros padrão. O modelo que apresentou melhores métricas foi o **Light Gradient Boosting Machine**."
   ]
  },
  {
   "cell_type": "code",
   "execution_count": 6,
   "metadata": {},
   "outputs": [
    {
     "data": {
      "text/html": [
       "<style type=\"text/css\">\n",
       "</style>\n",
       "<table id=\"T_1274a\">\n",
       "  <thead>\n",
       "    <tr>\n",
       "      <th class=\"blank level0\" >&nbsp;</th>\n",
       "      <th id=\"T_1274a_level0_col0\" class=\"col_heading level0 col0\" >Description</th>\n",
       "      <th id=\"T_1274a_level0_col1\" class=\"col_heading level0 col1\" >Value</th>\n",
       "    </tr>\n",
       "  </thead>\n",
       "  <tbody>\n",
       "    <tr>\n",
       "      <th id=\"T_1274a_level0_row0\" class=\"row_heading level0 row0\" >0</th>\n",
       "      <td id=\"T_1274a_row0_col0\" class=\"data row0 col0\" >Session id</td>\n",
       "      <td id=\"T_1274a_row0_col1\" class=\"data row0 col1\" >75</td>\n",
       "    </tr>\n",
       "    <tr>\n",
       "      <th id=\"T_1274a_level0_row1\" class=\"row_heading level0 row1\" >1</th>\n",
       "      <td id=\"T_1274a_row1_col0\" class=\"data row1 col0\" >Target</td>\n",
       "      <td id=\"T_1274a_row1_col1\" class=\"data row1 col1\" >price</td>\n",
       "    </tr>\n",
       "    <tr>\n",
       "      <th id=\"T_1274a_level0_row2\" class=\"row_heading level0 row2\" >2</th>\n",
       "      <td id=\"T_1274a_row2_col0\" class=\"data row2 col0\" >Target type</td>\n",
       "      <td id=\"T_1274a_row2_col1\" class=\"data row2 col1\" >Regression</td>\n",
       "    </tr>\n",
       "    <tr>\n",
       "      <th id=\"T_1274a_level0_row3\" class=\"row_heading level0 row3\" >3</th>\n",
       "      <td id=\"T_1274a_row3_col0\" class=\"data row3 col0\" >Original data shape</td>\n",
       "      <td id=\"T_1274a_row3_col1\" class=\"data row3 col1\" >(30299, 44)</td>\n",
       "    </tr>\n",
       "    <tr>\n",
       "      <th id=\"T_1274a_level0_row4\" class=\"row_heading level0 row4\" >4</th>\n",
       "      <td id=\"T_1274a_row4_col0\" class=\"data row4 col0\" >Transformed data shape</td>\n",
       "      <td id=\"T_1274a_row4_col1\" class=\"data row4 col1\" >(30299, 44)</td>\n",
       "    </tr>\n",
       "    <tr>\n",
       "      <th id=\"T_1274a_level0_row5\" class=\"row_heading level0 row5\" >5</th>\n",
       "      <td id=\"T_1274a_row5_col0\" class=\"data row5 col0\" >Transformed train set shape</td>\n",
       "      <td id=\"T_1274a_row5_col1\" class=\"data row5 col1\" >(24255, 44)</td>\n",
       "    </tr>\n",
       "    <tr>\n",
       "      <th id=\"T_1274a_level0_row6\" class=\"row_heading level0 row6\" >6</th>\n",
       "      <td id=\"T_1274a_row6_col0\" class=\"data row6 col0\" >Transformed test set shape</td>\n",
       "      <td id=\"T_1274a_row6_col1\" class=\"data row6 col1\" >(6044, 44)</td>\n",
       "    </tr>\n",
       "    <tr>\n",
       "      <th id=\"T_1274a_level0_row7\" class=\"row_heading level0 row7\" >7</th>\n",
       "      <td id=\"T_1274a_row7_col0\" class=\"data row7 col0\" >Numeric features</td>\n",
       "      <td id=\"T_1274a_row7_col1\" class=\"data row7 col1\" >43</td>\n",
       "    </tr>\n",
       "  </tbody>\n",
       "</table>\n"
      ],
      "text/plain": [
       "<pandas.io.formats.style.Styler at 0x26f6c474210>"
      ]
     },
     "metadata": {},
     "output_type": "display_data"
    },
    {
     "name": "stdout",
     "output_type": "stream",
     "text": [
      "Loading profile... Please Wait!\n"
     ]
    },
    {
     "data": {
      "text/html": [],
      "text/plain": [
       "<IPython.core.display.HTML object>"
      ]
     },
     "metadata": {},
     "output_type": "display_data"
    },
    {
     "data": {
      "text/html": [
       "<style type=\"text/css\">\n",
       "#T_ffebf th {\n",
       "  text-align: left;\n",
       "}\n",
       "#T_ffebf_row0_col0, #T_ffebf_row1_col0, #T_ffebf_row1_col1, #T_ffebf_row1_col2, #T_ffebf_row1_col3, #T_ffebf_row1_col4, #T_ffebf_row1_col5, #T_ffebf_row1_col6, #T_ffebf_row2_col0, #T_ffebf_row2_col1, #T_ffebf_row2_col2, #T_ffebf_row2_col3, #T_ffebf_row2_col4, #T_ffebf_row2_col5, #T_ffebf_row2_col6, #T_ffebf_row3_col0, #T_ffebf_row3_col1, #T_ffebf_row3_col2, #T_ffebf_row3_col3, #T_ffebf_row3_col4, #T_ffebf_row3_col5, #T_ffebf_row3_col6, #T_ffebf_row4_col0, #T_ffebf_row4_col1, #T_ffebf_row4_col2, #T_ffebf_row4_col3, #T_ffebf_row4_col4, #T_ffebf_row4_col5, #T_ffebf_row4_col6, #T_ffebf_row5_col0, #T_ffebf_row5_col1, #T_ffebf_row5_col2, #T_ffebf_row5_col3, #T_ffebf_row5_col4, #T_ffebf_row5_col5, #T_ffebf_row5_col6, #T_ffebf_row6_col0, #T_ffebf_row6_col1, #T_ffebf_row6_col2, #T_ffebf_row6_col3, #T_ffebf_row6_col4, #T_ffebf_row6_col5, #T_ffebf_row6_col6, #T_ffebf_row7_col0, #T_ffebf_row7_col1, #T_ffebf_row7_col2, #T_ffebf_row7_col3, #T_ffebf_row7_col4, #T_ffebf_row7_col5, #T_ffebf_row7_col6, #T_ffebf_row8_col0, #T_ffebf_row8_col1, #T_ffebf_row8_col2, #T_ffebf_row8_col3, #T_ffebf_row8_col4, #T_ffebf_row8_col5, #T_ffebf_row8_col6, #T_ffebf_row9_col0, #T_ffebf_row9_col1, #T_ffebf_row9_col2, #T_ffebf_row9_col3, #T_ffebf_row9_col4, #T_ffebf_row9_col5, #T_ffebf_row9_col6, #T_ffebf_row10_col0, #T_ffebf_row10_col1, #T_ffebf_row10_col2, #T_ffebf_row10_col3, #T_ffebf_row10_col4, #T_ffebf_row10_col5, #T_ffebf_row10_col6, #T_ffebf_row11_col0, #T_ffebf_row11_col1, #T_ffebf_row11_col2, #T_ffebf_row11_col3, #T_ffebf_row11_col4, #T_ffebf_row11_col5, #T_ffebf_row11_col6, #T_ffebf_row12_col0, #T_ffebf_row12_col1, #T_ffebf_row12_col2, #T_ffebf_row12_col3, #T_ffebf_row12_col4, #T_ffebf_row12_col5, #T_ffebf_row12_col6, #T_ffebf_row13_col0, #T_ffebf_row13_col1, #T_ffebf_row13_col2, #T_ffebf_row13_col3, #T_ffebf_row13_col4, #T_ffebf_row13_col5, #T_ffebf_row13_col6, #T_ffebf_row14_col0, #T_ffebf_row14_col1, #T_ffebf_row14_col2, #T_ffebf_row14_col3, #T_ffebf_row14_col4, #T_ffebf_row14_col5, #T_ffebf_row14_col6, #T_ffebf_row15_col0, #T_ffebf_row15_col1, #T_ffebf_row15_col2, #T_ffebf_row15_col3, #T_ffebf_row15_col4, #T_ffebf_row15_col5, #T_ffebf_row15_col6, #T_ffebf_row16_col0, #T_ffebf_row16_col1, #T_ffebf_row16_col2, #T_ffebf_row16_col3, #T_ffebf_row16_col4, #T_ffebf_row16_col5, #T_ffebf_row16_col6, #T_ffebf_row17_col0, #T_ffebf_row17_col1, #T_ffebf_row17_col2, #T_ffebf_row17_col3, #T_ffebf_row17_col4, #T_ffebf_row17_col5, #T_ffebf_row17_col6, #T_ffebf_row18_col0, #T_ffebf_row18_col1, #T_ffebf_row18_col2, #T_ffebf_row18_col3, #T_ffebf_row18_col4, #T_ffebf_row18_col5, #T_ffebf_row18_col6 {\n",
       "  text-align: left;\n",
       "}\n",
       "#T_ffebf_row0_col1, #T_ffebf_row0_col2, #T_ffebf_row0_col3, #T_ffebf_row0_col4, #T_ffebf_row0_col5, #T_ffebf_row0_col6 {\n",
       "  text-align: left;\n",
       "  background-color: yellow;\n",
       "}\n",
       "#T_ffebf_row0_col7, #T_ffebf_row1_col7, #T_ffebf_row2_col7, #T_ffebf_row3_col7, #T_ffebf_row4_col7, #T_ffebf_row5_col7, #T_ffebf_row6_col7, #T_ffebf_row7_col7, #T_ffebf_row8_col7, #T_ffebf_row9_col7, #T_ffebf_row10_col7, #T_ffebf_row11_col7, #T_ffebf_row12_col7, #T_ffebf_row13_col7, #T_ffebf_row14_col7, #T_ffebf_row16_col7, #T_ffebf_row17_col7, #T_ffebf_row18_col7 {\n",
       "  text-align: left;\n",
       "  background-color: lightgrey;\n",
       "}\n",
       "#T_ffebf_row15_col7 {\n",
       "  text-align: left;\n",
       "  background-color: yellow;\n",
       "  background-color: lightgrey;\n",
       "}\n",
       "</style>\n",
       "<table id=\"T_ffebf\">\n",
       "  <thead>\n",
       "    <tr>\n",
       "      <th class=\"blank level0\" >&nbsp;</th>\n",
       "      <th id=\"T_ffebf_level0_col0\" class=\"col_heading level0 col0\" >Model</th>\n",
       "      <th id=\"T_ffebf_level0_col1\" class=\"col_heading level0 col1\" >MAE</th>\n",
       "      <th id=\"T_ffebf_level0_col2\" class=\"col_heading level0 col2\" >MSE</th>\n",
       "      <th id=\"T_ffebf_level0_col3\" class=\"col_heading level0 col3\" >RMSE</th>\n",
       "      <th id=\"T_ffebf_level0_col4\" class=\"col_heading level0 col4\" >R2</th>\n",
       "      <th id=\"T_ffebf_level0_col5\" class=\"col_heading level0 col5\" >RMSLE</th>\n",
       "      <th id=\"T_ffebf_level0_col6\" class=\"col_heading level0 col6\" >MAPE</th>\n",
       "      <th id=\"T_ffebf_level0_col7\" class=\"col_heading level0 col7\" >TT (Sec)</th>\n",
       "    </tr>\n",
       "  </thead>\n",
       "  <tbody>\n",
       "    <tr>\n",
       "      <th id=\"T_ffebf_level0_row0\" class=\"row_heading level0 row0\" >lightgbm</th>\n",
       "      <td id=\"T_ffebf_row0_col0\" class=\"data row0 col0\" >Light Gradient Boosting Machine</td>\n",
       "      <td id=\"T_ffebf_row0_col1\" class=\"data row0 col1\" >104.8565</td>\n",
       "      <td id=\"T_ffebf_row0_col2\" class=\"data row0 col2\" >22328.1710</td>\n",
       "      <td id=\"T_ffebf_row0_col3\" class=\"data row0 col3\" >149.4081</td>\n",
       "      <td id=\"T_ffebf_row0_col4\" class=\"data row0 col4\" >0.5930</td>\n",
       "      <td id=\"T_ffebf_row0_col5\" class=\"data row0 col5\" >0.4009</td>\n",
       "      <td id=\"T_ffebf_row0_col6\" class=\"data row0 col6\" >0.3583</td>\n",
       "      <td id=\"T_ffebf_row0_col7\" class=\"data row0 col7\" >0.9220</td>\n",
       "    </tr>\n",
       "    <tr>\n",
       "      <th id=\"T_ffebf_level0_row1\" class=\"row_heading level0 row1\" >xgboost</th>\n",
       "      <td id=\"T_ffebf_row1_col0\" class=\"data row1 col0\" >Extreme Gradient Boosting</td>\n",
       "      <td id=\"T_ffebf_row1_col1\" class=\"data row1 col1\" >105.2890</td>\n",
       "      <td id=\"T_ffebf_row1_col2\" class=\"data row1 col2\" >22421.7600</td>\n",
       "      <td id=\"T_ffebf_row1_col3\" class=\"data row1 col3\" >149.7201</td>\n",
       "      <td id=\"T_ffebf_row1_col4\" class=\"data row1 col4\" >0.5913</td>\n",
       "      <td id=\"T_ffebf_row1_col5\" class=\"data row1 col5\" >0.4238</td>\n",
       "      <td id=\"T_ffebf_row1_col6\" class=\"data row1 col6\" >0.3608</td>\n",
       "      <td id=\"T_ffebf_row1_col7\" class=\"data row1 col7\" >0.9370</td>\n",
       "    </tr>\n",
       "    <tr>\n",
       "      <th id=\"T_ffebf_level0_row2\" class=\"row_heading level0 row2\" >et</th>\n",
       "      <td id=\"T_ffebf_row2_col0\" class=\"data row2 col0\" >Extra Trees Regressor</td>\n",
       "      <td id=\"T_ffebf_row2_col1\" class=\"data row2 col1\" >109.3373</td>\n",
       "      <td id=\"T_ffebf_row2_col2\" class=\"data row2 col2\" >23915.1321</td>\n",
       "      <td id=\"T_ffebf_row2_col3\" class=\"data row2 col3\" >154.6148</td>\n",
       "      <td id=\"T_ffebf_row2_col4\" class=\"data row2 col4\" >0.5641</td>\n",
       "      <td id=\"T_ffebf_row2_col5\" class=\"data row2 col5\" >0.4183</td>\n",
       "      <td id=\"T_ffebf_row2_col6\" class=\"data row2 col6\" >0.3880</td>\n",
       "      <td id=\"T_ffebf_row2_col7\" class=\"data row2 col7\" >17.4190</td>\n",
       "    </tr>\n",
       "    <tr>\n",
       "      <th id=\"T_ffebf_level0_row3\" class=\"row_heading level0 row3\" >rf</th>\n",
       "      <td id=\"T_ffebf_row3_col0\" class=\"data row3 col0\" >Random Forest Regressor</td>\n",
       "      <td id=\"T_ffebf_row3_col1\" class=\"data row3 col1\" >110.7854</td>\n",
       "      <td id=\"T_ffebf_row3_col2\" class=\"data row3 col2\" >24434.7657</td>\n",
       "      <td id=\"T_ffebf_row3_col3\" class=\"data row3 col3\" >156.2870</td>\n",
       "      <td id=\"T_ffebf_row3_col4\" class=\"data row3 col4\" >0.5547</td>\n",
       "      <td id=\"T_ffebf_row3_col5\" class=\"data row3 col5\" >0.4258</td>\n",
       "      <td id=\"T_ffebf_row3_col6\" class=\"data row3 col6\" >0.3976</td>\n",
       "      <td id=\"T_ffebf_row3_col7\" class=\"data row3 col7\" >30.4800</td>\n",
       "    </tr>\n",
       "    <tr>\n",
       "      <th id=\"T_ffebf_level0_row4\" class=\"row_heading level0 row4\" >gbr</th>\n",
       "      <td id=\"T_ffebf_row4_col0\" class=\"data row4 col0\" >Gradient Boosting Regressor</td>\n",
       "      <td id=\"T_ffebf_row4_col1\" class=\"data row4 col1\" >113.0925</td>\n",
       "      <td id=\"T_ffebf_row4_col2\" class=\"data row4 col2\" >25166.2398</td>\n",
       "      <td id=\"T_ffebf_row4_col3\" class=\"data row4 col3\" >158.6144</td>\n",
       "      <td id=\"T_ffebf_row4_col4\" class=\"data row4 col4\" >0.5414</td>\n",
       "      <td id=\"T_ffebf_row4_col5\" class=\"data row4 col5\" >0.4304</td>\n",
       "      <td id=\"T_ffebf_row4_col6\" class=\"data row4 col6\" >0.3951</td>\n",
       "      <td id=\"T_ffebf_row4_col7\" class=\"data row4 col7\" >5.7770</td>\n",
       "    </tr>\n",
       "    <tr>\n",
       "      <th id=\"T_ffebf_level0_row5\" class=\"row_heading level0 row5\" >ridge</th>\n",
       "      <td id=\"T_ffebf_row5_col0\" class=\"data row5 col0\" >Ridge Regression</td>\n",
       "      <td id=\"T_ffebf_row5_col1\" class=\"data row5 col1\" >129.1917</td>\n",
       "      <td id=\"T_ffebf_row5_col2\" class=\"data row5 col2\" >31335.1584</td>\n",
       "      <td id=\"T_ffebf_row5_col3\" class=\"data row5 col3\" >176.9584</td>\n",
       "      <td id=\"T_ffebf_row5_col4\" class=\"data row5 col4\" >0.4293</td>\n",
       "      <td id=\"T_ffebf_row5_col5\" class=\"data row5 col5\" >0.5361</td>\n",
       "      <td id=\"T_ffebf_row5_col6\" class=\"data row5 col6\" >0.4744</td>\n",
       "      <td id=\"T_ffebf_row5_col7\" class=\"data row5 col7\" >0.0310</td>\n",
       "    </tr>\n",
       "    <tr>\n",
       "      <th id=\"T_ffebf_level0_row6\" class=\"row_heading level0 row6\" >br</th>\n",
       "      <td id=\"T_ffebf_row6_col0\" class=\"data row6 col0\" >Bayesian Ridge</td>\n",
       "      <td id=\"T_ffebf_row6_col1\" class=\"data row6 col1\" >129.1985</td>\n",
       "      <td id=\"T_ffebf_row6_col2\" class=\"data row6 col2\" >31331.7076</td>\n",
       "      <td id=\"T_ffebf_row6_col3\" class=\"data row6 col3\" >176.9488</td>\n",
       "      <td id=\"T_ffebf_row6_col4\" class=\"data row6 col4\" >0.4293</td>\n",
       "      <td id=\"T_ffebf_row6_col5\" class=\"data row6 col5\" >0.5350</td>\n",
       "      <td id=\"T_ffebf_row6_col6\" class=\"data row6 col6\" >0.4745</td>\n",
       "      <td id=\"T_ffebf_row6_col7\" class=\"data row6 col7\" >0.0670</td>\n",
       "    </tr>\n",
       "    <tr>\n",
       "      <th id=\"T_ffebf_level0_row7\" class=\"row_heading level0 row7\" >lr</th>\n",
       "      <td id=\"T_ffebf_row7_col0\" class=\"data row7 col0\" >Linear Regression</td>\n",
       "      <td id=\"T_ffebf_row7_col1\" class=\"data row7 col1\" >129.2887</td>\n",
       "      <td id=\"T_ffebf_row7_col2\" class=\"data row7 col2\" >31346.2922</td>\n",
       "      <td id=\"T_ffebf_row7_col3\" class=\"data row7 col3\" >176.9903</td>\n",
       "      <td id=\"T_ffebf_row7_col4\" class=\"data row7 col4\" >0.4291</td>\n",
       "      <td id=\"T_ffebf_row7_col5\" class=\"data row7 col5\" >0.5331</td>\n",
       "      <td id=\"T_ffebf_row7_col6\" class=\"data row7 col6\" >0.4752</td>\n",
       "      <td id=\"T_ffebf_row7_col7\" class=\"data row7 col7\" >0.7280</td>\n",
       "    </tr>\n",
       "    <tr>\n",
       "      <th id=\"T_ffebf_level0_row8\" class=\"row_heading level0 row8\" >lar</th>\n",
       "      <td id=\"T_ffebf_row8_col0\" class=\"data row8 col0\" >Least Angle Regression</td>\n",
       "      <td id=\"T_ffebf_row8_col1\" class=\"data row8 col1\" >132.2171</td>\n",
       "      <td id=\"T_ffebf_row8_col2\" class=\"data row8 col2\" >32474.1531</td>\n",
       "      <td id=\"T_ffebf_row8_col3\" class=\"data row8 col3\" >180.1629</td>\n",
       "      <td id=\"T_ffebf_row8_col4\" class=\"data row8 col4\" >0.4083</td>\n",
       "      <td id=\"T_ffebf_row8_col5\" class=\"data row8 col5\" >0.5713</td>\n",
       "      <td id=\"T_ffebf_row8_col6\" class=\"data row8 col6\" >0.4903</td>\n",
       "      <td id=\"T_ffebf_row8_col7\" class=\"data row8 col7\" >0.0340</td>\n",
       "    </tr>\n",
       "    <tr>\n",
       "      <th id=\"T_ffebf_level0_row9\" class=\"row_heading level0 row9\" >llar</th>\n",
       "      <td id=\"T_ffebf_row9_col0\" class=\"data row9 col0\" >Lasso Least Angle Regression</td>\n",
       "      <td id=\"T_ffebf_row9_col1\" class=\"data row9 col1\" >132.8168</td>\n",
       "      <td id=\"T_ffebf_row9_col2\" class=\"data row9 col2\" >33033.9531</td>\n",
       "      <td id=\"T_ffebf_row9_col3\" class=\"data row9 col3\" >181.6902</td>\n",
       "      <td id=\"T_ffebf_row9_col4\" class=\"data row9 col4\" >0.3983</td>\n",
       "      <td id=\"T_ffebf_row9_col5\" class=\"data row9 col5\" >0.5216</td>\n",
       "      <td id=\"T_ffebf_row9_col6\" class=\"data row9 col6\" >0.4983</td>\n",
       "      <td id=\"T_ffebf_row9_col7\" class=\"data row9 col7\" >0.0320</td>\n",
       "    </tr>\n",
       "    <tr>\n",
       "      <th id=\"T_ffebf_level0_row10\" class=\"row_heading level0 row10\" >lasso</th>\n",
       "      <td id=\"T_ffebf_row10_col0\" class=\"data row10 col0\" >Lasso Regression</td>\n",
       "      <td id=\"T_ffebf_row10_col1\" class=\"data row10 col1\" >132.8169</td>\n",
       "      <td id=\"T_ffebf_row10_col2\" class=\"data row10 col2\" >33034.0256</td>\n",
       "      <td id=\"T_ffebf_row10_col3\" class=\"data row10 col3\" >181.6904</td>\n",
       "      <td id=\"T_ffebf_row10_col4\" class=\"data row10 col4\" >0.3983</td>\n",
       "      <td id=\"T_ffebf_row10_col5\" class=\"data row10 col5\" >0.5216</td>\n",
       "      <td id=\"T_ffebf_row10_col6\" class=\"data row10 col6\" >0.4983</td>\n",
       "      <td id=\"T_ffebf_row10_col7\" class=\"data row10 col7\" >0.0460</td>\n",
       "    </tr>\n",
       "    <tr>\n",
       "      <th id=\"T_ffebf_level0_row11\" class=\"row_heading level0 row11\" >en</th>\n",
       "      <td id=\"T_ffebf_row11_col0\" class=\"data row11 col0\" >Elastic Net</td>\n",
       "      <td id=\"T_ffebf_row11_col1\" class=\"data row11 col1\" >144.1102</td>\n",
       "      <td id=\"T_ffebf_row11_col2\" class=\"data row11 col2\" >37761.5906</td>\n",
       "      <td id=\"T_ffebf_row11_col3\" class=\"data row11 col3\" >194.2851</td>\n",
       "      <td id=\"T_ffebf_row11_col4\" class=\"data row11 col4\" >0.3121</td>\n",
       "      <td id=\"T_ffebf_row11_col5\" class=\"data row11 col5\" >0.5521</td>\n",
       "      <td id=\"T_ffebf_row11_col6\" class=\"data row11 col6\" >0.5665</td>\n",
       "      <td id=\"T_ffebf_row11_col7\" class=\"data row11 col7\" >0.0440</td>\n",
       "    </tr>\n",
       "    <tr>\n",
       "      <th id=\"T_ffebf_level0_row12\" class=\"row_heading level0 row12\" >dt</th>\n",
       "      <td id=\"T_ffebf_row12_col0\" class=\"data row12 col0\" >Decision Tree Regressor</td>\n",
       "      <td id=\"T_ffebf_row12_col1\" class=\"data row12 col1\" >154.7462</td>\n",
       "      <td id=\"T_ffebf_row12_col2\" class=\"data row12 col2\" >51474.0464</td>\n",
       "      <td id=\"T_ffebf_row12_col3\" class=\"data row12 col3\" >226.8083</td>\n",
       "      <td id=\"T_ffebf_row12_col4\" class=\"data row12 col4\" >0.0621</td>\n",
       "      <td id=\"T_ffebf_row12_col5\" class=\"data row12 col5\" >0.5868</td>\n",
       "      <td id=\"T_ffebf_row12_col6\" class=\"data row12 col6\" >0.5221</td>\n",
       "      <td id=\"T_ffebf_row12_col7\" class=\"data row12 col7\" >0.4820</td>\n",
       "    </tr>\n",
       "    <tr>\n",
       "      <th id=\"T_ffebf_level0_row13\" class=\"row_heading level0 row13\" >ada</th>\n",
       "      <td id=\"T_ffebf_row13_col0\" class=\"data row13 col0\" >AdaBoost Regressor</td>\n",
       "      <td id=\"T_ffebf_row13_col1\" class=\"data row13 col1\" >201.0324</td>\n",
       "      <td id=\"T_ffebf_row13_col2\" class=\"data row13 col2\" >51757.0451</td>\n",
       "      <td id=\"T_ffebf_row13_col3\" class=\"data row13 col3\" >227.3165</td>\n",
       "      <td id=\"T_ffebf_row13_col4\" class=\"data row13 col4\" >0.0576</td>\n",
       "      <td id=\"T_ffebf_row13_col5\" class=\"data row13 col5\" >0.7092</td>\n",
       "      <td id=\"T_ffebf_row13_col6\" class=\"data row13 col6\" >0.9509</td>\n",
       "      <td id=\"T_ffebf_row13_col7\" class=\"data row13 col7\" >2.5010</td>\n",
       "    </tr>\n",
       "    <tr>\n",
       "      <th id=\"T_ffebf_level0_row14\" class=\"row_heading level0 row14\" >knn</th>\n",
       "      <td id=\"T_ffebf_row14_col0\" class=\"data row14 col0\" >K Neighbors Regressor</td>\n",
       "      <td id=\"T_ffebf_row14_col1\" class=\"data row14 col1\" >171.9953</td>\n",
       "      <td id=\"T_ffebf_row14_col2\" class=\"data row14 col2\" >52621.9066</td>\n",
       "      <td id=\"T_ffebf_row14_col3\" class=\"data row14 col3\" >229.3574</td>\n",
       "      <td id=\"T_ffebf_row14_col4\" class=\"data row14 col4\" >0.0412</td>\n",
       "      <td id=\"T_ffebf_row14_col5\" class=\"data row14 col5\" >0.6481</td>\n",
       "      <td id=\"T_ffebf_row14_col6\" class=\"data row14 col6\" >0.6814</td>\n",
       "      <td id=\"T_ffebf_row14_col7\" class=\"data row14 col7\" >0.2860</td>\n",
       "    </tr>\n",
       "    <tr>\n",
       "      <th id=\"T_ffebf_level0_row15\" class=\"row_heading level0 row15\" >omp</th>\n",
       "      <td id=\"T_ffebf_row15_col0\" class=\"data row15 col0\" >Orthogonal Matching Pursuit</td>\n",
       "      <td id=\"T_ffebf_row15_col1\" class=\"data row15 col1\" >178.2930</td>\n",
       "      <td id=\"T_ffebf_row15_col2\" class=\"data row15 col2\" >52973.6938</td>\n",
       "      <td id=\"T_ffebf_row15_col3\" class=\"data row15 col3\" >230.1331</td>\n",
       "      <td id=\"T_ffebf_row15_col4\" class=\"data row15 col4\" >0.0350</td>\n",
       "      <td id=\"T_ffebf_row15_col5\" class=\"data row15 col5\" >0.6566</td>\n",
       "      <td id=\"T_ffebf_row15_col6\" class=\"data row15 col6\" >0.7346</td>\n",
       "      <td id=\"T_ffebf_row15_col7\" class=\"data row15 col7\" >0.0290</td>\n",
       "    </tr>\n",
       "    <tr>\n",
       "      <th id=\"T_ffebf_level0_row16\" class=\"row_heading level0 row16\" >huber</th>\n",
       "      <td id=\"T_ffebf_row16_col0\" class=\"data row16 col0\" >Huber Regressor</td>\n",
       "      <td id=\"T_ffebf_row16_col1\" class=\"data row16 col1\" >164.2231</td>\n",
       "      <td id=\"T_ffebf_row16_col2\" class=\"data row16 col2\" >54423.8976</td>\n",
       "      <td id=\"T_ffebf_row16_col3\" class=\"data row16 col3\" >233.2472</td>\n",
       "      <td id=\"T_ffebf_row16_col4\" class=\"data row16 col4\" >0.0088</td>\n",
       "      <td id=\"T_ffebf_row16_col5\" class=\"data row16 col5\" >0.6130</td>\n",
       "      <td id=\"T_ffebf_row16_col6\" class=\"data row16 col6\" >0.5527</td>\n",
       "      <td id=\"T_ffebf_row16_col7\" class=\"data row16 col7\" >1.3130</td>\n",
       "    </tr>\n",
       "    <tr>\n",
       "      <th id=\"T_ffebf_level0_row17\" class=\"row_heading level0 row17\" >dummy</th>\n",
       "      <td id=\"T_ffebf_row17_col0\" class=\"data row17 col0\" >Dummy Regressor</td>\n",
       "      <td id=\"T_ffebf_row17_col1\" class=\"data row17 col1\" >182.6139</td>\n",
       "      <td id=\"T_ffebf_row17_col2\" class=\"data row17 col2\" >54917.9375</td>\n",
       "      <td id=\"T_ffebf_row17_col3\" class=\"data row17 col3\" >234.3200</td>\n",
       "      <td id=\"T_ffebf_row17_col4\" class=\"data row17 col4\" >-0.0004</td>\n",
       "      <td id=\"T_ffebf_row17_col5\" class=\"data row17 col5\" >0.6691</td>\n",
       "      <td id=\"T_ffebf_row17_col6\" class=\"data row17 col6\" >0.7545</td>\n",
       "      <td id=\"T_ffebf_row17_col7\" class=\"data row17 col7\" >0.0300</td>\n",
       "    </tr>\n",
       "    <tr>\n",
       "      <th id=\"T_ffebf_level0_row18\" class=\"row_heading level0 row18\" >par</th>\n",
       "      <td id=\"T_ffebf_row18_col0\" class=\"data row18 col0\" >Passive Aggressive Regressor</td>\n",
       "      <td id=\"T_ffebf_row18_col1\" class=\"data row18 col1\" >270.3393</td>\n",
       "      <td id=\"T_ffebf_row18_col2\" class=\"data row18 col2\" >145052.6809</td>\n",
       "      <td id=\"T_ffebf_row18_col3\" class=\"data row18 col3\" >362.7056</td>\n",
       "      <td id=\"T_ffebf_row18_col4\" class=\"data row18 col4\" >-1.6242</td>\n",
       "      <td id=\"T_ffebf_row18_col5\" class=\"data row18 col5\" >1.0020</td>\n",
       "      <td id=\"T_ffebf_row18_col6\" class=\"data row18 col6\" >1.1216</td>\n",
       "      <td id=\"T_ffebf_row18_col7\" class=\"data row18 col7\" >0.1380</td>\n",
       "    </tr>\n",
       "  </tbody>\n",
       "</table>\n"
      ],
      "text/plain": [
       "<pandas.io.formats.style.Styler at 0x26f7241dfd0>"
      ]
     },
     "metadata": {},
     "output_type": "display_data"
    },
    {
     "data": {
      "text/html": [],
      "text/plain": [
       "<IPython.core.display.HTML object>"
      ]
     },
     "metadata": {},
     "output_type": "display_data"
    }
   ],
   "source": [
    "reg_setup = setup(\n",
    "    data=df_train, \n",
    "    test_data=df_test,\n",
    "    target=\"price\",\n",
    "    index=False,\n",
    "    preprocess=False, \n",
    "    session_id=75, \n",
    "    profile=True\n",
    ")\n",
    "best_model = compare_models()"
   ]
  },
  {
   "cell_type": "markdown",
   "metadata": {},
   "source": [
    "# 3. Ajuste de hiperparâmetros\n",
    "\n",
    "Usando o modelo padrão que apresentou as melhores métricas, escolheremos os melhores hiperparâmetros para o lightgbm. Utilizaremos o método Baysean search para definir o espaço de busca."
   ]
  },
  {
   "cell_type": "code",
   "execution_count": 7,
   "metadata": {},
   "outputs": [
    {
     "data": {
      "text/html": [],
      "text/plain": [
       "<IPython.core.display.HTML object>"
      ]
     },
     "metadata": {},
     "output_type": "display_data"
    },
    {
     "data": {
      "text/html": [
       "<style type=\"text/css\">\n",
       "#T_39f93_row10_col0, #T_39f93_row10_col1, #T_39f93_row10_col2, #T_39f93_row10_col3, #T_39f93_row10_col4, #T_39f93_row10_col5 {\n",
       "  background: yellow;\n",
       "}\n",
       "</style>\n",
       "<table id=\"T_39f93\">\n",
       "  <thead>\n",
       "    <tr>\n",
       "      <th class=\"blank level0\" >&nbsp;</th>\n",
       "      <th id=\"T_39f93_level0_col0\" class=\"col_heading level0 col0\" >MAE</th>\n",
       "      <th id=\"T_39f93_level0_col1\" class=\"col_heading level0 col1\" >MSE</th>\n",
       "      <th id=\"T_39f93_level0_col2\" class=\"col_heading level0 col2\" >RMSE</th>\n",
       "      <th id=\"T_39f93_level0_col3\" class=\"col_heading level0 col3\" >R2</th>\n",
       "      <th id=\"T_39f93_level0_col4\" class=\"col_heading level0 col4\" >RMSLE</th>\n",
       "      <th id=\"T_39f93_level0_col5\" class=\"col_heading level0 col5\" >MAPE</th>\n",
       "    </tr>\n",
       "    <tr>\n",
       "      <th class=\"index_name level0\" >Fold</th>\n",
       "      <th class=\"blank col0\" >&nbsp;</th>\n",
       "      <th class=\"blank col1\" >&nbsp;</th>\n",
       "      <th class=\"blank col2\" >&nbsp;</th>\n",
       "      <th class=\"blank col3\" >&nbsp;</th>\n",
       "      <th class=\"blank col4\" >&nbsp;</th>\n",
       "      <th class=\"blank col5\" >&nbsp;</th>\n",
       "    </tr>\n",
       "  </thead>\n",
       "  <tbody>\n",
       "    <tr>\n",
       "      <th id=\"T_39f93_level0_row0\" class=\"row_heading level0 row0\" >0</th>\n",
       "      <td id=\"T_39f93_row0_col0\" class=\"data row0 col0\" >102.1262</td>\n",
       "      <td id=\"T_39f93_row0_col1\" class=\"data row0 col1\" >21649.4917</td>\n",
       "      <td id=\"T_39f93_row0_col2\" class=\"data row0 col2\" >147.1377</td>\n",
       "      <td id=\"T_39f93_row0_col3\" class=\"data row0 col3\" >0.6045</td>\n",
       "      <td id=\"T_39f93_row0_col4\" class=\"data row0 col4\" >0.3925</td>\n",
       "      <td id=\"T_39f93_row0_col5\" class=\"data row0 col5\" >0.3493</td>\n",
       "    </tr>\n",
       "    <tr>\n",
       "      <th id=\"T_39f93_level0_row1\" class=\"row_heading level0 row1\" >1</th>\n",
       "      <td id=\"T_39f93_row1_col0\" class=\"data row1 col0\" >99.5593</td>\n",
       "      <td id=\"T_39f93_row1_col1\" class=\"data row1 col1\" >20157.8603</td>\n",
       "      <td id=\"T_39f93_row1_col2\" class=\"data row1 col2\" >141.9784</td>\n",
       "      <td id=\"T_39f93_row1_col3\" class=\"data row1 col3\" >0.6356</td>\n",
       "      <td id=\"T_39f93_row1_col4\" class=\"data row1 col4\" >0.3866</td>\n",
       "      <td id=\"T_39f93_row1_col5\" class=\"data row1 col5\" >0.3428</td>\n",
       "    </tr>\n",
       "    <tr>\n",
       "      <th id=\"T_39f93_level0_row2\" class=\"row_heading level0 row2\" >2</th>\n",
       "      <td id=\"T_39f93_row2_col0\" class=\"data row2 col0\" >99.8725</td>\n",
       "      <td id=\"T_39f93_row2_col1\" class=\"data row2 col1\" >20939.5598</td>\n",
       "      <td id=\"T_39f93_row2_col2\" class=\"data row2 col2\" >144.7051</td>\n",
       "      <td id=\"T_39f93_row2_col3\" class=\"data row2 col3\" >0.6033</td>\n",
       "      <td id=\"T_39f93_row2_col4\" class=\"data row2 col4\" >0.3819</td>\n",
       "      <td id=\"T_39f93_row2_col5\" class=\"data row2 col5\" >0.3375</td>\n",
       "    </tr>\n",
       "    <tr>\n",
       "      <th id=\"T_39f93_level0_row3\" class=\"row_heading level0 row3\" >3</th>\n",
       "      <td id=\"T_39f93_row3_col0\" class=\"data row3 col0\" >100.8794</td>\n",
       "      <td id=\"T_39f93_row3_col1\" class=\"data row3 col1\" >20941.4715</td>\n",
       "      <td id=\"T_39f93_row3_col2\" class=\"data row3 col2\" >144.7117</td>\n",
       "      <td id=\"T_39f93_row3_col3\" class=\"data row3 col3\" >0.6271</td>\n",
       "      <td id=\"T_39f93_row3_col4\" class=\"data row3 col4\" >0.3792</td>\n",
       "      <td id=\"T_39f93_row3_col5\" class=\"data row3 col5\" >0.3296</td>\n",
       "    </tr>\n",
       "    <tr>\n",
       "      <th id=\"T_39f93_level0_row4\" class=\"row_heading level0 row4\" >4</th>\n",
       "      <td id=\"T_39f93_row4_col0\" class=\"data row4 col0\" >102.2066</td>\n",
       "      <td id=\"T_39f93_row4_col1\" class=\"data row4 col1\" >21355.6823</td>\n",
       "      <td id=\"T_39f93_row4_col2\" class=\"data row4 col2\" >146.1358</td>\n",
       "      <td id=\"T_39f93_row4_col3\" class=\"data row4 col3\" >0.6198</td>\n",
       "      <td id=\"T_39f93_row4_col4\" class=\"data row4 col4\" >0.3839</td>\n",
       "      <td id=\"T_39f93_row4_col5\" class=\"data row4 col5\" >0.3361</td>\n",
       "    </tr>\n",
       "    <tr>\n",
       "      <th id=\"T_39f93_level0_row5\" class=\"row_heading level0 row5\" >5</th>\n",
       "      <td id=\"T_39f93_row5_col0\" class=\"data row5 col0\" >100.2025</td>\n",
       "      <td id=\"T_39f93_row5_col1\" class=\"data row5 col1\" >21042.8337</td>\n",
       "      <td id=\"T_39f93_row5_col2\" class=\"data row5 col2\" >145.0615</td>\n",
       "      <td id=\"T_39f93_row5_col3\" class=\"data row5 col3\" >0.6390</td>\n",
       "      <td id=\"T_39f93_row5_col4\" class=\"data row5 col4\" >0.3835</td>\n",
       "      <td id=\"T_39f93_row5_col5\" class=\"data row5 col5\" >0.3421</td>\n",
       "    </tr>\n",
       "    <tr>\n",
       "      <th id=\"T_39f93_level0_row6\" class=\"row_heading level0 row6\" >6</th>\n",
       "      <td id=\"T_39f93_row6_col0\" class=\"data row6 col0\" >100.2273</td>\n",
       "      <td id=\"T_39f93_row6_col1\" class=\"data row6 col1\" >20742.4243</td>\n",
       "      <td id=\"T_39f93_row6_col2\" class=\"data row6 col2\" >144.0223</td>\n",
       "      <td id=\"T_39f93_row6_col3\" class=\"data row6 col3\" >0.6083</td>\n",
       "      <td id=\"T_39f93_row6_col4\" class=\"data row6 col4\" >0.3927</td>\n",
       "      <td id=\"T_39f93_row6_col5\" class=\"data row6 col5\" >0.3507</td>\n",
       "    </tr>\n",
       "    <tr>\n",
       "      <th id=\"T_39f93_level0_row7\" class=\"row_heading level0 row7\" >7</th>\n",
       "      <td id=\"T_39f93_row7_col0\" class=\"data row7 col0\" >98.7720</td>\n",
       "      <td id=\"T_39f93_row7_col1\" class=\"data row7 col1\" >19753.9951</td>\n",
       "      <td id=\"T_39f93_row7_col2\" class=\"data row7 col2\" >140.5489</td>\n",
       "      <td id=\"T_39f93_row7_col3\" class=\"data row7 col3\" >0.6281</td>\n",
       "      <td id=\"T_39f93_row7_col4\" class=\"data row7 col4\" >0.3809</td>\n",
       "      <td id=\"T_39f93_row7_col5\" class=\"data row7 col5\" >0.3385</td>\n",
       "    </tr>\n",
       "    <tr>\n",
       "      <th id=\"T_39f93_level0_row8\" class=\"row_heading level0 row8\" >8</th>\n",
       "      <td id=\"T_39f93_row8_col0\" class=\"data row8 col0\" >104.6027</td>\n",
       "      <td id=\"T_39f93_row8_col1\" class=\"data row8 col1\" >22380.7409</td>\n",
       "      <td id=\"T_39f93_row8_col2\" class=\"data row8 col2\" >149.6019</td>\n",
       "      <td id=\"T_39f93_row8_col3\" class=\"data row8 col3\" >0.5942</td>\n",
       "      <td id=\"T_39f93_row8_col4\" class=\"data row8 col4\" >0.3949</td>\n",
       "      <td id=\"T_39f93_row8_col5\" class=\"data row8 col5\" >0.3497</td>\n",
       "    </tr>\n",
       "    <tr>\n",
       "      <th id=\"T_39f93_level0_row9\" class=\"row_heading level0 row9\" >9</th>\n",
       "      <td id=\"T_39f93_row9_col0\" class=\"data row9 col0\" >101.9772</td>\n",
       "      <td id=\"T_39f93_row9_col1\" class=\"data row9 col1\" >21660.0812</td>\n",
       "      <td id=\"T_39f93_row9_col2\" class=\"data row9 col2\" >147.1736</td>\n",
       "      <td id=\"T_39f93_row9_col3\" class=\"data row9 col3\" >0.6012</td>\n",
       "      <td id=\"T_39f93_row9_col4\" class=\"data row9 col4\" >0.3909</td>\n",
       "      <td id=\"T_39f93_row9_col5\" class=\"data row9 col5\" >0.3490</td>\n",
       "    </tr>\n",
       "    <tr>\n",
       "      <th id=\"T_39f93_level0_row10\" class=\"row_heading level0 row10\" >Mean</th>\n",
       "      <td id=\"T_39f93_row10_col0\" class=\"data row10 col0\" >101.0426</td>\n",
       "      <td id=\"T_39f93_row10_col1\" class=\"data row10 col1\" >21062.4141</td>\n",
       "      <td id=\"T_39f93_row10_col2\" class=\"data row10 col2\" >145.1077</td>\n",
       "      <td id=\"T_39f93_row10_col3\" class=\"data row10 col3\" >0.6161</td>\n",
       "      <td id=\"T_39f93_row10_col4\" class=\"data row10 col4\" >0.3867</td>\n",
       "      <td id=\"T_39f93_row10_col5\" class=\"data row10 col5\" >0.3425</td>\n",
       "    </tr>\n",
       "    <tr>\n",
       "      <th id=\"T_39f93_level0_row11\" class=\"row_heading level0 row11\" >Std</th>\n",
       "      <td id=\"T_39f93_row11_col0\" class=\"data row11 col0\" >1.6186</td>\n",
       "      <td id=\"T_39f93_row11_col1\" class=\"data row11 col1\" >720.3147</td>\n",
       "      <td id=\"T_39f93_row11_col2\" class=\"data row11 col2\" >2.4843</td>\n",
       "      <td id=\"T_39f93_row11_col3\" class=\"data row11 col3\" >0.0150</td>\n",
       "      <td id=\"T_39f93_row11_col4\" class=\"data row11 col4\" >0.0053</td>\n",
       "      <td id=\"T_39f93_row11_col5\" class=\"data row11 col5\" >0.0067</td>\n",
       "    </tr>\n",
       "  </tbody>\n",
       "</table>\n"
      ],
      "text/plain": [
       "<pandas.io.formats.style.Styler at 0x26f6abb5ad0>"
      ]
     },
     "metadata": {},
     "output_type": "display_data"
    },
    {
     "data": {
      "text/html": [],
      "text/plain": [
       "<IPython.core.display.HTML object>"
      ]
     },
     "metadata": {},
     "output_type": "display_data"
    },
    {
     "name": "stdout",
     "output_type": "stream",
     "text": [
      "Fitting 10 folds for each of 1 candidates, totalling 10 fits\n",
      "Fitting 10 folds for each of 1 candidates, totalling 10 fits\n",
      "Fitting 10 folds for each of 1 candidates, totalling 10 fits\n",
      "Fitting 10 folds for each of 1 candidates, totalling 10 fits\n",
      "Fitting 10 folds for each of 1 candidates, totalling 10 fits\n",
      "Fitting 10 folds for each of 1 candidates, totalling 10 fits\n",
      "Fitting 10 folds for each of 1 candidates, totalling 10 fits\n",
      "Fitting 10 folds for each of 1 candidates, totalling 10 fits\n",
      "Fitting 10 folds for each of 1 candidates, totalling 10 fits\n",
      "Fitting 10 folds for each of 1 candidates, totalling 10 fits\n"
     ]
    }
   ],
   "source": [
    "tuned_model = tune_model(best_model, search_library=\"scikit-optimize\")"
   ]
  },
  {
   "cell_type": "markdown",
   "metadata": {},
   "source": [
    "# 4. Treino completo\n",
    "\n",
    "Agora que o modelo está otimizado, retreinamos utilizando todos dados disponíveis."
   ]
  },
  {
   "cell_type": "code",
   "execution_count": 8,
   "metadata": {},
   "outputs": [
    {
     "name": "stdout",
     "output_type": "stream",
     "text": [
      "Model Successfully Saved\n"
     ]
    }
   ],
   "source": [
    "final_model = finalize_model(tuned_model)\n",
    "model, filepath = save_model(final_model.steps[-1][1], MODELS_DIR / \"auto_ml\", model_only=True)"
   ]
  },
  {
   "cell_type": "markdown",
   "metadata": {},
   "source": [
    "# 5. Interpretação dos resultados\n",
    "\n",
    "## 5.1 Feature importance\n",
    "\n",
    "- `longitude` e `latitude` aparecem como as mais importantes no modelo, nessa ordem. Isso sugere que a localização geográfica tem um impacto significativo no modelo.\n",
    "- `days_since_last_review` também tem alta importância. Propriedades que receberam avaliações mais recentes podem ser vistas como mais ativas ou confiáveis.\n",
    "- `availability_365` reflete a importância da disponibilidade anual da propriedade no modelo.\n",
    "- `days_since_host_active` sugere que anfitriões mais ativos tornam as propriedades mais atraentes.\n",
    "- `reviews_per_month` indica que propriedades com mais avaliações mensais são mais populares.\n",
    "- `num_amenities` mostra que mais comodidades aumentam a atratividade da propriedade.\n",
    "- `description_length` sugere que descrições mais detalhadas ajudam a melhorar a taxa de reservas.\n",
    "- `host_acceptance_rate` indica que anfitriões com alta taxa de aceitação recebem mais reservas.\n",
    "- `days_since_first_review` tem pouco impacto, mas pode refletir a experiência da propriedade na plataforma."
   ]
  },
  {
   "cell_type": "code",
   "execution_count": 9,
   "metadata": {},
   "outputs": [
    {
     "name": "stdout",
     "output_type": "stream",
     "text": [
      "Transformation Pipeline and Model Successfully Loaded\n"
     ]
    },
    {
     "data": {
      "text/html": [],
      "text/plain": [
       "<IPython.core.display.HTML object>"
      ]
     },
     "metadata": {},
     "output_type": "display_data"
    },
    {
     "data": {
      "image/png": "[encoded data removed]",
      "text/plain": [
       "<Figure size 800x500 with 1 Axes>"
      ]
     },
     "metadata": {},
     "output_type": "display_data"
    }
   ],
   "source": [
    "model = load_model(MODELS_DIR / \"auto_ml\")\n",
    "plot_model(model, plot='feature')"
   ]
  },
  {
   "cell_type": "markdown",
   "metadata": {},
   "source": [
    "## 5.2 Beeswarm plot\n",
    "\n",
    "- `latitude`: Valores mais altos de latitude tendem a diminuir a previsão do modelo, enquanto valores mais baixos aumentam, sugerindo que imóveis localizados em áreas mais ao sul são mais valorizados.\n",
    "- `longitude`: Valores mais altos de longitude aumentam a previsão, enquanto valores mais baixos a diminuem, sugerindo que imóveis mais a leste são considerados mais valiosos.\n",
    "- `bedrooms`: Quanto mais quartos, maior o impacto positivo na previsão, indicando que o número de quartos contribui diretamente para o aumento do preço da propriedade.\n",
    "- `days_since_last_review`: Quanto mais recente a última avaliação, menor o preço previsto. Isso sugere que propriedades com avaliações recentes podem ter preços mais baixos devido à maior rotatividade.\n",
    "- `bathrooms`: Mais banheiros tendem a aumentar a previsão do preço, o que é esperado, já que um maior número de banheiros geralmente está associado a propriedades mais caras.\n",
    "- `accommodates`: A capacidade de acomodação tem um impacto positivo na previsão, onde mais capacidade está associada a preços mais altos.\n",
    "- `host_responded`: Quando o anfitrião responde, isso tende a reduzir o preço, possivelmente indicando que há negociação ou maior flexibilidade de preços.\n",
    "- `reviews_per_month`: Um maior número de avaliações mensais está associado a uma diminuição no preço, o que pode indicar uma alta demanda por propriedades mais acessíveis.\n",
    "- `number_of_reviews`: Um maior número total de avaliações parece ter um impacto negativo na previsão, sugerindo que propriedades com muitas avaliações podem ter preços mais baixos, talvez devido a uma maior rotatividade ou acessibilidade.\n",
    "- `room_type_private_room`: Quartos privados tendem a ter um impacto negativo na previsão em comparação a outros tipos de quartos, indicando que são tipicamente mais baratos. "
   ]
  },
  {
   "cell_type": "code",
   "execution_count": 10,
   "metadata": {},
   "outputs": [
    {
     "data": {
      "image/png": "[encoded data removed]",
      "text/plain": [
       "<Figure size 800x550 with 2 Axes>"
      ]
     },
     "metadata": {},
     "output_type": "display_data"
    }
   ],
   "source": [
    "interpret_model(model, max_display=10)"
   ]
  },
  {
   "cell_type": "code",
   "execution_count": 11,
   "metadata": {},
   "outputs": [
    {
     "name": "stdout",
     "output_type": "stream",
     "text": [
      "[LightGBM] [Warning] feature_fraction is set=0.7709828932730298, colsample_bytree=1.0 will be ignored. Current value: feature_fraction=0.7709828932730298\n",
      "[LightGBM] [Warning] bagging_fraction is set=0.9568332467165983, subsample=1.0 will be ignored. Current value: bagging_fraction=0.9568332467165983\n",
      "[LightGBM] [Warning] bagging_freq is set=5, subsample_freq=0 will be ignored. Current value: bagging_freq=5\n",
      "[LightGBM] [Warning] feature_fraction is set=0.7709828932730298, colsample_bytree=1.0 will be ignored. Current value: feature_fraction=0.7709828932730298\n",
      "[LightGBM] [Warning] bagging_fraction is set=0.9568332467165983, subsample=1.0 will be ignored. Current value: bagging_fraction=0.9568332467165983\n",
      "[LightGBM] [Warning] bagging_freq is set=5, subsample_freq=0 will be ignored. Current value: bagging_freq=5\n",
      "[LightGBM] [Warning] feature_fraction is set=0.7709828932730298, colsample_bytree=1.0 will be ignored. Current value: feature_fraction=0.7709828932730298\n",
      "[LightGBM] [Warning] bagging_fraction is set=0.9568332467165983, subsample=1.0 will be ignored. Current value: bagging_fraction=0.9568332467165983\n",
      "[LightGBM] [Warning] bagging_freq is set=5, subsample_freq=0 will be ignored. Current value: bagging_freq=5\n",
      "[LightGBM] [Warning] feature_fraction is set=0.7709828932730298, colsample_bytree=1.0 will be ignored. Current value: feature_fraction=0.7709828932730298\n",
      "[LightGBM] [Warning] bagging_fraction is set=0.9568332467165983, subsample=1.0 will be ignored. Current value: bagging_fraction=0.9568332467165983\n",
      "[LightGBM] [Warning] bagging_freq is set=5, subsample_freq=0 will be ignored. Current value: bagging_freq=5\n",
      "[LightGBM] [Warning] feature_fraction is set=0.7709828932730298, colsample_bytree=1.0 will be ignored. Current value: feature_fraction=0.7709828932730298\n",
      "[LightGBM] [Warning] bagging_fraction is set=0.9568332467165983, subsample=1.0 will be ignored. Current value: bagging_fraction=0.9568332467165983\n",
      "[LightGBM] [Warning] bagging_freq is set=5, subsample_freq=0 will be ignored. Current value: bagging_freq=5\n",
      "[LightGBM] [Warning] feature_fraction is set=0.7709828932730298, colsample_bytree=1.0 will be ignored. Current value: feature_fraction=0.7709828932730298\n",
      "[LightGBM] [Warning] bagging_fraction is set=0.9568332467165983, subsample=1.0 will be ignored. Current value: bagging_fraction=0.9568332467165983\n",
      "[LightGBM] [Warning] bagging_freq is set=5, subsample_freq=0 will be ignored. Current value: bagging_freq=5\n",
      "[LightGBM] [Warning] feature_fraction is set=0.7709828932730298, colsample_bytree=1.0 will be ignored. Current value: feature_fraction=0.7709828932730298\n",
      "[LightGBM] [Warning] bagging_fraction is set=0.9568332467165983, subsample=1.0 will be ignored. Current value: bagging_fraction=0.9568332467165983\n",
      "[LightGBM] [Warning] bagging_freq is set=5, subsample_freq=0 will be ignored. Current value: bagging_freq=5\n",
      "[LightGBM] [Warning] feature_fraction is set=0.7709828932730298, colsample_bytree=1.0 will be ignored. Current value: feature_fraction=0.7709828932730298\n",
      "[LightGBM] [Warning] bagging_fraction is set=0.9568332467165983, subsample=1.0 will be ignored. Current value: bagging_fraction=0.9568332467165983\n",
      "[LightGBM] [Warning] bagging_freq is set=5, subsample_freq=0 will be ignored. Current value: bagging_freq=5\n",
      "[LightGBM] [Warning] feature_fraction is set=0.7709828932730298, colsample_bytree=1.0 will be ignored. Current value: feature_fraction=0.7709828932730298\n",
      "[LightGBM] [Warning] bagging_fraction is set=0.9568332467165983, subsample=1.0 will be ignored. Current value: bagging_fraction=0.9568332467165983\n",
      "[LightGBM] [Warning] bagging_freq is set=5, subsample_freq=0 will be ignored. Current value: bagging_freq=5\n",
      "[LightGBM] [Warning] feature_fraction is set=0.7709828932730298, colsample_bytree=1.0 will be ignored. Current value: feature_fraction=0.7709828932730298\n",
      "[LightGBM] [Warning] bagging_fraction is set=0.9568332467165983, subsample=1.0 will be ignored. Current value: bagging_fraction=0.9568332467165983\n",
      "[LightGBM] [Warning] bagging_freq is set=5, subsample_freq=0 will be ignored. Current value: bagging_freq=5\n",
      "[LightGBM] [Warning] feature_fraction is set=0.7709828932730298, colsample_bytree=1.0 will be ignored. Current value: feature_fraction=0.7709828932730298\n",
      "[LightGBM] [Warning] bagging_fraction is set=0.9568332467165983, subsample=1.0 will be ignored. Current value: bagging_fraction=0.9568332467165983\n",
      "[LightGBM] [Warning] bagging_freq is set=5, subsample_freq=0 will be ignored. Current value: bagging_freq=5\n",
      "[LightGBM] [Warning] feature_fraction is set=0.7709828932730298, colsample_bytree=1.0 will be ignored. Current value: feature_fraction=0.7709828932730298\n",
      "[LightGBM] [Warning] bagging_fraction is set=0.9568332467165983, subsample=1.0 will be ignored. Current value: bagging_fraction=0.9568332467165983\n",
      "[LightGBM] [Warning] bagging_freq is set=5, subsample_freq=0 will be ignored. Current value: bagging_freq=5\n",
      "[LightGBM] [Warning] feature_fraction is set=0.7709828932730298, colsample_bytree=1.0 will be ignored. Current value: feature_fraction=0.7709828932730298\n",
      "[LightGBM] [Warning] bagging_fraction is set=0.9568332467165983, subsample=1.0 will be ignored. Current value: bagging_fraction=0.9568332467165983\n",
      "[LightGBM] [Warning] bagging_freq is set=5, subsample_freq=0 will be ignored. Current value: bagging_freq=5\n",
      "[LightGBM] [Warning] feature_fraction is set=0.7709828932730298, colsample_bytree=1.0 will be ignored. Current value: feature_fraction=0.7709828932730298\n",
      "[LightGBM] [Warning] bagging_fraction is set=0.9568332467165983, subsample=1.0 will be ignored. Current value: bagging_fraction=0.9568332467165983\n",
      "[LightGBM] [Warning] bagging_freq is set=5, subsample_freq=0 will be ignored. Current value: bagging_freq=5\n",
      "[LightGBM] [Warning] feature_fraction is set=0.7709828932730298, colsample_bytree=1.0 will be ignored. Current value: feature_fraction=0.7709828932730298\n",
      "[LightGBM] [Warning] bagging_fraction is set=0.9568332467165983, subsample=1.0 will be ignored. Current value: bagging_fraction=0.9568332467165983\n",
      "[LightGBM] [Warning] bagging_freq is set=5, subsample_freq=0 will be ignored. Current value: bagging_freq=5\n",
      "[LightGBM] [Warning] feature_fraction is set=0.7709828932730298, colsample_bytree=1.0 will be ignored. Current value: feature_fraction=0.7709828932730298\n",
      "[LightGBM] [Warning] bagging_fraction is set=0.9568332467165983, subsample=1.0 will be ignored. Current value: bagging_fraction=0.9568332467165983\n",
      "[LightGBM] [Warning] bagging_freq is set=5, subsample_freq=0 will be ignored. Current value: bagging_freq=5\n",
      "[LightGBM] [Warning] feature_fraction is set=0.7709828932730298, colsample_bytree=1.0 will be ignored. Current value: feature_fraction=0.7709828932730298\n",
      "[LightGBM] [Warning] bagging_fraction is set=0.9568332467165983, subsample=1.0 will be ignored. Current value: bagging_fraction=0.9568332467165983\n",
      "[LightGBM] [Warning] bagging_freq is set=5, subsample_freq=0 will be ignored. Current value: bagging_freq=5\n",
      "[LightGBM] [Warning] feature_fraction is set=0.7709828932730298, colsample_bytree=1.0 will be ignored. Current value: feature_fraction=0.7709828932730298\n",
      "[LightGBM] [Warning] bagging_fraction is set=0.9568332467165983, subsample=1.0 will be ignored. Current value: bagging_fraction=0.9568332467165983\n",
      "[LightGBM] [Warning] bagging_freq is set=5, subsample_freq=0 will be ignored. Current value: bagging_freq=5\n",
      "[LightGBM] [Warning] feature_fraction is set=0.7709828932730298, colsample_bytree=1.0 will be ignored. Current value: feature_fraction=0.7709828932730298\n",
      "[LightGBM] [Warning] bagging_fraction is set=0.9568332467165983, subsample=1.0 will be ignored. Current value: bagging_fraction=0.9568332467165983\n",
      "[LightGBM] [Warning] bagging_freq is set=5, subsample_freq=0 will be ignored. Current value: bagging_freq=5\n",
      "[LightGBM] [Warning] feature_fraction is set=0.7709828932730298, colsample_bytree=1.0 will be ignored. Current value: feature_fraction=0.7709828932730298\n",
      "[LightGBM] [Warning] bagging_fraction is set=0.9568332467165983, subsample=1.0 will be ignored. Current value: bagging_fraction=0.9568332467165983\n",
      "[LightGBM] [Warning] bagging_freq is set=5, subsample_freq=0 will be ignored. Current value: bagging_freq=5\n",
      "[LightGBM] [Warning] feature_fraction is set=0.7709828932730298, colsample_bytree=1.0 will be ignored. Current value: feature_fraction=0.7709828932730298\n",
      "[LightGBM] [Warning] bagging_fraction is set=0.9568332467165983, subsample=1.0 will be ignored. Current value: bagging_fraction=0.9568332467165983\n",
      "[LightGBM] [Warning] bagging_freq is set=5, subsample_freq=0 will be ignored. Current value: bagging_freq=5\n",
      "[LightGBM] [Warning] feature_fraction is set=0.7709828932730298, colsample_bytree=1.0 will be ignored. Current value: feature_fraction=0.7709828932730298\n",
      "[LightGBM] [Warning] bagging_fraction is set=0.9568332467165983, subsample=1.0 will be ignored. Current value: bagging_fraction=0.9568332467165983\n",
      "[LightGBM] [Warning] bagging_freq is set=5, subsample_freq=0 will be ignored. Current value: bagging_freq=5\n",
      "[LightGBM] [Warning] feature_fraction is set=0.7709828932730298, colsample_bytree=1.0 will be ignored. Current value: feature_fraction=0.7709828932730298\n",
      "[LightGBM] [Warning] bagging_fraction is set=0.9568332467165983, subsample=1.0 will be ignored. Current value: bagging_fraction=0.9568332467165983\n",
      "[LightGBM] [Warning] bagging_freq is set=5, subsample_freq=0 will be ignored. Current value: bagging_freq=5\n",
      "[LightGBM] [Warning] feature_fraction is set=0.7709828932730298, colsample_bytree=1.0 will be ignored. Current value: feature_fraction=0.7709828932730298\n",
      "[LightGBM] [Warning] bagging_fraction is set=0.9568332467165983, subsample=1.0 will be ignored. Current value: bagging_fraction=0.9568332467165983\n",
      "[LightGBM] [Warning] bagging_freq is set=5, subsample_freq=0 will be ignored. Current value: bagging_freq=5\n",
      "[LightGBM] [Warning] feature_fraction is set=0.7709828932730298, colsample_bytree=1.0 will be ignored. Current value: feature_fraction=0.7709828932730298\n",
      "[LightGBM] [Warning] bagging_fraction is set=0.9568332467165983, subsample=1.0 will be ignored. Current value: bagging_fraction=0.9568332467165983\n",
      "[LightGBM] [Warning] bagging_freq is set=5, subsample_freq=0 will be ignored. Current value: bagging_freq=5\n",
      "[LightGBM] [Warning] feature_fraction is set=0.7709828932730298, colsample_bytree=1.0 will be ignored. Current value: feature_fraction=0.7709828932730298\n",
      "[LightGBM] [Warning] bagging_fraction is set=0.9568332467165983, subsample=1.0 will be ignored. Current value: bagging_fraction=0.9568332467165983\n",
      "[LightGBM] [Warning] bagging_freq is set=5, subsample_freq=0 will be ignored. Current value: bagging_freq=5\n",
      "[LightGBM] [Warning] feature_fraction is set=0.7709828932730298, colsample_bytree=1.0 will be ignored. Current value: feature_fraction=0.7709828932730298\n",
      "[LightGBM] [Warning] bagging_fraction is set=0.9568332467165983, subsample=1.0 will be ignored. Current value: bagging_fraction=0.9568332467165983\n",
      "[LightGBM] [Warning] bagging_freq is set=5, subsample_freq=0 will be ignored. Current value: bagging_freq=5\n",
      "[LightGBM] [Warning] feature_fraction is set=0.7709828932730298, colsample_bytree=1.0 will be ignored. Current value: feature_fraction=0.7709828932730298\n",
      "[LightGBM] [Warning] bagging_fraction is set=0.9568332467165983, subsample=1.0 will be ignored. Current value: bagging_fraction=0.9568332467165983\n",
      "[LightGBM] [Warning] bagging_freq is set=5, subsample_freq=0 will be ignored. Current value: bagging_freq=5\n",
      "[LightGBM] [Warning] feature_fraction is set=0.7709828932730298, colsample_bytree=1.0 will be ignored. Current value: feature_fraction=0.7709828932730298\n",
      "[LightGBM] [Warning] bagging_fraction is set=0.9568332467165983, subsample=1.0 will be ignored. Current value: bagging_fraction=0.9568332467165983\n",
      "[LightGBM] [Warning] bagging_freq is set=5, subsample_freq=0 will be ignored. Current value: bagging_freq=5\n",
      "[LightGBM] [Warning] feature_fraction is set=0.7709828932730298, colsample_bytree=1.0 will be ignored. Current value: feature_fraction=0.7709828932730298\n",
      "[LightGBM] [Warning] bagging_fraction is set=0.9568332467165983, subsample=1.0 will be ignored. Current value: bagging_fraction=0.9568332467165983\n",
      "[LightGBM] [Warning] bagging_freq is set=5, subsample_freq=0 will be ignored. Current value: bagging_freq=5\n",
      "[LightGBM] [Warning] feature_fraction is set=0.7709828932730298, colsample_bytree=1.0 will be ignored. Current value: feature_fraction=0.7709828932730298\n",
      "[LightGBM] [Warning] bagging_fraction is set=0.9568332467165983, subsample=1.0 will be ignored. Current value: bagging_fraction=0.9568332467165983\n",
      "[LightGBM] [Warning] bagging_freq is set=5, subsample_freq=0 will be ignored. Current value: bagging_freq=5\n",
      "[LightGBM] [Warning] feature_fraction is set=0.7709828932730298, colsample_bytree=1.0 will be ignored. Current value: feature_fraction=0.7709828932730298\n",
      "[LightGBM] [Warning] bagging_fraction is set=0.9568332467165983, subsample=1.0 will be ignored. Current value: bagging_fraction=0.9568332467165983\n",
      "[LightGBM] [Warning] bagging_freq is set=5, subsample_freq=0 will be ignored. Current value: bagging_freq=5\n",
      "[LightGBM] [Warning] feature_fraction is set=0.7709828932730298, colsample_bytree=1.0 will be ignored. Current value: feature_fraction=0.7709828932730298\n",
      "[LightGBM] [Warning] bagging_fraction is set=0.9568332467165983, subsample=1.0 will be ignored. Current value: bagging_fraction=0.9568332467165983\n",
      "[LightGBM] [Warning] bagging_freq is set=5, subsample_freq=0 will be ignored. Current value: bagging_freq=5\n",
      "[LightGBM] [Warning] feature_fraction is set=0.7709828932730298, colsample_bytree=1.0 will be ignored. Current value: feature_fraction=0.7709828932730298\n",
      "[LightGBM] [Warning] bagging_fraction is set=0.9568332467165983, subsample=1.0 will be ignored. Current value: bagging_fraction=0.9568332467165983\n",
      "[LightGBM] [Warning] bagging_freq is set=5, subsample_freq=0 will be ignored. Current value: bagging_freq=5\n",
      "[LightGBM] [Warning] feature_fraction is set=0.7709828932730298, colsample_bytree=1.0 will be ignored. Current value: feature_fraction=0.7709828932730298\n",
      "[LightGBM] [Warning] bagging_fraction is set=0.9568332467165983, subsample=1.0 will be ignored. Current value: bagging_fraction=0.9568332467165983\n",
      "[LightGBM] [Warning] bagging_freq is set=5, subsample_freq=0 will be ignored. Current value: bagging_freq=5\n",
      "[LightGBM] [Warning] feature_fraction is set=0.7709828932730298, colsample_bytree=1.0 will be ignored. Current value: feature_fraction=0.7709828932730298\n",
      "[LightGBM] [Warning] bagging_fraction is set=0.9568332467165983, subsample=1.0 will be ignored. Current value: bagging_fraction=0.9568332467165983\n",
      "[LightGBM] [Warning] bagging_freq is set=5, subsample_freq=0 will be ignored. Current value: bagging_freq=5\n",
      "[LightGBM] [Warning] feature_fraction is set=0.7709828932730298, colsample_bytree=1.0 will be ignored. Current value: feature_fraction=0.7709828932730298\n",
      "[LightGBM] [Warning] bagging_fraction is set=0.9568332467165983, subsample=1.0 will be ignored. Current value: bagging_fraction=0.9568332467165983\n",
      "[LightGBM] [Warning] bagging_freq is set=5, subsample_freq=0 will be ignored. Current value: bagging_freq=5\n",
      "[LightGBM] [Warning] feature_fraction is set=0.7709828932730298, colsample_bytree=1.0 will be ignored. Current value: feature_fraction=0.7709828932730298\n",
      "[LightGBM] [Warning] bagging_fraction is set=0.9568332467165983, subsample=1.0 will be ignored. Current value: bagging_fraction=0.9568332467165983\n",
      "[LightGBM] [Warning] bagging_freq is set=5, subsample_freq=0 will be ignored. Current value: bagging_freq=5\n",
      "[LightGBM] [Warning] feature_fraction is set=0.7709828932730298, colsample_bytree=1.0 will be ignored. Current value: feature_fraction=0.7709828932730298\n",
      "[LightGBM] [Warning] bagging_fraction is set=0.9568332467165983, subsample=1.0 will be ignored. Current value: bagging_fraction=0.9568332467165983\n",
      "[LightGBM] [Warning] bagging_freq is set=5, subsample_freq=0 will be ignored. Current value: bagging_freq=5\n",
      "[LightGBM] [Warning] feature_fraction is set=0.7709828932730298, colsample_bytree=1.0 will be ignored. Current value: feature_fraction=0.7709828932730298\n",
      "[LightGBM] [Warning] bagging_fraction is set=0.9568332467165983, subsample=1.0 will be ignored. Current value: bagging_fraction=0.9568332467165983\n",
      "[LightGBM] [Warning] bagging_freq is set=5, subsample_freq=0 will be ignored. Current value: bagging_freq=5\n",
      "[LightGBM] [Warning] feature_fraction is set=0.7709828932730298, colsample_bytree=1.0 will be ignored. Current value: feature_fraction=0.7709828932730298\n",
      "[LightGBM] [Warning] bagging_fraction is set=0.9568332467165983, subsample=1.0 will be ignored. Current value: bagging_fraction=0.9568332467165983\n",
      "[LightGBM] [Warning] bagging_freq is set=5, subsample_freq=0 will be ignored. Current value: bagging_freq=5\n",
      "[LightGBM] [Warning] feature_fraction is set=0.7709828932730298, colsample_bytree=1.0 will be ignored. Current value: feature_fraction=0.7709828932730298\n",
      "[LightGBM] [Warning] bagging_fraction is set=0.9568332467165983, subsample=1.0 will be ignored. Current value: bagging_fraction=0.9568332467165983\n",
      "[LightGBM] [Warning] bagging_freq is set=5, subsample_freq=0 will be ignored. Current value: bagging_freq=5\n",
      "[LightGBM] [Warning] feature_fraction is set=0.7709828932730298, colsample_bytree=1.0 will be ignored. Current value: feature_fraction=0.7709828932730298\n",
      "[LightGBM] [Warning] bagging_fraction is set=0.9568332467165983, subsample=1.0 will be ignored. Current value: bagging_fraction=0.9568332467165983\n",
      "[LightGBM] [Warning] bagging_freq is set=5, subsample_freq=0 will be ignored. Current value: bagging_freq=5\n",
      "[LightGBM] [Warning] feature_fraction is set=0.7709828932730298, colsample_bytree=1.0 will be ignored. Current value: feature_fraction=0.7709828932730298\n",
      "[LightGBM] [Warning] bagging_fraction is set=0.9568332467165983, subsample=1.0 will be ignored. Current value: bagging_fraction=0.9568332467165983\n",
      "[LightGBM] [Warning] bagging_freq is set=5, subsample_freq=0 will be ignored. Current value: bagging_freq=5\n",
      "[LightGBM] [Warning] feature_fraction is set=0.7709828932730298, colsample_bytree=1.0 will be ignored. Current value: feature_fraction=0.7709828932730298\n",
      "[LightGBM] [Warning] bagging_fraction is set=0.9568332467165983, subsample=1.0 will be ignored. Current value: bagging_fraction=0.9568332467165983\n",
      "[LightGBM] [Warning] bagging_freq is set=5, subsample_freq=0 will be ignored. Current value: bagging_freq=5\n",
      "[LightGBM] [Warning] feature_fraction is set=0.7709828932730298, colsample_bytree=1.0 will be ignored. Current value: feature_fraction=0.7709828932730298\n",
      "[LightGBM] [Warning] bagging_fraction is set=0.9568332467165983, subsample=1.0 will be ignored. Current value: bagging_fraction=0.9568332467165983\n",
      "[LightGBM] [Warning] bagging_freq is set=5, subsample_freq=0 will be ignored. Current value: bagging_freq=5\n",
      "[LightGBM] [Warning] feature_fraction is set=0.7709828932730298, colsample_bytree=1.0 will be ignored. Current value: feature_fraction=0.7709828932730298\n",
      "[LightGBM] [Warning] bagging_fraction is set=0.9568332467165983, subsample=1.0 will be ignored. Current value: bagging_fraction=0.9568332467165983\n",
      "[LightGBM] [Warning] bagging_freq is set=5, subsample_freq=0 will be ignored. Current value: bagging_freq=5\n",
      "[LightGBM] [Warning] feature_fraction is set=0.7709828932730298, colsample_bytree=1.0 will be ignored. Current value: feature_fraction=0.7709828932730298\n",
      "[LightGBM] [Warning] bagging_fraction is set=0.9568332467165983, subsample=1.0 will be ignored. Current value: bagging_fraction=0.9568332467165983\n",
      "[LightGBM] [Warning] bagging_freq is set=5, subsample_freq=0 will be ignored. Current value: bagging_freq=5\n",
      "[LightGBM] [Warning] feature_fraction is set=0.7709828932730298, colsample_bytree=1.0 will be ignored. Current value: feature_fraction=0.7709828932730298\n",
      "[LightGBM] [Warning] bagging_fraction is set=0.9568332467165983, subsample=1.0 will be ignored. Current value: bagging_fraction=0.9568332467165983\n",
      "[LightGBM] [Warning] bagging_freq is set=5, subsample_freq=0 will be ignored. Current value: bagging_freq=5\n",
      "[LightGBM] [Warning] feature_fraction is set=0.7709828932730298, colsample_bytree=1.0 will be ignored. Current value: feature_fraction=0.7709828932730298\n",
      "[LightGBM] [Warning] bagging_fraction is set=0.9568332467165983, subsample=1.0 will be ignored. Current value: bagging_fraction=0.9568332467165983\n",
      "[LightGBM] [Warning] bagging_freq is set=5, subsample_freq=0 will be ignored. Current value: bagging_freq=5\n",
      "[LightGBM] [Warning] feature_fraction is set=0.7709828932730298, colsample_bytree=1.0 will be ignored. Current value: feature_fraction=0.7709828932730298\n",
      "[LightGBM] [Warning] bagging_fraction is set=0.9568332467165983, subsample=1.0 will be ignored. Current value: bagging_fraction=0.9568332467165983\n",
      "[LightGBM] [Warning] bagging_freq is set=5, subsample_freq=0 will be ignored. Current value: bagging_freq=5\n",
      "[LightGBM] [Warning] feature_fraction is set=0.7709828932730298, colsample_bytree=1.0 will be ignored. Current value: feature_fraction=0.7709828932730298\n",
      "[LightGBM] [Warning] bagging_fraction is set=0.9568332467165983, subsample=1.0 will be ignored. Current value: bagging_fraction=0.9568332467165983\n",
      "[LightGBM] [Warning] bagging_freq is set=5, subsample_freq=0 will be ignored. Current value: bagging_freq=5\n",
      "[LightGBM] [Warning] feature_fraction is set=0.7709828932730298, colsample_bytree=1.0 will be ignored. Current value: feature_fraction=0.7709828932730298\n",
      "[LightGBM] [Warning] bagging_fraction is set=0.9568332467165983, subsample=1.0 will be ignored. Current value: bagging_fraction=0.9568332467165983\n",
      "[LightGBM] [Warning] bagging_freq is set=5, subsample_freq=0 will be ignored. Current value: bagging_freq=5\n",
      "[LightGBM] [Warning] feature_fraction is set=0.7709828932730298, colsample_bytree=1.0 will be ignored. Current value: feature_fraction=0.7709828932730298\n",
      "[LightGBM] [Warning] bagging_fraction is set=0.9568332467165983, subsample=1.0 will be ignored. Current value: bagging_fraction=0.9568332467165983\n",
      "[LightGBM] [Warning] bagging_freq is set=5, subsample_freq=0 will be ignored. Current value: bagging_freq=5\n",
      "[LightGBM] [Warning] feature_fraction is set=0.7709828932730298, colsample_bytree=1.0 will be ignored. Current value: feature_fraction=0.7709828932730298\n",
      "[LightGBM] [Warning] bagging_fraction is set=0.9568332467165983, subsample=1.0 will be ignored. Current value: bagging_fraction=0.9568332467165983\n",
      "[LightGBM] [Warning] bagging_freq is set=5, subsample_freq=0 will be ignored. Current value: bagging_freq=5\n",
      "[LightGBM] [Warning] feature_fraction is set=0.7709828932730298, colsample_bytree=1.0 will be ignored. Current value: feature_fraction=0.7709828932730298\n",
      "[LightGBM] [Warning] bagging_fraction is set=0.9568332467165983, subsample=1.0 will be ignored. Current value: bagging_fraction=0.9568332467165983\n",
      "[LightGBM] [Warning] bagging_freq is set=5, subsample_freq=0 will be ignored. Current value: bagging_freq=5\n",
      "[LightGBM] [Warning] feature_fraction is set=0.7709828932730298, colsample_bytree=1.0 will be ignored. Current value: feature_fraction=0.7709828932730298\n",
      "[LightGBM] [Warning] bagging_fraction is set=0.9568332467165983, subsample=1.0 will be ignored. Current value: bagging_fraction=0.9568332467165983\n",
      "[LightGBM] [Warning] bagging_freq is set=5, subsample_freq=0 will be ignored. Current value: bagging_freq=5\n",
      "[LightGBM] [Warning] feature_fraction is set=0.7709828932730298, colsample_bytree=1.0 will be ignored. Current value: feature_fraction=0.7709828932730298\n",
      "[LightGBM] [Warning] bagging_fraction is set=0.9568332467165983, subsample=1.0 will be ignored. Current value: bagging_fraction=0.9568332467165983\n",
      "[LightGBM] [Warning] bagging_freq is set=5, subsample_freq=0 will be ignored. Current value: bagging_freq=5\n",
      "[LightGBM] [Warning] feature_fraction is set=0.7709828932730298, colsample_bytree=1.0 will be ignored. Current value: feature_fraction=0.7709828932730298\n",
      "[LightGBM] [Warning] bagging_fraction is set=0.9568332467165983, subsample=1.0 will be ignored. Current value: bagging_fraction=0.9568332467165983\n",
      "[LightGBM] [Warning] bagging_freq is set=5, subsample_freq=0 will be ignored. Current value: bagging_freq=5\n",
      "[LightGBM] [Warning] feature_fraction is set=0.7709828932730298, colsample_bytree=1.0 will be ignored. Current value: feature_fraction=0.7709828932730298\n",
      "[LightGBM] [Warning] bagging_fraction is set=0.9568332467165983, subsample=1.0 will be ignored. Current value: bagging_fraction=0.9568332467165983\n",
      "[LightGBM] [Warning] bagging_freq is set=5, subsample_freq=0 will be ignored. Current value: bagging_freq=5\n",
      "[LightGBM] [Warning] feature_fraction is set=0.7709828932730298, colsample_bytree=1.0 will be ignored. Current value: feature_fraction=0.7709828932730298\n",
      "[LightGBM] [Warning] bagging_fraction is set=0.9568332467165983, subsample=1.0 will be ignored. Current value: bagging_fraction=0.9568332467165983\n",
      "[LightGBM] [Warning] bagging_freq is set=5, subsample_freq=0 will be ignored. Current value: bagging_freq=5\n",
      "[LightGBM] [Warning] feature_fraction is set=0.7709828932730298, colsample_bytree=1.0 will be ignored. Current value: feature_fraction=0.7709828932730298\n",
      "[LightGBM] [Warning] bagging_fraction is set=0.9568332467165983, subsample=1.0 will be ignored. Current value: bagging_fraction=0.9568332467165983\n",
      "[LightGBM] [Warning] bagging_freq is set=5, subsample_freq=0 will be ignored. Current value: bagging_freq=5\n",
      "[LightGBM] [Warning] feature_fraction is set=0.7709828932730298, colsample_bytree=1.0 will be ignored. Current value: feature_fraction=0.7709828932730298\n",
      "[LightGBM] [Warning] bagging_fraction is set=0.9568332467165983, subsample=1.0 will be ignored. Current value: bagging_fraction=0.9568332467165983\n",
      "[LightGBM] [Warning] bagging_freq is set=5, subsample_freq=0 will be ignored. Current value: bagging_freq=5\n",
      "[LightGBM] [Warning] feature_fraction is set=0.7709828932730298, colsample_bytree=1.0 will be ignored. Current value: feature_fraction=0.7709828932730298\n",
      "[LightGBM] [Warning] bagging_fraction is set=0.9568332467165983, subsample=1.0 will be ignored. Current value: bagging_fraction=0.9568332467165983\n",
      "[LightGBM] [Warning] bagging_freq is set=5, subsample_freq=0 will be ignored. Current value: bagging_freq=5\n",
      "[LightGBM] [Warning] feature_fraction is set=0.7709828932730298, colsample_bytree=1.0 will be ignored. Current value: feature_fraction=0.7709828932730298\n",
      "[LightGBM] [Warning] bagging_fraction is set=0.9568332467165983, subsample=1.0 will be ignored. Current value: bagging_fraction=0.9568332467165983\n",
      "[LightGBM] [Warning] bagging_freq is set=5, subsample_freq=0 will be ignored. Current value: bagging_freq=5\n",
      "[LightGBM] [Warning] feature_fraction is set=0.7709828932730298, colsample_bytree=1.0 will be ignored. Current value: feature_fraction=0.7709828932730298\n",
      "[LightGBM] [Warning] bagging_fraction is set=0.9568332467165983, subsample=1.0 will be ignored. Current value: bagging_fraction=0.9568332467165983\n",
      "[LightGBM] [Warning] bagging_freq is set=5, subsample_freq=0 will be ignored. Current value: bagging_freq=5\n",
      "[LightGBM] [Warning] feature_fraction is set=0.7709828932730298, colsample_bytree=1.0 will be ignored. Current value: feature_fraction=0.7709828932730298\n",
      "[LightGBM] [Warning] bagging_fraction is set=0.9568332467165983, subsample=1.0 will be ignored. Current value: bagging_fraction=0.9568332467165983\n",
      "[LightGBM] [Warning] bagging_freq is set=5, subsample_freq=0 will be ignored. Current value: bagging_freq=5\n",
      "[LightGBM] [Warning] feature_fraction is set=0.7709828932730298, colsample_bytree=1.0 will be ignored. Current value: feature_fraction=0.7709828932730298\n",
      "[LightGBM] [Warning] bagging_fraction is set=0.9568332467165983, subsample=1.0 will be ignored. Current value: bagging_fraction=0.9568332467165983\n",
      "[LightGBM] [Warning] bagging_freq is set=5, subsample_freq=0 will be ignored. Current value: bagging_freq=5\n",
      "[LightGBM] [Warning] feature_fraction is set=0.7709828932730298, colsample_bytree=1.0 will be ignored. Current value: feature_fraction=0.7709828932730298\n",
      "[LightGBM] [Warning] bagging_fraction is set=0.9568332467165983, subsample=1.0 will be ignored. Current value: bagging_fraction=0.9568332467165983\n",
      "[LightGBM] [Warning] bagging_freq is set=5, subsample_freq=0 will be ignored. Current value: bagging_freq=5\n",
      "[LightGBM] [Warning] feature_fraction is set=0.7709828932730298, colsample_bytree=1.0 will be ignored. Current value: feature_fraction=0.7709828932730298\n",
      "[LightGBM] [Warning] bagging_fraction is set=0.9568332467165983, subsample=1.0 will be ignored. Current value: bagging_fraction=0.9568332467165983\n",
      "[LightGBM] [Warning] bagging_freq is set=5, subsample_freq=0 will be ignored. Current value: bagging_freq=5\n",
      "[LightGBM] [Warning] feature_fraction is set=0.7709828932730298, colsample_bytree=1.0 will be ignored. Current value: feature_fraction=0.7709828932730298\n",
      "[LightGBM] [Warning] bagging_fraction is set=0.9568332467165983, subsample=1.0 will be ignored. Current value: bagging_fraction=0.9568332467165983\n",
      "[LightGBM] [Warning] bagging_freq is set=5, subsample_freq=0 will be ignored. Current value: bagging_freq=5\n",
      "[LightGBM] [Warning] feature_fraction is set=0.7709828932730298, colsample_bytree=1.0 will be ignored. Current value: feature_fraction=0.7709828932730298\n",
      "[LightGBM] [Warning] bagging_fraction is set=0.9568332467165983, subsample=1.0 will be ignored. Current value: bagging_fraction=0.9568332467165983\n",
      "[LightGBM] [Warning] bagging_freq is set=5, subsample_freq=0 will be ignored. Current value: bagging_freq=5\n",
      "[LightGBM] [Warning] feature_fraction is set=0.7709828932730298, colsample_bytree=1.0 will be ignored. Current value: feature_fraction=0.7709828932730298\n",
      "[LightGBM] [Warning] bagging_fraction is set=0.9568332467165983, subsample=1.0 will be ignored. Current value: bagging_fraction=0.9568332467165983\n",
      "[LightGBM] [Warning] bagging_freq is set=5, subsample_freq=0 will be ignored. Current value: bagging_freq=5\n",
      "[LightGBM] [Warning] feature_fraction is set=0.7709828932730298, colsample_bytree=1.0 will be ignored. Current value: feature_fraction=0.7709828932730298\n",
      "[LightGBM] [Warning] bagging_fraction is set=0.9568332467165983, subsample=1.0 will be ignored. Current value: bagging_fraction=0.9568332467165983\n",
      "[LightGBM] [Warning] bagging_freq is set=5, subsample_freq=0 will be ignored. Current value: bagging_freq=5\n",
      "[LightGBM] [Warning] feature_fraction is set=0.7709828932730298, colsample_bytree=1.0 will be ignored. Current value: feature_fraction=0.7709828932730298\n",
      "[LightGBM] [Warning] bagging_fraction is set=0.9568332467165983, subsample=1.0 will be ignored. Current value: bagging_fraction=0.9568332467165983\n",
      "[LightGBM] [Warning] bagging_freq is set=5, subsample_freq=0 will be ignored. Current value: bagging_freq=5\n",
      "[LightGBM] [Warning] feature_fraction is set=0.7709828932730298, colsample_bytree=1.0 will be ignored. Current value: feature_fraction=0.7709828932730298\n",
      "[LightGBM] [Warning] bagging_fraction is set=0.9568332467165983, subsample=1.0 will be ignored. Current value: bagging_fraction=0.9568332467165983\n",
      "[LightGBM] [Warning] bagging_freq is set=5, subsample_freq=0 will be ignored. Current value: bagging_freq=5\n",
      "[LightGBM] [Warning] feature_fraction is set=0.7709828932730298, colsample_bytree=1.0 will be ignored. Current value: feature_fraction=0.7709828932730298\n",
      "[LightGBM] [Warning] bagging_fraction is set=0.9568332467165983, subsample=1.0 will be ignored. Current value: bagging_fraction=0.9568332467165983\n",
      "[LightGBM] [Warning] bagging_freq is set=5, subsample_freq=0 will be ignored. Current value: bagging_freq=5\n",
      "[LightGBM] [Warning] feature_fraction is set=0.7709828932730298, colsample_bytree=1.0 will be ignored. Current value: feature_fraction=0.7709828932730298\n",
      "[LightGBM] [Warning] bagging_fraction is set=0.9568332467165983, subsample=1.0 will be ignored. Current value: bagging_fraction=0.9568332467165983\n",
      "[LightGBM] [Warning] bagging_freq is set=5, subsample_freq=0 will be ignored. Current value: bagging_freq=5\n",
      "[LightGBM] [Warning] feature_fraction is set=0.7709828932730298, colsample_bytree=1.0 will be ignored. Current value: feature_fraction=0.7709828932730298\n",
      "[LightGBM] [Warning] bagging_fraction is set=0.9568332467165983, subsample=1.0 will be ignored. Current value: bagging_fraction=0.9568332467165983\n",
      "[LightGBM] [Warning] bagging_freq is set=5, subsample_freq=0 will be ignored. Current value: bagging_freq=5\n",
      "[LightGBM] [Warning] feature_fraction is set=0.7709828932730298, colsample_bytree=1.0 will be ignored. Current value: feature_fraction=0.7709828932730298\n",
      "[LightGBM] [Warning] bagging_fraction is set=0.9568332467165983, subsample=1.0 will be ignored. Current value: bagging_fraction=0.9568332467165983\n",
      "[LightGBM] [Warning] bagging_freq is set=5, subsample_freq=0 will be ignored. Current value: bagging_freq=5\n",
      "[LightGBM] [Warning] feature_fraction is set=0.7709828932730298, colsample_bytree=1.0 will be ignored. Current value: feature_fraction=0.7709828932730298\n",
      "[LightGBM] [Warning] bagging_fraction is set=0.9568332467165983, subsample=1.0 will be ignored. Current value: bagging_fraction=0.9568332467165983\n",
      "[LightGBM] [Warning] bagging_freq is set=5, subsample_freq=0 will be ignored. Current value: bagging_freq=5\n",
      "[LightGBM] [Warning] feature_fraction is set=0.7709828932730298, colsample_bytree=1.0 will be ignored. Current value: feature_fraction=0.7709828932730298\n",
      "[LightGBM] [Warning] bagging_fraction is set=0.9568332467165983, subsample=1.0 will be ignored. Current value: bagging_fraction=0.9568332467165983\n",
      "[LightGBM] [Warning] bagging_freq is set=5, subsample_freq=0 will be ignored. Current value: bagging_freq=5\n",
      "[LightGBM] [Warning] feature_fraction is set=0.7709828932730298, colsample_bytree=1.0 will be ignored. Current value: feature_fraction=0.7709828932730298\n",
      "[LightGBM] [Warning] bagging_fraction is set=0.9568332467165983, subsample=1.0 will be ignored. Current value: bagging_fraction=0.9568332467165983\n",
      "[LightGBM] [Warning] bagging_freq is set=5, subsample_freq=0 will be ignored. Current value: bagging_freq=5\n",
      "[LightGBM] [Warning] feature_fraction is set=0.7709828932730298, colsample_bytree=1.0 will be ignored. Current value: feature_fraction=0.7709828932730298\n",
      "[LightGBM] [Warning] bagging_fraction is set=0.9568332467165983, subsample=1.0 will be ignored. Current value: bagging_fraction=0.9568332467165983\n",
      "[LightGBM] [Warning] bagging_freq is set=5, subsample_freq=0 will be ignored. Current value: bagging_freq=5\n",
      "[LightGBM] [Warning] feature_fraction is set=0.7709828932730298, colsample_bytree=1.0 will be ignored. Current value: feature_fraction=0.7709828932730298\n",
      "[LightGBM] [Warning] bagging_fraction is set=0.9568332467165983, subsample=1.0 will be ignored. Current value: bagging_fraction=0.9568332467165983\n",
      "[LightGBM] [Warning] bagging_freq is set=5, subsample_freq=0 will be ignored. Current value: bagging_freq=5\n",
      "[LightGBM] [Warning] feature_fraction is set=0.7709828932730298, colsample_bytree=1.0 will be ignored. Current value: feature_fraction=0.7709828932730298\n",
      "[LightGBM] [Warning] bagging_fraction is set=0.9568332467165983, subsample=1.0 will be ignored. Current value: bagging_fraction=0.9568332467165983\n",
      "[LightGBM] [Warning] bagging_freq is set=5, subsample_freq=0 will be ignored. Current value: bagging_freq=5\n",
      "[LightGBM] [Warning] feature_fraction is set=0.7709828932730298, colsample_bytree=1.0 will be ignored. Current value: feature_fraction=0.7709828932730298\n",
      "[LightGBM] [Warning] bagging_fraction is set=0.9568332467165983, subsample=1.0 will be ignored. Current value: bagging_fraction=0.9568332467165983\n",
      "[LightGBM] [Warning] bagging_freq is set=5, subsample_freq=0 will be ignored. Current value: bagging_freq=5\n",
      "[LightGBM] [Warning] feature_fraction is set=0.7709828932730298, colsample_bytree=1.0 will be ignored. Current value: feature_fraction=0.7709828932730298\n",
      "[LightGBM] [Warning] bagging_fraction is set=0.9568332467165983, subsample=1.0 will be ignored. Current value: bagging_fraction=0.9568332467165983\n",
      "[LightGBM] [Warning] bagging_freq is set=5, subsample_freq=0 will be ignored. Current value: bagging_freq=5\n",
      "[LightGBM] [Warning] feature_fraction is set=0.7709828932730298, colsample_bytree=1.0 will be ignored. Current value: feature_fraction=0.7709828932730298\n",
      "[LightGBM] [Warning] bagging_fraction is set=0.9568332467165983, subsample=1.0 will be ignored. Current value: bagging_fraction=0.9568332467165983\n",
      "[LightGBM] [Warning] bagging_freq is set=5, subsample_freq=0 will be ignored. Current value: bagging_freq=5\n",
      "[LightGBM] [Warning] feature_fraction is set=0.7709828932730298, colsample_bytree=1.0 will be ignored. Current value: feature_fraction=0.7709828932730298\n",
      "[LightGBM] [Warning] bagging_fraction is set=0.9568332467165983, subsample=1.0 will be ignored. Current value: bagging_fraction=0.9568332467165983\n",
      "[LightGBM] [Warning] bagging_freq is set=5, subsample_freq=0 will be ignored. Current value: bagging_freq=5\n",
      "[LightGBM] [Warning] feature_fraction is set=0.7709828932730298, colsample_bytree=1.0 will be ignored. Current value: feature_fraction=0.7709828932730298\n",
      "[LightGBM] [Warning] bagging_fraction is set=0.9568332467165983, subsample=1.0 will be ignored. Current value: bagging_fraction=0.9568332467165983\n",
      "[LightGBM] [Warning] bagging_freq is set=5, subsample_freq=0 will be ignored. Current value: bagging_freq=5\n",
      "[LightGBM] [Warning] feature_fraction is set=0.7709828932730298, colsample_bytree=1.0 will be ignored. Current value: feature_fraction=0.7709828932730298\n",
      "[LightGBM] [Warning] bagging_fraction is set=0.9568332467165983, subsample=1.0 will be ignored. Current value: bagging_fraction=0.9568332467165983\n",
      "[LightGBM] [Warning] bagging_freq is set=5, subsample_freq=0 will be ignored. Current value: bagging_freq=5\n",
      "[LightGBM] [Warning] feature_fraction is set=0.7709828932730298, colsample_bytree=1.0 will be ignored. Current value: feature_fraction=0.7709828932730298\n",
      "[LightGBM] [Warning] bagging_fraction is set=0.9568332467165983, subsample=1.0 will be ignored. Current value: bagging_fraction=0.9568332467165983\n",
      "[LightGBM] [Warning] bagging_freq is set=5, subsample_freq=0 will be ignored. Current value: bagging_freq=5\n",
      "[LightGBM] [Warning] feature_fraction is set=0.7709828932730298, colsample_bytree=1.0 will be ignored. Current value: feature_fraction=0.7709828932730298\n",
      "[LightGBM] [Warning] bagging_fraction is set=0.9568332467165983, subsample=1.0 will be ignored. Current value: bagging_fraction=0.9568332467165983\n",
      "[LightGBM] [Warning] bagging_freq is set=5, subsample_freq=0 will be ignored. Current value: bagging_freq=5\n",
      "[LightGBM] [Warning] feature_fraction is set=0.7709828932730298, colsample_bytree=1.0 will be ignored. Current value: feature_fraction=0.7709828932730298\n",
      "[LightGBM] [Warning] bagging_fraction is set=0.9568332467165983, subsample=1.0 will be ignored. Current value: bagging_fraction=0.9568332467165983\n",
      "[LightGBM] [Warning] bagging_freq is set=5, subsample_freq=0 will be ignored. Current value: bagging_freq=5\n",
      "[LightGBM] [Warning] feature_fraction is set=0.7709828932730298, colsample_bytree=1.0 will be ignored. Current value: feature_fraction=0.7709828932730298\n",
      "[LightGBM] [Warning] bagging_fraction is set=0.9568332467165983, subsample=1.0 will be ignored. Current value: bagging_fraction=0.9568332467165983\n",
      "[LightGBM] [Warning] bagging_freq is set=5, subsample_freq=0 will be ignored. Current value: bagging_freq=5\n",
      "[LightGBM] [Warning] feature_fraction is set=0.7709828932730298, colsample_bytree=1.0 will be ignored. Current value: feature_fraction=0.7709828932730298\n",
      "[LightGBM] [Warning] bagging_fraction is set=0.9568332467165983, subsample=1.0 will be ignored. Current value: bagging_fraction=0.9568332467165983\n",
      "[LightGBM] [Warning] bagging_freq is set=5, subsample_freq=0 will be ignored. Current value: bagging_freq=5\n",
      "[LightGBM] [Warning] feature_fraction is set=0.7709828932730298, colsample_bytree=1.0 will be ignored. Current value: feature_fraction=0.7709828932730298\n",
      "[LightGBM] [Warning] bagging_fraction is set=0.9568332467165983, subsample=1.0 will be ignored. Current value: bagging_fraction=0.9568332467165983\n",
      "[LightGBM] [Warning] bagging_freq is set=5, subsample_freq=0 will be ignored. Current value: bagging_freq=5\n",
      "[LightGBM] [Warning] feature_fraction is set=0.7709828932730298, colsample_bytree=1.0 will be ignored. Current value: feature_fraction=0.7709828932730298\n",
      "[LightGBM] [Warning] bagging_fraction is set=0.9568332467165983, subsample=1.0 will be ignored. Current value: bagging_fraction=0.9568332467165983\n",
      "[LightGBM] [Warning] bagging_freq is set=5, subsample_freq=0 will be ignored. Current value: bagging_freq=5\n",
      "[LightGBM] [Warning] feature_fraction is set=0.7709828932730298, colsample_bytree=1.0 will be ignored. Current value: feature_fraction=0.7709828932730298\n",
      "[LightGBM] [Warning] bagging_fraction is set=0.9568332467165983, subsample=1.0 will be ignored. Current value: bagging_fraction=0.9568332467165983\n",
      "[LightGBM] [Warning] bagging_freq is set=5, subsample_freq=0 will be ignored. Current value: bagging_freq=5\n",
      "[LightGBM] [Warning] feature_fraction is set=0.7709828932730298, colsample_bytree=1.0 will be ignored. Current value: feature_fraction=0.7709828932730298\n",
      "[LightGBM] [Warning] bagging_fraction is set=0.9568332467165983, subsample=1.0 will be ignored. Current value: bagging_fraction=0.9568332467165983\n",
      "[LightGBM] [Warning] bagging_freq is set=5, subsample_freq=0 will be ignored. Current value: bagging_freq=5\n",
      "[LightGBM] [Warning] feature_fraction is set=0.7709828932730298, colsample_bytree=1.0 will be ignored. Current value: feature_fraction=0.7709828932730298\n",
      "[LightGBM] [Warning] bagging_fraction is set=0.9568332467165983, subsample=1.0 will be ignored. Current value: bagging_fraction=0.9568332467165983\n",
      "[LightGBM] [Warning] bagging_freq is set=5, subsample_freq=0 will be ignored. Current value: bagging_freq=5\n",
      "[LightGBM] [Warning] feature_fraction is set=0.7709828932730298, colsample_bytree=1.0 will be ignored. Current value: feature_fraction=0.7709828932730298\n",
      "[LightGBM] [Warning] bagging_fraction is set=0.9568332467165983, subsample=1.0 will be ignored. Current value: bagging_fraction=0.9568332467165983\n",
      "[LightGBM] [Warning] bagging_freq is set=5, subsample_freq=0 will be ignored. Current value: bagging_freq=5\n",
      "[LightGBM] [Warning] feature_fraction is set=0.7709828932730298, colsample_bytree=1.0 will be ignored. Current value: feature_fraction=0.7709828932730298\n",
      "[LightGBM] [Warning] bagging_fraction is set=0.9568332467165983, subsample=1.0 will be ignored. Current value: bagging_fraction=0.9568332467165983\n",
      "[LightGBM] [Warning] bagging_freq is set=5, subsample_freq=0 will be ignored. Current value: bagging_freq=5\n",
      "[LightGBM] [Warning] feature_fraction is set=0.7709828932730298, colsample_bytree=1.0 will be ignored. Current value: feature_fraction=0.7709828932730298\n",
      "[LightGBM] [Warning] bagging_fraction is set=0.9568332467165983, subsample=1.0 will be ignored. Current value: bagging_fraction=0.9568332467165983\n",
      "[LightGBM] [Warning] bagging_freq is set=5, subsample_freq=0 will be ignored. Current value: bagging_freq=5\n",
      "[LightGBM] [Warning] feature_fraction is set=0.7709828932730298, colsample_bytree=1.0 will be ignored. Current value: feature_fraction=0.7709828932730298\n",
      "[LightGBM] [Warning] bagging_fraction is set=0.9568332467165983, subsample=1.0 will be ignored. Current value: bagging_fraction=0.9568332467165983\n",
      "[LightGBM] [Warning] bagging_freq is set=5, subsample_freq=0 will be ignored. Current value: bagging_freq=5\n",
      "[LightGBM] [Warning] feature_fraction is set=0.7709828932730298, colsample_bytree=1.0 will be ignored. Current value: feature_fraction=0.7709828932730298\n",
      "[LightGBM] [Warning] bagging_fraction is set=0.9568332467165983, subsample=1.0 will be ignored. Current value: bagging_fraction=0.9568332467165983\n",
      "[LightGBM] [Warning] bagging_freq is set=5, subsample_freq=0 will be ignored. Current value: bagging_freq=5\n",
      "[LightGBM] [Warning] feature_fraction is set=0.7709828932730298, colsample_bytree=1.0 will be ignored. Current value: feature_fraction=0.7709828932730298\n",
      "[LightGBM] [Warning] bagging_fraction is set=0.9568332467165983, subsample=1.0 will be ignored. Current value: bagging_fraction=0.9568332467165983\n",
      "[LightGBM] [Warning] bagging_freq is set=5, subsample_freq=0 will be ignored. Current value: bagging_freq=5\n",
      "[LightGBM] [Warning] feature_fraction is set=0.7709828932730298, colsample_bytree=1.0 will be ignored. Current value: feature_fraction=0.7709828932730298\n",
      "[LightGBM] [Warning] bagging_fraction is set=0.9568332467165983, subsample=1.0 will be ignored. Current value: bagging_fraction=0.9568332467165983\n",
      "[LightGBM] [Warning] bagging_freq is set=5, subsample_freq=0 will be ignored. Current value: bagging_freq=5\n",
      "[LightGBM] [Warning] feature_fraction is set=0.7709828932730298, colsample_bytree=1.0 will be ignored. Current value: feature_fraction=0.7709828932730298\n",
      "[LightGBM] [Warning] bagging_fraction is set=0.9568332467165983, subsample=1.0 will be ignored. Current value: bagging_fraction=0.9568332467165983\n",
      "[LightGBM] [Warning] bagging_freq is set=5, subsample_freq=0 will be ignored. Current value: bagging_freq=5\n",
      "[LightGBM] [Warning] feature_fraction is set=0.7709828932730298, colsample_bytree=1.0 will be ignored. Current value: feature_fraction=0.7709828932730298\n",
      "[LightGBM] [Warning] bagging_fraction is set=0.9568332467165983, subsample=1.0 will be ignored. Current value: bagging_fraction=0.9568332467165983\n",
      "[LightGBM] [Warning] bagging_freq is set=5, subsample_freq=0 will be ignored. Current value: bagging_freq=5\n",
      "[LightGBM] [Warning] feature_fraction is set=0.7709828932730298, colsample_bytree=1.0 will be ignored. Current value: feature_fraction=0.7709828932730298\n",
      "[LightGBM] [Warning] bagging_fraction is set=0.9568332467165983, subsample=1.0 will be ignored. Current value: bagging_fraction=0.9568332467165983\n",
      "[LightGBM] [Warning] bagging_freq is set=5, subsample_freq=0 will be ignored. Current value: bagging_freq=5\n",
      "[LightGBM] [Warning] feature_fraction is set=0.7709828932730298, colsample_bytree=1.0 will be ignored. Current value: feature_fraction=0.7709828932730298\n",
      "[LightGBM] [Warning] bagging_fraction is set=0.9568332467165983, subsample=1.0 will be ignored. Current value: bagging_fraction=0.9568332467165983\n",
      "[LightGBM] [Warning] bagging_freq is set=5, subsample_freq=0 will be ignored. Current value: bagging_freq=5\n",
      "[LightGBM] [Warning] feature_fraction is set=0.7709828932730298, colsample_bytree=1.0 will be ignored. Current value: feature_fraction=0.7709828932730298\n",
      "[LightGBM] [Warning] bagging_fraction is set=0.9568332467165983, subsample=1.0 will be ignored. Current value: bagging_fraction=0.9568332467165983\n",
      "[LightGBM] [Warning] bagging_freq is set=5, subsample_freq=0 will be ignored. Current value: bagging_freq=5\n",
      "[LightGBM] [Warning] feature_fraction is set=0.7709828932730298, colsample_bytree=1.0 will be ignored. Current value: feature_fraction=0.7709828932730298\n",
      "[LightGBM] [Warning] bagging_fraction is set=0.9568332467165983, subsample=1.0 will be ignored. Current value: bagging_fraction=0.9568332467165983\n",
      "[LightGBM] [Warning] bagging_freq is set=5, subsample_freq=0 will be ignored. Current value: bagging_freq=5\n",
      "[LightGBM] [Warning] feature_fraction is set=0.7709828932730298, colsample_bytree=1.0 will be ignored. Current value: feature_fraction=0.7709828932730298\n",
      "[LightGBM] [Warning] bagging_fraction is set=0.9568332467165983, subsample=1.0 will be ignored. Current value: bagging_fraction=0.9568332467165983\n",
      "[LightGBM] [Warning] bagging_freq is set=5, subsample_freq=0 will be ignored. Current value: bagging_freq=5\n",
      "[LightGBM] [Warning] feature_fraction is set=0.7709828932730298, colsample_bytree=1.0 will be ignored. Current value: feature_fraction=0.7709828932730298\n",
      "[LightGBM] [Warning] bagging_fraction is set=0.9568332467165983, subsample=1.0 will be ignored. Current value: bagging_fraction=0.9568332467165983\n",
      "[LightGBM] [Warning] bagging_freq is set=5, subsample_freq=0 will be ignored. Current value: bagging_freq=5\n",
      "[LightGBM] [Warning] feature_fraction is set=0.7709828932730298, colsample_bytree=1.0 will be ignored. Current value: feature_fraction=0.7709828932730298\n",
      "[LightGBM] [Warning] bagging_fraction is set=0.9568332467165983, subsample=1.0 will be ignored. Current value: bagging_fraction=0.9568332467165983\n",
      "[LightGBM] [Warning] bagging_freq is set=5, subsample_freq=0 will be ignored. Current value: bagging_freq=5\n",
      "[LightGBM] [Warning] feature_fraction is set=0.7709828932730298, colsample_bytree=1.0 will be ignored. Current value: feature_fraction=0.7709828932730298\n",
      "[LightGBM] [Warning] bagging_fraction is set=0.9568332467165983, subsample=1.0 will be ignored. Current value: bagging_fraction=0.9568332467165983\n",
      "[LightGBM] [Warning] bagging_freq is set=5, subsample_freq=0 will be ignored. Current value: bagging_freq=5\n",
      "[LightGBM] [Warning] feature_fraction is set=0.7709828932730298, colsample_bytree=1.0 will be ignored. Current value: feature_fraction=0.7709828932730298\n",
      "[LightGBM] [Warning] bagging_fraction is set=0.9568332467165983, subsample=1.0 will be ignored. Current value: bagging_fraction=0.9568332467165983\n",
      "[LightGBM] [Warning] bagging_freq is set=5, subsample_freq=0 will be ignored. Current value: bagging_freq=5\n",
      "[LightGBM] [Warning] feature_fraction is set=0.7709828932730298, colsample_bytree=1.0 will be ignored. Current value: feature_fraction=0.7709828932730298\n",
      "[LightGBM] [Warning] bagging_fraction is set=0.9568332467165983, subsample=1.0 will be ignored. Current value: bagging_fraction=0.9568332467165983\n",
      "[LightGBM] [Warning] bagging_freq is set=5, subsample_freq=0 will be ignored. Current value: bagging_freq=5\n",
      "[LightGBM] [Warning] feature_fraction is set=0.7709828932730298, colsample_bytree=1.0 will be ignored. Current value: feature_fraction=0.7709828932730298\n",
      "[LightGBM] [Warning] bagging_fraction is set=0.9568332467165983, subsample=1.0 will be ignored. Current value: bagging_fraction=0.9568332467165983\n",
      "[LightGBM] [Warning] bagging_freq is set=5, subsample_freq=0 will be ignored. Current value: bagging_freq=5\n",
      "[LightGBM] [Warning] feature_fraction is set=0.7709828932730298, colsample_bytree=1.0 will be ignored. Current value: feature_fraction=0.7709828932730298\n",
      "[LightGBM] [Warning] bagging_fraction is set=0.9568332467165983, subsample=1.0 will be ignored. Current value: bagging_fraction=0.9568332467165983\n",
      "[LightGBM] [Warning] bagging_freq is set=5, subsample_freq=0 will be ignored. Current value: bagging_freq=5\n",
      "[LightGBM] [Warning] feature_fraction is set=0.7709828932730298, colsample_bytree=1.0 will be ignored. Current value: feature_fraction=0.7709828932730298\n",
      "[LightGBM] [Warning] bagging_fraction is set=0.9568332467165983, subsample=1.0 will be ignored. Current value: bagging_fraction=0.9568332467165983\n",
      "[LightGBM] [Warning] bagging_freq is set=5, subsample_freq=0 will be ignored. Current value: bagging_freq=5\n",
      "[LightGBM] [Warning] feature_fraction is set=0.7709828932730298, colsample_bytree=1.0 will be ignored. Current value: feature_fraction=0.7709828932730298\n",
      "[LightGBM] [Warning] bagging_fraction is set=0.9568332467165983, subsample=1.0 will be ignored. Current value: bagging_fraction=0.9568332467165983\n",
      "[LightGBM] [Warning] bagging_freq is set=5, subsample_freq=0 will be ignored. Current value: bagging_freq=5\n",
      "[LightGBM] [Warning] feature_fraction is set=0.7709828932730298, colsample_bytree=1.0 will be ignored. Current value: feature_fraction=0.7709828932730298\n",
      "[LightGBM] [Warning] bagging_fraction is set=0.9568332467165983, subsample=1.0 will be ignored. Current value: bagging_fraction=0.9568332467165983\n",
      "[LightGBM] [Warning] bagging_freq is set=5, subsample_freq=0 will be ignored. Current value: bagging_freq=5\n",
      "[LightGBM] [Warning] feature_fraction is set=0.7709828932730298, colsample_bytree=1.0 will be ignored. Current value: feature_fraction=0.7709828932730298\n",
      "[LightGBM] [Warning] bagging_fraction is set=0.9568332467165983, subsample=1.0 will be ignored. Current value: bagging_fraction=0.9568332467165983\n",
      "[LightGBM] [Warning] bagging_freq is set=5, subsample_freq=0 will be ignored. Current value: bagging_freq=5\n",
      "[LightGBM] [Warning] feature_fraction is set=0.7709828932730298, colsample_bytree=1.0 will be ignored. Current value: feature_fraction=0.7709828932730298\n",
      "[LightGBM] [Warning] bagging_fraction is set=0.9568332467165983, subsample=1.0 will be ignored. Current value: bagging_fraction=0.9568332467165983\n",
      "[LightGBM] [Warning] bagging_freq is set=5, subsample_freq=0 will be ignored. Current value: bagging_freq=5\n",
      "[LightGBM] [Warning] feature_fraction is set=0.7709828932730298, colsample_bytree=1.0 will be ignored. Current value: feature_fraction=0.7709828932730298\n",
      "[LightGBM] [Warning] bagging_fraction is set=0.9568332467165983, subsample=1.0 will be ignored. Current value: bagging_fraction=0.9568332467165983\n",
      "[LightGBM] [Warning] bagging_freq is set=5, subsample_freq=0 will be ignored. Current value: bagging_freq=5\n",
      "[LightGBM] [Warning] feature_fraction is set=0.7709828932730298, colsample_bytree=1.0 will be ignored. Current value: feature_fraction=0.7709828932730298\n",
      "[LightGBM] [Warning] bagging_fraction is set=0.9568332467165983, subsample=1.0 will be ignored. Current value: bagging_fraction=0.9568332467165983\n",
      "[LightGBM] [Warning] bagging_freq is set=5, subsample_freq=0 will be ignored. Current value: bagging_freq=5\n",
      "[LightGBM] [Warning] feature_fraction is set=0.7709828932730298, colsample_bytree=1.0 will be ignored. Current value: feature_fraction=0.7709828932730298\n",
      "[LightGBM] [Warning] bagging_fraction is set=0.9568332467165983, subsample=1.0 will be ignored. Current value: bagging_fraction=0.9568332467165983\n",
      "[LightGBM] [Warning] bagging_freq is set=5, subsample_freq=0 will be ignored. Current value: bagging_freq=5\n",
      "[LightGBM] [Warning] feature_fraction is set=0.7709828932730298, colsample_bytree=1.0 will be ignored. Current value: feature_fraction=0.7709828932730298\n",
      "[LightGBM] [Warning] bagging_fraction is set=0.9568332467165983, subsample=1.0 will be ignored. Current value: bagging_fraction=0.9568332467165983\n",
      "[LightGBM] [Warning] bagging_freq is set=5, subsample_freq=0 will be ignored. Current value: bagging_freq=5\n",
      "[LightGBM] [Warning] feature_fraction is set=0.7709828932730298, colsample_bytree=1.0 will be ignored. Current value: feature_fraction=0.7709828932730298\n",
      "[LightGBM] [Warning] bagging_fraction is set=0.9568332467165983, subsample=1.0 will be ignored. Current value: bagging_fraction=0.9568332467165983\n",
      "[LightGBM] [Warning] bagging_freq is set=5, subsample_freq=0 will be ignored. Current value: bagging_freq=5\n",
      "[LightGBM] [Warning] feature_fraction is set=0.7709828932730298, colsample_bytree=1.0 will be ignored. Current value: feature_fraction=0.7709828932730298\n",
      "[LightGBM] [Warning] bagging_fraction is set=0.9568332467165983, subsample=1.0 will be ignored. Current value: bagging_fraction=0.9568332467165983\n",
      "[LightGBM] [Warning] bagging_freq is set=5, subsample_freq=0 will be ignored. Current value: bagging_freq=5\n",
      "[LightGBM] [Warning] feature_fraction is set=0.7709828932730298, colsample_bytree=1.0 will be ignored. Current value: feature_fraction=0.7709828932730298\n",
      "[LightGBM] [Warning] bagging_fraction is set=0.9568332467165983, subsample=1.0 will be ignored. Current value: bagging_fraction=0.9568332467165983\n",
      "[LightGBM] [Warning] bagging_freq is set=5, subsample_freq=0 will be ignored. Current value: bagging_freq=5\n",
      "[LightGBM] [Warning] feature_fraction is set=0.7709828932730298, colsample_bytree=1.0 will be ignored. Current value: feature_fraction=0.7709828932730298\n",
      "[LightGBM] [Warning] bagging_fraction is set=0.9568332467165983, subsample=1.0 will be ignored. Current value: bagging_fraction=0.9568332467165983\n",
      "[LightGBM] [Warning] bagging_freq is set=5, subsample_freq=0 will be ignored. Current value: bagging_freq=5\n",
      "[LightGBM] [Warning] feature_fraction is set=0.7709828932730298, colsample_bytree=1.0 will be ignored. Current value: feature_fraction=0.7709828932730298\n",
      "[LightGBM] [Warning] bagging_fraction is set=0.9568332467165983, subsample=1.0 will be ignored. Current value: bagging_fraction=0.9568332467165983\n",
      "[LightGBM] [Warning] bagging_freq is set=5, subsample_freq=0 will be ignored. Current value: bagging_freq=5\n",
      "[LightGBM] [Warning] feature_fraction is set=0.7709828932730298, colsample_bytree=1.0 will be ignored. Current value: feature_fraction=0.7709828932730298\n",
      "[LightGBM] [Warning] bagging_fraction is set=0.9568332467165983, subsample=1.0 will be ignored. Current value: bagging_fraction=0.9568332467165983\n",
      "[LightGBM] [Warning] bagging_freq is set=5, subsample_freq=0 will be ignored. Current value: bagging_freq=5\n",
      "[LightGBM] [Warning] feature_fraction is set=0.7709828932730298, colsample_bytree=1.0 will be ignored. Current value: feature_fraction=0.7709828932730298\n",
      "[LightGBM] [Warning] bagging_fraction is set=0.9568332467165983, subsample=1.0 will be ignored. Current value: bagging_fraction=0.9568332467165983\n",
      "[LightGBM] [Warning] bagging_freq is set=5, subsample_freq=0 will be ignored. Current value: bagging_freq=5\n",
      "[LightGBM] [Warning] feature_fraction is set=0.7709828932730298, colsample_bytree=1.0 will be ignored. Current value: feature_fraction=0.7709828932730298\n",
      "[LightGBM] [Warning] bagging_fraction is set=0.9568332467165983, subsample=1.0 will be ignored. Current value: bagging_fraction=0.9568332467165983\n",
      "[LightGBM] [Warning] bagging_freq is set=5, subsample_freq=0 will be ignored. Current value: bagging_freq=5\n",
      "[LightGBM] [Warning] feature_fraction is set=0.7709828932730298, colsample_bytree=1.0 will be ignored. Current value: feature_fraction=0.7709828932730298\n",
      "[LightGBM] [Warning] bagging_fraction is set=0.9568332467165983, subsample=1.0 will be ignored. Current value: bagging_fraction=0.9568332467165983\n",
      "[LightGBM] [Warning] bagging_freq is set=5, subsample_freq=0 will be ignored. Current value: bagging_freq=5\n",
      "[LightGBM] [Warning] feature_fraction is set=0.7709828932730298, colsample_bytree=1.0 will be ignored. Current value: feature_fraction=0.7709828932730298\n",
      "[LightGBM] [Warning] bagging_fraction is set=0.9568332467165983, subsample=1.0 will be ignored. Current value: bagging_fraction=0.9568332467165983\n",
      "[LightGBM] [Warning] bagging_freq is set=5, subsample_freq=0 will be ignored. Current value: bagging_freq=5\n",
      "[LightGBM] [Warning] feature_fraction is set=0.7709828932730298, colsample_bytree=1.0 will be ignored. Current value: feature_fraction=0.7709828932730298\n",
      "[LightGBM] [Warning] bagging_fraction is set=0.9568332467165983, subsample=1.0 will be ignored. Current value: bagging_fraction=0.9568332467165983\n",
      "[LightGBM] [Warning] bagging_freq is set=5, subsample_freq=0 will be ignored. Current value: bagging_freq=5\n",
      "[LightGBM] [Warning] feature_fraction is set=0.7709828932730298, colsample_bytree=1.0 will be ignored. Current value: feature_fraction=0.7709828932730298\n",
      "[LightGBM] [Warning] bagging_fraction is set=0.9568332467165983, subsample=1.0 will be ignored. Current value: bagging_fraction=0.9568332467165983\n",
      "[LightGBM] [Warning] bagging_freq is set=5, subsample_freq=0 will be ignored. Current value: bagging_freq=5\n",
      "[LightGBM] [Warning] feature_fraction is set=0.7709828932730298, colsample_bytree=1.0 will be ignored. Current value: feature_fraction=0.7709828932730298\n",
      "[LightGBM] [Warning] bagging_fraction is set=0.9568332467165983, subsample=1.0 will be ignored. Current value: bagging_fraction=0.9568332467165983\n",
      "[LightGBM] [Warning] bagging_freq is set=5, subsample_freq=0 will be ignored. Current value: bagging_freq=5\n",
      "[LightGBM] [Warning] feature_fraction is set=0.7709828932730298, colsample_bytree=1.0 will be ignored. Current value: feature_fraction=0.7709828932730298\n",
      "[LightGBM] [Warning] bagging_fraction is set=0.9568332467165983, subsample=1.0 will be ignored. Current value: bagging_fraction=0.9568332467165983\n",
      "[LightGBM] [Warning] bagging_freq is set=5, subsample_freq=0 will be ignored. Current value: bagging_freq=5\n",
      "[LightGBM] [Warning] feature_fraction is set=0.7709828932730298, colsample_bytree=1.0 will be ignored. Current value: feature_fraction=0.7709828932730298\n",
      "[LightGBM] [Warning] bagging_fraction is set=0.9568332467165983, subsample=1.0 will be ignored. Current value: bagging_fraction=0.9568332467165983\n",
      "[LightGBM] [Warning] bagging_freq is set=5, subsample_freq=0 will be ignored. Current value: bagging_freq=5\n",
      "[LightGBM] [Warning] feature_fraction is set=0.7709828932730298, colsample_bytree=1.0 will be ignored. Current value: feature_fraction=0.7709828932730298\n",
      "[LightGBM] [Warning] bagging_fraction is set=0.9568332467165983, subsample=1.0 will be ignored. Current value: bagging_fraction=0.9568332467165983\n",
      "[LightGBM] [Warning] bagging_freq is set=5, subsample_freq=0 will be ignored. Current value: bagging_freq=5\n",
      "[LightGBM] [Warning] feature_fraction is set=0.7709828932730298, colsample_bytree=1.0 will be ignored. Current value: feature_fraction=0.7709828932730298\n",
      "[LightGBM] [Warning] bagging_fraction is set=0.9568332467165983, subsample=1.0 will be ignored. Current value: bagging_fraction=0.9568332467165983\n",
      "[LightGBM] [Warning] bagging_freq is set=5, subsample_freq=0 will be ignored. Current value: bagging_freq=5\n",
      "[LightGBM] [Warning] feature_fraction is set=0.7709828932730298, colsample_bytree=1.0 will be ignored. Current value: feature_fraction=0.7709828932730298\n",
      "[LightGBM] [Warning] bagging_fraction is set=0.9568332467165983, subsample=1.0 will be ignored. Current value: bagging_fraction=0.9568332467165983\n",
      "[LightGBM] [Warning] bagging_freq is set=5, subsample_freq=0 will be ignored. Current value: bagging_freq=5\n",
      "[LightGBM] [Warning] feature_fraction is set=0.7709828932730298, colsample_bytree=1.0 will be ignored. Current value: feature_fraction=0.7709828932730298\n",
      "[LightGBM] [Warning] bagging_fraction is set=0.9568332467165983, subsample=1.0 will be ignored. Current value: bagging_fraction=0.9568332467165983\n",
      "[LightGBM] [Warning] bagging_freq is set=5, subsample_freq=0 will be ignored. Current value: bagging_freq=5\n",
      "[LightGBM] [Warning] feature_fraction is set=0.7709828932730298, colsample_bytree=1.0 will be ignored. Current value: feature_fraction=0.7709828932730298\n",
      "[LightGBM] [Warning] bagging_fraction is set=0.9568332467165983, subsample=1.0 will be ignored. Current value: bagging_fraction=0.9568332467165983\n",
      "[LightGBM] [Warning] bagging_freq is set=5, subsample_freq=0 will be ignored. Current value: bagging_freq=5\n",
      "[LightGBM] [Warning] feature_fraction is set=0.7709828932730298, colsample_bytree=1.0 will be ignored. Current value: feature_fraction=0.7709828932730298\n",
      "[LightGBM] [Warning] bagging_fraction is set=0.9568332467165983, subsample=1.0 will be ignored. Current value: bagging_fraction=0.9568332467165983\n",
      "[LightGBM] [Warning] bagging_freq is set=5, subsample_freq=0 will be ignored. Current value: bagging_freq=5\n",
      "[LightGBM] [Warning] feature_fraction is set=0.7709828932730298, colsample_bytree=1.0 will be ignored. Current value: feature_fraction=0.7709828932730298\n",
      "[LightGBM] [Warning] bagging_fraction is set=0.9568332467165983, subsample=1.0 will be ignored. Current value: bagging_fraction=0.9568332467165983\n",
      "[LightGBM] [Warning] bagging_freq is set=5, subsample_freq=0 will be ignored. Current value: bagging_freq=5\n",
      "[LightGBM] [Warning] feature_fraction is set=0.7709828932730298, colsample_bytree=1.0 will be ignored. Current value: feature_fraction=0.7709828932730298\n",
      "[LightGBM] [Warning] bagging_fraction is set=0.9568332467165983, subsample=1.0 will be ignored. Current value: bagging_fraction=0.9568332467165983\n",
      "[LightGBM] [Warning] bagging_freq is set=5, subsample_freq=0 will be ignored. Current value: bagging_freq=5\n",
      "[LightGBM] [Warning] feature_fraction is set=0.7709828932730298, colsample_bytree=1.0 will be ignored. Current value: feature_fraction=0.7709828932730298\n",
      "[LightGBM] [Warning] bagging_fraction is set=0.9568332467165983, subsample=1.0 will be ignored. Current value: bagging_fraction=0.9568332467165983\n",
      "[LightGBM] [Warning] bagging_freq is set=5, subsample_freq=0 will be ignored. Current value: bagging_freq=5\n",
      "[LightGBM] [Warning] feature_fraction is set=0.7709828932730298, colsample_bytree=1.0 will be ignored. Current value: feature_fraction=0.7709828932730298\n",
      "[LightGBM] [Warning] bagging_fraction is set=0.9568332467165983, subsample=1.0 will be ignored. Current value: bagging_fraction=0.9568332467165983\n",
      "[LightGBM] [Warning] bagging_freq is set=5, subsample_freq=0 will be ignored. Current value: bagging_freq=5\n",
      "[LightGBM] [Warning] feature_fraction is set=0.7709828932730298, colsample_bytree=1.0 will be ignored. Current value: feature_fraction=0.7709828932730298\n",
      "[LightGBM] [Warning] bagging_fraction is set=0.9568332467165983, subsample=1.0 will be ignored. Current value: bagging_fraction=0.9568332467165983\n",
      "[LightGBM] [Warning] bagging_freq is set=5, subsample_freq=0 will be ignored. Current value: bagging_freq=5\n",
      "[LightGBM] [Warning] feature_fraction is set=0.7709828932730298, colsample_bytree=1.0 will be ignored. Current value: feature_fraction=0.7709828932730298\n",
      "[LightGBM] [Warning] bagging_fraction is set=0.9568332467165983, subsample=1.0 will be ignored. Current value: bagging_fraction=0.9568332467165983\n",
      "[LightGBM] [Warning] bagging_freq is set=5, subsample_freq=0 will be ignored. Current value: bagging_freq=5\n",
      "[LightGBM] [Warning] feature_fraction is set=0.7709828932730298, colsample_bytree=1.0 will be ignored. Current value: feature_fraction=0.7709828932730298\n",
      "[LightGBM] [Warning] bagging_fraction is set=0.9568332467165983, subsample=1.0 will be ignored. Current value: bagging_fraction=0.9568332467165983\n",
      "[LightGBM] [Warning] bagging_freq is set=5, subsample_freq=0 will be ignored. Current value: bagging_freq=5\n",
      "[LightGBM] [Warning] feature_fraction is set=0.7709828932730298, colsample_bytree=1.0 will be ignored. Current value: feature_fraction=0.7709828932730298\n",
      "[LightGBM] [Warning] bagging_fraction is set=0.9568332467165983, subsample=1.0 will be ignored. Current value: bagging_fraction=0.9568332467165983\n",
      "[LightGBM] [Warning] bagging_freq is set=5, subsample_freq=0 will be ignored. Current value: bagging_freq=5\n",
      "[LightGBM] [Warning] feature_fraction is set=0.7709828932730298, colsample_bytree=1.0 will be ignored. Current value: feature_fraction=0.7709828932730298\n",
      "[LightGBM] [Warning] bagging_fraction is set=0.9568332467165983, subsample=1.0 will be ignored. Current value: bagging_fraction=0.9568332467165983\n",
      "[LightGBM] [Warning] bagging_freq is set=5, subsample_freq=0 will be ignored. Current value: bagging_freq=5\n",
      "[LightGBM] [Warning] feature_fraction is set=0.7709828932730298, colsample_bytree=1.0 will be ignored. Current value: feature_fraction=0.7709828932730298\n",
      "[LightGBM] [Warning] bagging_fraction is set=0.9568332467165983, subsample=1.0 will be ignored. Current value: bagging_fraction=0.9568332467165983\n",
      "[LightGBM] [Warning] bagging_freq is set=5, subsample_freq=0 will be ignored. Current value: bagging_freq=5\n",
      "[LightGBM] [Warning] feature_fraction is set=0.7709828932730298, colsample_bytree=1.0 will be ignored. Current value: feature_fraction=0.7709828932730298\n",
      "[LightGBM] [Warning] bagging_fraction is set=0.9568332467165983, subsample=1.0 will be ignored. Current value: bagging_fraction=0.9568332467165983\n",
      "[LightGBM] [Warning] bagging_freq is set=5, subsample_freq=0 will be ignored. Current value: bagging_freq=5\n",
      "[LightGBM] [Warning] feature_fraction is set=0.7709828932730298, colsample_bytree=1.0 will be ignored. Current value: feature_fraction=0.7709828932730298\n",
      "[LightGBM] [Warning] bagging_fraction is set=0.9568332467165983, subsample=1.0 will be ignored. Current value: bagging_fraction=0.9568332467165983\n",
      "[LightGBM] [Warning] bagging_freq is set=5, subsample_freq=0 will be ignored. Current value: bagging_freq=5\n",
      "[LightGBM] [Warning] feature_fraction is set=0.7709828932730298, colsample_bytree=1.0 will be ignored. Current value: feature_fraction=0.7709828932730298\n",
      "[LightGBM] [Warning] bagging_fraction is set=0.9568332467165983, subsample=1.0 will be ignored. Current value: bagging_fraction=0.9568332467165983\n",
      "[LightGBM] [Warning] bagging_freq is set=5, subsample_freq=0 will be ignored. Current value: bagging_freq=5\n",
      "[LightGBM] [Warning] feature_fraction is set=0.7709828932730298, colsample_bytree=1.0 will be ignored. Current value: feature_fraction=0.7709828932730298\n",
      "[LightGBM] [Warning] bagging_fraction is set=0.9568332467165983, subsample=1.0 will be ignored. Current value: bagging_fraction=0.9568332467165983\n",
      "[LightGBM] [Warning] bagging_freq is set=5, subsample_freq=0 will be ignored. Current value: bagging_freq=5\n",
      "[LightGBM] [Warning] feature_fraction is set=0.7709828932730298, colsample_bytree=1.0 will be ignored. Current value: feature_fraction=0.7709828932730298\n",
      "[LightGBM] [Warning] bagging_fraction is set=0.9568332467165983, subsample=1.0 will be ignored. Current value: bagging_fraction=0.9568332467165983\n",
      "[LightGBM] [Warning] bagging_freq is set=5, subsample_freq=0 will be ignored. Current value: bagging_freq=5\n",
      "[LightGBM] [Warning] feature_fraction is set=0.7709828932730298, colsample_bytree=1.0 will be ignored. Current value: feature_fraction=0.7709828932730298\n",
      "[LightGBM] [Warning] bagging_fraction is set=0.9568332467165983, subsample=1.0 will be ignored. Current value: bagging_fraction=0.9568332467165983\n",
      "[LightGBM] [Warning] bagging_freq is set=5, subsample_freq=0 will be ignored. Current value: bagging_freq=5\n",
      "[LightGBM] [Warning] feature_fraction is set=0.7709828932730298, colsample_bytree=1.0 will be ignored. Current value: feature_fraction=0.7709828932730298\n",
      "[LightGBM] [Warning] bagging_fraction is set=0.9568332467165983, subsample=1.0 will be ignored. Current value: bagging_fraction=0.9568332467165983\n",
      "[LightGBM] [Warning] bagging_freq is set=5, subsample_freq=0 will be ignored. Current value: bagging_freq=5\n",
      "[LightGBM] [Warning] feature_fraction is set=0.7709828932730298, colsample_bytree=1.0 will be ignored. Current value: feature_fraction=0.7709828932730298\n",
      "[LightGBM] [Warning] bagging_fraction is set=0.9568332467165983, subsample=1.0 will be ignored. Current value: bagging_fraction=0.9568332467165983\n",
      "[LightGBM] [Warning] bagging_freq is set=5, subsample_freq=0 will be ignored. Current value: bagging_freq=5\n",
      "[LightGBM] [Warning] feature_fraction is set=0.7709828932730298, colsample_bytree=1.0 will be ignored. Current value: feature_fraction=0.7709828932730298\n",
      "[LightGBM] [Warning] bagging_fraction is set=0.9568332467165983, subsample=1.0 will be ignored. Current value: bagging_fraction=0.9568332467165983\n",
      "[LightGBM] [Warning] bagging_freq is set=5, subsample_freq=0 will be ignored. Current value: bagging_freq=5\n",
      "[LightGBM] [Warning] feature_fraction is set=0.7709828932730298, colsample_bytree=1.0 will be ignored. Current value: feature_fraction=0.7709828932730298\n",
      "[LightGBM] [Warning] bagging_fraction is set=0.9568332467165983, subsample=1.0 will be ignored. Current value: bagging_fraction=0.9568332467165983\n",
      "[LightGBM] [Warning] bagging_freq is set=5, subsample_freq=0 will be ignored. Current value: bagging_freq=5\n",
      "[LightGBM] [Warning] feature_fraction is set=0.7709828932730298, colsample_bytree=1.0 will be ignored. Current value: feature_fraction=0.7709828932730298\n",
      "[LightGBM] [Warning] bagging_fraction is set=0.9568332467165983, subsample=1.0 will be ignored. Current value: bagging_fraction=0.9568332467165983\n",
      "[LightGBM] [Warning] bagging_freq is set=5, subsample_freq=0 will be ignored. Current value: bagging_freq=5\n",
      "[LightGBM] [Warning] feature_fraction is set=0.7709828932730298, colsample_bytree=1.0 will be ignored. Current value: feature_fraction=0.7709828932730298\n",
      "[LightGBM] [Warning] bagging_fraction is set=0.9568332467165983, subsample=1.0 will be ignored. Current value: bagging_fraction=0.9568332467165983\n",
      "[LightGBM] [Warning] bagging_freq is set=5, subsample_freq=0 will be ignored. Current value: bagging_freq=5\n",
      "[LightGBM] [Warning] feature_fraction is set=0.7709828932730298, colsample_bytree=1.0 will be ignored. Current value: feature_fraction=0.7709828932730298\n",
      "[LightGBM] [Warning] bagging_fraction is set=0.9568332467165983, subsample=1.0 will be ignored. Current value: bagging_fraction=0.9568332467165983\n",
      "[LightGBM] [Warning] bagging_freq is set=5, subsample_freq=0 will be ignored. Current value: bagging_freq=5\n",
      "[LightGBM] [Warning] feature_fraction is set=0.7709828932730298, colsample_bytree=1.0 will be ignored. Current value: feature_fraction=0.7709828932730298\n",
      "[LightGBM] [Warning] bagging_fraction is set=0.9568332467165983, subsample=1.0 will be ignored. Current value: bagging_fraction=0.9568332467165983\n",
      "[LightGBM] [Warning] bagging_freq is set=5, subsample_freq=0 will be ignored. Current value: bagging_freq=5\n",
      "[LightGBM] [Warning] feature_fraction is set=0.7709828932730298, colsample_bytree=1.0 will be ignored. Current value: feature_fraction=0.7709828932730298\n",
      "[LightGBM] [Warning] bagging_fraction is set=0.9568332467165983, subsample=1.0 will be ignored. Current value: bagging_fraction=0.9568332467165983\n",
      "[LightGBM] [Warning] bagging_freq is set=5, subsample_freq=0 will be ignored. Current value: bagging_freq=5\n",
      "[LightGBM] [Warning] feature_fraction is set=0.7709828932730298, colsample_bytree=1.0 will be ignored. Current value: feature_fraction=0.7709828932730298\n",
      "[LightGBM] [Warning] bagging_fraction is set=0.9568332467165983, subsample=1.0 will be ignored. Current value: bagging_fraction=0.9568332467165983\n",
      "[LightGBM] [Warning] bagging_freq is set=5, subsample_freq=0 will be ignored. Current value: bagging_freq=5\n",
      "[LightGBM] [Warning] feature_fraction is set=0.7709828932730298, colsample_bytree=1.0 will be ignored. Current value: feature_fraction=0.7709828932730298\n",
      "[LightGBM] [Warning] bagging_fraction is set=0.9568332467165983, subsample=1.0 will be ignored. Current value: bagging_fraction=0.9568332467165983\n",
      "[LightGBM] [Warning] bagging_freq is set=5, subsample_freq=0 will be ignored. Current value: bagging_freq=5\n",
      "[LightGBM] [Warning] feature_fraction is set=0.7709828932730298, colsample_bytree=1.0 will be ignored. Current value: feature_fraction=0.7709828932730298\n",
      "[LightGBM] [Warning] bagging_fraction is set=0.9568332467165983, subsample=1.0 will be ignored. Current value: bagging_fraction=0.9568332467165983\n",
      "[LightGBM] [Warning] bagging_freq is set=5, subsample_freq=0 will be ignored. Current value: bagging_freq=5\n",
      "[LightGBM] [Warning] feature_fraction is set=0.7709828932730298, colsample_bytree=1.0 will be ignored. Current value: feature_fraction=0.7709828932730298\n",
      "[LightGBM] [Warning] bagging_fraction is set=0.9568332467165983, subsample=1.0 will be ignored. Current value: bagging_fraction=0.9568332467165983\n",
      "[LightGBM] [Warning] bagging_freq is set=5, subsample_freq=0 will be ignored. Current value: bagging_freq=5\n",
      "[LightGBM] [Warning] feature_fraction is set=0.7709828932730298, colsample_bytree=1.0 will be ignored. Current value: feature_fraction=0.7709828932730298\n",
      "[LightGBM] [Warning] bagging_fraction is set=0.9568332467165983, subsample=1.0 will be ignored. Current value: bagging_fraction=0.9568332467165983\n",
      "[LightGBM] [Warning] bagging_freq is set=5, subsample_freq=0 will be ignored. Current value: bagging_freq=5\n",
      "[LightGBM] [Warning] feature_fraction is set=0.7709828932730298, colsample_bytree=1.0 will be ignored. Current value: feature_fraction=0.7709828932730298\n",
      "[LightGBM] [Warning] bagging_fraction is set=0.9568332467165983, subsample=1.0 will be ignored. Current value: bagging_fraction=0.9568332467165983\n",
      "[LightGBM] [Warning] bagging_freq is set=5, subsample_freq=0 will be ignored. Current value: bagging_freq=5\n",
      "[LightGBM] [Warning] feature_fraction is set=0.7709828932730298, colsample_bytree=1.0 will be ignored. Current value: feature_fraction=0.7709828932730298\n",
      "[LightGBM] [Warning] bagging_fraction is set=0.9568332467165983, subsample=1.0 will be ignored. Current value: bagging_fraction=0.9568332467165983\n",
      "[LightGBM] [Warning] bagging_freq is set=5, subsample_freq=0 will be ignored. Current value: bagging_freq=5\n",
      "[LightGBM] [Warning] feature_fraction is set=0.7709828932730298, colsample_bytree=1.0 will be ignored. Current value: feature_fraction=0.7709828932730298\n",
      "[LightGBM] [Warning] bagging_fraction is set=0.9568332467165983, subsample=1.0 will be ignored. Current value: bagging_fraction=0.9568332467165983\n",
      "[LightGBM] [Warning] bagging_freq is set=5, subsample_freq=0 will be ignored. Current value: bagging_freq=5\n",
      "[LightGBM] [Warning] feature_fraction is set=0.7709828932730298, colsample_bytree=1.0 will be ignored. Current value: feature_fraction=0.7709828932730298\n",
      "[LightGBM] [Warning] bagging_fraction is set=0.9568332467165983, subsample=1.0 will be ignored. Current value: bagging_fraction=0.9568332467165983\n",
      "[LightGBM] [Warning] bagging_freq is set=5, subsample_freq=0 will be ignored. Current value: bagging_freq=5\n",
      "[LightGBM] [Warning] feature_fraction is set=0.7709828932730298, colsample_bytree=1.0 will be ignored. Current value: feature_fraction=0.7709828932730298\n",
      "[LightGBM] [Warning] bagging_fraction is set=0.9568332467165983, subsample=1.0 will be ignored. Current value: bagging_fraction=0.9568332467165983\n",
      "[LightGBM] [Warning] bagging_freq is set=5, subsample_freq=0 will be ignored. Current value: bagging_freq=5\n",
      "[LightGBM] [Warning] feature_fraction is set=0.7709828932730298, colsample_bytree=1.0 will be ignored. Current value: feature_fraction=0.7709828932730298\n",
      "[LightGBM] [Warning] bagging_fraction is set=0.9568332467165983, subsample=1.0 will be ignored. Current value: bagging_fraction=0.9568332467165983\n",
      "[LightGBM] [Warning] bagging_freq is set=5, subsample_freq=0 will be ignored. Current value: bagging_freq=5\n",
      "[LightGBM] [Warning] feature_fraction is set=0.7709828932730298, colsample_bytree=1.0 will be ignored. Current value: feature_fraction=0.7709828932730298\n",
      "[LightGBM] [Warning] bagging_fraction is set=0.9568332467165983, subsample=1.0 will be ignored. Current value: bagging_fraction=0.9568332467165983\n",
      "[LightGBM] [Warning] bagging_freq is set=5, subsample_freq=0 will be ignored. Current value: bagging_freq=5\n",
      "[LightGBM] [Warning] feature_fraction is set=0.7709828932730298, colsample_bytree=1.0 will be ignored. Current value: feature_fraction=0.7709828932730298\n",
      "[LightGBM] [Warning] bagging_fraction is set=0.9568332467165983, subsample=1.0 will be ignored. Current value: bagging_fraction=0.9568332467165983\n",
      "[LightGBM] [Warning] bagging_freq is set=5, subsample_freq=0 will be ignored. Current value: bagging_freq=5\n",
      "[LightGBM] [Warning] feature_fraction is set=0.7709828932730298, colsample_bytree=1.0 will be ignored. Current value: feature_fraction=0.7709828932730298\n",
      "[LightGBM] [Warning] bagging_fraction is set=0.9568332467165983, subsample=1.0 will be ignored. Current value: bagging_fraction=0.9568332467165983\n",
      "[LightGBM] [Warning] bagging_freq is set=5, subsample_freq=0 will be ignored. Current value: bagging_freq=5\n",
      "[LightGBM] [Warning] feature_fraction is set=0.7709828932730298, colsample_bytree=1.0 will be ignored. Current value: feature_fraction=0.7709828932730298\n",
      "[LightGBM] [Warning] bagging_fraction is set=0.9568332467165983, subsample=1.0 will be ignored. Current value: bagging_fraction=0.9568332467165983\n",
      "[LightGBM] [Warning] bagging_freq is set=5, subsample_freq=0 will be ignored. Current value: bagging_freq=5\n",
      "[LightGBM] [Warning] feature_fraction is set=0.7709828932730298, colsample_bytree=1.0 will be ignored. Current value: feature_fraction=0.7709828932730298\n",
      "[LightGBM] [Warning] bagging_fraction is set=0.9568332467165983, subsample=1.0 will be ignored. Current value: bagging_fraction=0.9568332467165983\n",
      "[LightGBM] [Warning] bagging_freq is set=5, subsample_freq=0 will be ignored. Current value: bagging_freq=5\n",
      "[LightGBM] [Warning] feature_fraction is set=0.7709828932730298, colsample_bytree=1.0 will be ignored. Current value: feature_fraction=0.7709828932730298\n",
      "[LightGBM] [Warning] bagging_fraction is set=0.9568332467165983, subsample=1.0 will be ignored. Current value: bagging_fraction=0.9568332467165983\n",
      "[LightGBM] [Warning] bagging_freq is set=5, subsample_freq=0 will be ignored. Current value: bagging_freq=5\n",
      "[LightGBM] [Warning] feature_fraction is set=0.7709828932730298, colsample_bytree=1.0 will be ignored. Current value: feature_fraction=0.7709828932730298\n",
      "[LightGBM] [Warning] bagging_fraction is set=0.9568332467165983, subsample=1.0 will be ignored. Current value: bagging_fraction=0.9568332467165983\n",
      "[LightGBM] [Warning] bagging_freq is set=5, subsample_freq=0 will be ignored. Current value: bagging_freq=5\n",
      "[LightGBM] [Warning] feature_fraction is set=0.7709828932730298, colsample_bytree=1.0 will be ignored. Current value: feature_fraction=0.7709828932730298\n",
      "[LightGBM] [Warning] bagging_fraction is set=0.9568332467165983, subsample=1.0 will be ignored. Current value: bagging_fraction=0.9568332467165983\n",
      "[LightGBM] [Warning] bagging_freq is set=5, subsample_freq=0 will be ignored. Current value: bagging_freq=5\n",
      "[LightGBM] [Warning] feature_fraction is set=0.7709828932730298, colsample_bytree=1.0 will be ignored. Current value: feature_fraction=0.7709828932730298\n",
      "[LightGBM] [Warning] bagging_fraction is set=0.9568332467165983, subsample=1.0 will be ignored. Current value: bagging_fraction=0.9568332467165983\n",
      "[LightGBM] [Warning] bagging_freq is set=5, subsample_freq=0 will be ignored. Current value: bagging_freq=5\n",
      "[LightGBM] [Warning] feature_fraction is set=0.7709828932730298, colsample_bytree=1.0 will be ignored. Current value: feature_fraction=0.7709828932730298\n",
      "[LightGBM] [Warning] bagging_fraction is set=0.9568332467165983, subsample=1.0 will be ignored. Current value: bagging_fraction=0.9568332467165983\n",
      "[LightGBM] [Warning] bagging_freq is set=5, subsample_freq=0 will be ignored. Current value: bagging_freq=5\n",
      "[LightGBM] [Warning] feature_fraction is set=0.7709828932730298, colsample_bytree=1.0 will be ignored. Current value: feature_fraction=0.7709828932730298\n",
      "[LightGBM] [Warning] bagging_fraction is set=0.9568332467165983, subsample=1.0 will be ignored. Current value: bagging_fraction=0.9568332467165983\n",
      "[LightGBM] [Warning] bagging_freq is set=5, subsample_freq=0 will be ignored. Current value: bagging_freq=5\n",
      "[LightGBM] [Warning] feature_fraction is set=0.7709828932730298, colsample_bytree=1.0 will be ignored. Current value: feature_fraction=0.7709828932730298\n",
      "[LightGBM] [Warning] bagging_fraction is set=0.9568332467165983, subsample=1.0 will be ignored. Current value: bagging_fraction=0.9568332467165983\n",
      "[LightGBM] [Warning] bagging_freq is set=5, subsample_freq=0 will be ignored. Current value: bagging_freq=5\n",
      "[LightGBM] [Warning] feature_fraction is set=0.7709828932730298, colsample_bytree=1.0 will be ignored. Current value: feature_fraction=0.7709828932730298\n",
      "[LightGBM] [Warning] bagging_fraction is set=0.9568332467165983, subsample=1.0 will be ignored. Current value: bagging_fraction=0.9568332467165983\n",
      "[LightGBM] [Warning] bagging_freq is set=5, subsample_freq=0 will be ignored. Current value: bagging_freq=5\n",
      "[LightGBM] [Warning] feature_fraction is set=0.7709828932730298, colsample_bytree=1.0 will be ignored. Current value: feature_fraction=0.7709828932730298\n",
      "[LightGBM] [Warning] bagging_fraction is set=0.9568332467165983, subsample=1.0 will be ignored. Current value: bagging_fraction=0.9568332467165983\n",
      "[LightGBM] [Warning] bagging_freq is set=5, subsample_freq=0 will be ignored. Current value: bagging_freq=5\n",
      "[LightGBM] [Warning] feature_fraction is set=0.7709828932730298, colsample_bytree=1.0 will be ignored. Current value: feature_fraction=0.7709828932730298\n",
      "[LightGBM] [Warning] bagging_fraction is set=0.9568332467165983, subsample=1.0 will be ignored. Current value: bagging_fraction=0.9568332467165983\n",
      "[LightGBM] [Warning] bagging_freq is set=5, subsample_freq=0 will be ignored. Current value: bagging_freq=5\n",
      "[LightGBM] [Warning] feature_fraction is set=0.7709828932730298, colsample_bytree=1.0 will be ignored. Current value: feature_fraction=0.7709828932730298\n",
      "[LightGBM] [Warning] bagging_fraction is set=0.9568332467165983, subsample=1.0 will be ignored. Current value: bagging_fraction=0.9568332467165983\n",
      "[LightGBM] [Warning] bagging_freq is set=5, subsample_freq=0 will be ignored. Current value: bagging_freq=5\n",
      "[LightGBM] [Warning] feature_fraction is set=0.7709828932730298, colsample_bytree=1.0 will be ignored. Current value: feature_fraction=0.7709828932730298\n",
      "[LightGBM] [Warning] bagging_fraction is set=0.9568332467165983, subsample=1.0 will be ignored. Current value: bagging_fraction=0.9568332467165983\n",
      "[LightGBM] [Warning] bagging_freq is set=5, subsample_freq=0 will be ignored. Current value: bagging_freq=5\n",
      "[LightGBM] [Warning] feature_fraction is set=0.7709828932730298, colsample_bytree=1.0 will be ignored. Current value: feature_fraction=0.7709828932730298\n",
      "[LightGBM] [Warning] bagging_fraction is set=0.9568332467165983, subsample=1.0 will be ignored. Current value: bagging_fraction=0.9568332467165983\n",
      "[LightGBM] [Warning] bagging_freq is set=5, subsample_freq=0 will be ignored. Current value: bagging_freq=5\n",
      "[LightGBM] [Warning] feature_fraction is set=0.7709828932730298, colsample_bytree=1.0 will be ignored. Current value: feature_fraction=0.7709828932730298\n",
      "[LightGBM] [Warning] bagging_fraction is set=0.9568332467165983, subsample=1.0 will be ignored. Current value: bagging_fraction=0.9568332467165983\n",
      "[LightGBM] [Warning] bagging_freq is set=5, subsample_freq=0 will be ignored. Current value: bagging_freq=5\n",
      "[LightGBM] [Warning] feature_fraction is set=0.7709828932730298, colsample_bytree=1.0 will be ignored. Current value: feature_fraction=0.7709828932730298\n",
      "[LightGBM] [Warning] bagging_fraction is set=0.9568332467165983, subsample=1.0 will be ignored. Current value: bagging_fraction=0.9568332467165983\n",
      "[LightGBM] [Warning] bagging_freq is set=5, subsample_freq=0 will be ignored. Current value: bagging_freq=5\n",
      "[LightGBM] [Warning] feature_fraction is set=0.7709828932730298, colsample_bytree=1.0 will be ignored. Current value: feature_fraction=0.7709828932730298\n",
      "[LightGBM] [Warning] bagging_fraction is set=0.9568332467165983, subsample=1.0 will be ignored. Current value: bagging_fraction=0.9568332467165983\n",
      "[LightGBM] [Warning] bagging_freq is set=5, subsample_freq=0 will be ignored. Current value: bagging_freq=5\n",
      "[LightGBM] [Warning] feature_fraction is set=0.7709828932730298, colsample_bytree=1.0 will be ignored. Current value: feature_fraction=0.7709828932730298\n",
      "[LightGBM] [Warning] bagging_fraction is set=0.9568332467165983, subsample=1.0 will be ignored. Current value: bagging_fraction=0.9568332467165983\n",
      "[LightGBM] [Warning] bagging_freq is set=5, subsample_freq=0 will be ignored. Current value: bagging_freq=5\n",
      "[LightGBM] [Warning] feature_fraction is set=0.7709828932730298, colsample_bytree=1.0 will be ignored. Current value: feature_fraction=0.7709828932730298\n",
      "[LightGBM] [Warning] bagging_fraction is set=0.9568332467165983, subsample=1.0 will be ignored. Current value: bagging_fraction=0.9568332467165983\n",
      "[LightGBM] [Warning] bagging_freq is set=5, subsample_freq=0 will be ignored. Current value: bagging_freq=5\n",
      "[LightGBM] [Warning] feature_fraction is set=0.7709828932730298, colsample_bytree=1.0 will be ignored. Current value: feature_fraction=0.7709828932730298\n",
      "[LightGBM] [Warning] bagging_fraction is set=0.9568332467165983, subsample=1.0 will be ignored. Current value: bagging_fraction=0.9568332467165983\n",
      "[LightGBM] [Warning] bagging_freq is set=5, subsample_freq=0 will be ignored. Current value: bagging_freq=5\n",
      "[LightGBM] [Warning] feature_fraction is set=0.7709828932730298, colsample_bytree=1.0 will be ignored. Current value: feature_fraction=0.7709828932730298\n",
      "[LightGBM] [Warning] bagging_fraction is set=0.9568332467165983, subsample=1.0 will be ignored. Current value: bagging_fraction=0.9568332467165983\n",
      "[LightGBM] [Warning] bagging_freq is set=5, subsample_freq=0 will be ignored. Current value: bagging_freq=5\n",
      "[LightGBM] [Warning] feature_fraction is set=0.7709828932730298, colsample_bytree=1.0 will be ignored. Current value: feature_fraction=0.7709828932730298\n",
      "[LightGBM] [Warning] bagging_fraction is set=0.9568332467165983, subsample=1.0 will be ignored. Current value: bagging_fraction=0.9568332467165983\n",
      "[LightGBM] [Warning] bagging_freq is set=5, subsample_freq=0 will be ignored. Current value: bagging_freq=5\n",
      "[LightGBM] [Warning] feature_fraction is set=0.7709828932730298, colsample_bytree=1.0 will be ignored. Current value: feature_fraction=0.7709828932730298\n",
      "[LightGBM] [Warning] bagging_fraction is set=0.9568332467165983, subsample=1.0 will be ignored. Current value: bagging_fraction=0.9568332467165983\n",
      "[LightGBM] [Warning] bagging_freq is set=5, subsample_freq=0 will be ignored. Current value: bagging_freq=5\n",
      "[LightGBM] [Warning] feature_fraction is set=0.7709828932730298, colsample_bytree=1.0 will be ignored. Current value: feature_fraction=0.7709828932730298\n",
      "[LightGBM] [Warning] bagging_fraction is set=0.9568332467165983, subsample=1.0 will be ignored. Current value: bagging_fraction=0.9568332467165983\n",
      "[LightGBM] [Warning] bagging_freq is set=5, subsample_freq=0 will be ignored. Current value: bagging_freq=5\n",
      "[LightGBM] [Warning] feature_fraction is set=0.7709828932730298, colsample_bytree=1.0 will be ignored. Current value: feature_fraction=0.7709828932730298\n",
      "[LightGBM] [Warning] bagging_fraction is set=0.9568332467165983, subsample=1.0 will be ignored. Current value: bagging_fraction=0.9568332467165983\n",
      "[LightGBM] [Warning] bagging_freq is set=5, subsample_freq=0 will be ignored. Current value: bagging_freq=5\n",
      "[LightGBM] [Warning] feature_fraction is set=0.7709828932730298, colsample_bytree=1.0 will be ignored. Current value: feature_fraction=0.7709828932730298\n",
      "[LightGBM] [Warning] bagging_fraction is set=0.9568332467165983, subsample=1.0 will be ignored. Current value: bagging_fraction=0.9568332467165983\n",
      "[LightGBM] [Warning] bagging_freq is set=5, subsample_freq=0 will be ignored. Current value: bagging_freq=5\n",
      "[LightGBM] [Warning] feature_fraction is set=0.7709828932730298, colsample_bytree=1.0 will be ignored. Current value: feature_fraction=0.7709828932730298\n",
      "[LightGBM] [Warning] bagging_fraction is set=0.9568332467165983, subsample=1.0 will be ignored. Current value: bagging_fraction=0.9568332467165983\n",
      "[LightGBM] [Warning] bagging_freq is set=5, subsample_freq=0 will be ignored. Current value: bagging_freq=5\n",
      "[LightGBM] [Warning] feature_fraction is set=0.7709828932730298, colsample_bytree=1.0 will be ignored. Current value: feature_fraction=0.7709828932730298\n",
      "[LightGBM] [Warning] bagging_fraction is set=0.9568332467165983, subsample=1.0 will be ignored. Current value: bagging_fraction=0.9568332467165983\n",
      "[LightGBM] [Warning] bagging_freq is set=5, subsample_freq=0 will be ignored. Current value: bagging_freq=5\n",
      "[LightGBM] [Warning] feature_fraction is set=0.7709828932730298, colsample_bytree=1.0 will be ignored. Current value: feature_fraction=0.7709828932730298\n",
      "[LightGBM] [Warning] bagging_fraction is set=0.9568332467165983, subsample=1.0 will be ignored. Current value: bagging_fraction=0.9568332467165983\n",
      "[LightGBM] [Warning] bagging_freq is set=5, subsample_freq=0 will be ignored. Current value: bagging_freq=5\n",
      "[LightGBM] [Warning] feature_fraction is set=0.7709828932730298, colsample_bytree=1.0 will be ignored. Current value: feature_fraction=0.7709828932730298\n",
      "[LightGBM] [Warning] bagging_fraction is set=0.9568332467165983, subsample=1.0 will be ignored. Current value: bagging_fraction=0.9568332467165983\n",
      "[LightGBM] [Warning] bagging_freq is set=5, subsample_freq=0 will be ignored. Current value: bagging_freq=5\n",
      "[LightGBM] [Warning] feature_fraction is set=0.7709828932730298, colsample_bytree=1.0 will be ignored. Current value: feature_fraction=0.7709828932730298\n",
      "[LightGBM] [Warning] bagging_fraction is set=0.9568332467165983, subsample=1.0 will be ignored. Current value: bagging_fraction=0.9568332467165983\n",
      "[LightGBM] [Warning] bagging_freq is set=5, subsample_freq=0 will be ignored. Current value: bagging_freq=5\n",
      "[LightGBM] [Warning] feature_fraction is set=0.7709828932730298, colsample_bytree=1.0 will be ignored. Current value: feature_fraction=0.7709828932730298\n",
      "[LightGBM] [Warning] bagging_fraction is set=0.9568332467165983, subsample=1.0 will be ignored. Current value: bagging_fraction=0.9568332467165983\n",
      "[LightGBM] [Warning] bagging_freq is set=5, subsample_freq=0 will be ignored. Current value: bagging_freq=5\n",
      "[LightGBM] [Warning] feature_fraction is set=0.7709828932730298, colsample_bytree=1.0 will be ignored. Current value: feature_fraction=0.7709828932730298\n",
      "[LightGBM] [Warning] bagging_fraction is set=0.9568332467165983, subsample=1.0 will be ignored. Current value: bagging_fraction=0.9568332467165983\n",
      "[LightGBM] [Warning] bagging_freq is set=5, subsample_freq=0 will be ignored. Current value: bagging_freq=5\n",
      "[LightGBM] [Warning] feature_fraction is set=0.7709828932730298, colsample_bytree=1.0 will be ignored. Current value: feature_fraction=0.7709828932730298\n",
      "[LightGBM] [Warning] bagging_fraction is set=0.9568332467165983, subsample=1.0 will be ignored. Current value: bagging_fraction=0.9568332467165983\n",
      "[LightGBM] [Warning] bagging_freq is set=5, subsample_freq=0 will be ignored. Current value: bagging_freq=5\n",
      "[LightGBM] [Warning] feature_fraction is set=0.7709828932730298, colsample_bytree=1.0 will be ignored. Current value: feature_fraction=0.7709828932730298\n",
      "[LightGBM] [Warning] bagging_fraction is set=0.9568332467165983, subsample=1.0 will be ignored. Current value: bagging_fraction=0.9568332467165983\n",
      "[LightGBM] [Warning] bagging_freq is set=5, subsample_freq=0 will be ignored. Current value: bagging_freq=5\n",
      "[LightGBM] [Warning] feature_fraction is set=0.7709828932730298, colsample_bytree=1.0 will be ignored. Current value: feature_fraction=0.7709828932730298\n",
      "[LightGBM] [Warning] bagging_fraction is set=0.9568332467165983, subsample=1.0 will be ignored. Current value: bagging_fraction=0.9568332467165983\n",
      "[LightGBM] [Warning] bagging_freq is set=5, subsample_freq=0 will be ignored. Current value: bagging_freq=5\n",
      "[LightGBM] [Warning] feature_fraction is set=0.7709828932730298, colsample_bytree=1.0 will be ignored. Current value: feature_fraction=0.7709828932730298\n",
      "[LightGBM] [Warning] bagging_fraction is set=0.9568332467165983, subsample=1.0 will be ignored. Current value: bagging_fraction=0.9568332467165983\n",
      "[LightGBM] [Warning] bagging_freq is set=5, subsample_freq=0 will be ignored. Current value: bagging_freq=5\n",
      "[LightGBM] [Warning] feature_fraction is set=0.7709828932730298, colsample_bytree=1.0 will be ignored. Current value: feature_fraction=0.7709828932730298\n",
      "[LightGBM] [Warning] bagging_fraction is set=0.9568332467165983, subsample=1.0 will be ignored. Current value: bagging_fraction=0.9568332467165983\n",
      "[LightGBM] [Warning] bagging_freq is set=5, subsample_freq=0 will be ignored. Current value: bagging_freq=5\n",
      "[LightGBM] [Warning] feature_fraction is set=0.7709828932730298, colsample_bytree=1.0 will be ignored. Current value: feature_fraction=0.7709828932730298\n",
      "[LightGBM] [Warning] bagging_fraction is set=0.9568332467165983, subsample=1.0 will be ignored. Current value: bagging_fraction=0.9568332467165983\n",
      "[LightGBM] [Warning] bagging_freq is set=5, subsample_freq=0 will be ignored. Current value: bagging_freq=5\n",
      "[LightGBM] [Warning] feature_fraction is set=0.7709828932730298, colsample_bytree=1.0 will be ignored. Current value: feature_fraction=0.7709828932730298\n",
      "[LightGBM] [Warning] bagging_fraction is set=0.9568332467165983, subsample=1.0 will be ignored. Current value: bagging_fraction=0.9568332467165983\n",
      "[LightGBM] [Warning] bagging_freq is set=5, subsample_freq=0 will be ignored. Current value: bagging_freq=5\n",
      "[LightGBM] [Warning] feature_fraction is set=0.7709828932730298, colsample_bytree=1.0 will be ignored. Current value: feature_fraction=0.7709828932730298\n",
      "[LightGBM] [Warning] bagging_fraction is set=0.9568332467165983, subsample=1.0 will be ignored. Current value: bagging_fraction=0.9568332467165983\n",
      "[LightGBM] [Warning] bagging_freq is set=5, subsample_freq=0 will be ignored. Current value: bagging_freq=5\n",
      "[LightGBM] [Warning] feature_fraction is set=0.7709828932730298, colsample_bytree=1.0 will be ignored. Current value: feature_fraction=0.7709828932730298\n",
      "[LightGBM] [Warning] bagging_fraction is set=0.9568332467165983, subsample=1.0 will be ignored. Current value: bagging_fraction=0.9568332467165983\n",
      "[LightGBM] [Warning] bagging_freq is set=5, subsample_freq=0 will be ignored. Current value: bagging_freq=5\n",
      "[LightGBM] [Warning] feature_fraction is set=0.7709828932730298, colsample_bytree=1.0 will be ignored. Current value: feature_fraction=0.7709828932730298\n",
      "[LightGBM] [Warning] bagging_fraction is set=0.9568332467165983, subsample=1.0 will be ignored. Current value: bagging_fraction=0.9568332467165983\n",
      "[LightGBM] [Warning] bagging_freq is set=5, subsample_freq=0 will be ignored. Current value: bagging_freq=5\n",
      "[LightGBM] [Warning] feature_fraction is set=0.7709828932730298, colsample_bytree=1.0 will be ignored. Current value: feature_fraction=0.7709828932730298\n",
      "[LightGBM] [Warning] bagging_fraction is set=0.9568332467165983, subsample=1.0 will be ignored. Current value: bagging_fraction=0.9568332467165983\n",
      "[LightGBM] [Warning] bagging_freq is set=5, subsample_freq=0 will be ignored. Current value: bagging_freq=5\n",
      "[LightGBM] [Warning] feature_fraction is set=0.7709828932730298, colsample_bytree=1.0 will be ignored. Current value: feature_fraction=0.7709828932730298\n",
      "[LightGBM] [Warning] bagging_fraction is set=0.9568332467165983, subsample=1.0 will be ignored. Current value: bagging_fraction=0.9568332467165983\n",
      "[LightGBM] [Warning] bagging_freq is set=5, subsample_freq=0 will be ignored. Current value: bagging_freq=5\n",
      "[LightGBM] [Warning] feature_fraction is set=0.7709828932730298, colsample_bytree=1.0 will be ignored. Current value: feature_fraction=0.7709828932730298\n",
      "[LightGBM] [Warning] bagging_fraction is set=0.9568332467165983, subsample=1.0 will be ignored. Current value: bagging_fraction=0.9568332467165983\n",
      "[LightGBM] [Warning] bagging_freq is set=5, subsample_freq=0 will be ignored. Current value: bagging_freq=5\n",
      "[LightGBM] [Warning] feature_fraction is set=0.7709828932730298, colsample_bytree=1.0 will be ignored. Current value: feature_fraction=0.7709828932730298\n",
      "[LightGBM] [Warning] bagging_fraction is set=0.9568332467165983, subsample=1.0 will be ignored. Current value: bagging_fraction=0.9568332467165983\n",
      "[LightGBM] [Warning] bagging_freq is set=5, subsample_freq=0 will be ignored. Current value: bagging_freq=5\n",
      "[LightGBM] [Warning] feature_fraction is set=0.7709828932730298, colsample_bytree=1.0 will be ignored. Current value: feature_fraction=0.7709828932730298\n",
      "[LightGBM] [Warning] bagging_fraction is set=0.9568332467165983, subsample=1.0 will be ignored. Current value: bagging_fraction=0.9568332467165983\n",
      "[LightGBM] [Warning] bagging_freq is set=5, subsample_freq=0 will be ignored. Current value: bagging_freq=5\n",
      "[LightGBM] [Warning] feature_fraction is set=0.7709828932730298, colsample_bytree=1.0 will be ignored. Current value: feature_fraction=0.7709828932730298\n",
      "[LightGBM] [Warning] bagging_fraction is set=0.9568332467165983, subsample=1.0 will be ignored. Current value: bagging_fraction=0.9568332467165983\n",
      "[LightGBM] [Warning] bagging_freq is set=5, subsample_freq=0 will be ignored. Current value: bagging_freq=5\n",
      "[LightGBM] [Warning] feature_fraction is set=0.7709828932730298, colsample_bytree=1.0 will be ignored. Current value: feature_fraction=0.7709828932730298\n",
      "[LightGBM] [Warning] bagging_fraction is set=0.9568332467165983, subsample=1.0 will be ignored. Current value: bagging_fraction=0.9568332467165983\n",
      "[LightGBM] [Warning] bagging_freq is set=5, subsample_freq=0 will be ignored. Current value: bagging_freq=5\n",
      "[LightGBM] [Warning] feature_fraction is set=0.7709828932730298, colsample_bytree=1.0 will be ignored. Current value: feature_fraction=0.7709828932730298\n",
      "[LightGBM] [Warning] bagging_fraction is set=0.9568332467165983, subsample=1.0 will be ignored. Current value: bagging_fraction=0.9568332467165983\n",
      "[LightGBM] [Warning] bagging_freq is set=5, subsample_freq=0 will be ignored. Current value: bagging_freq=5\n",
      "[LightGBM] [Warning] feature_fraction is set=0.7709828932730298, colsample_bytree=1.0 will be ignored. Current value: feature_fraction=0.7709828932730298\n",
      "[LightGBM] [Warning] bagging_fraction is set=0.9568332467165983, subsample=1.0 will be ignored. Current value: bagging_fraction=0.9568332467165983\n",
      "[LightGBM] [Warning] bagging_freq is set=5, subsample_freq=0 will be ignored. Current value: bagging_freq=5\n",
      "[LightGBM] [Warning] feature_fraction is set=0.7709828932730298, colsample_bytree=1.0 will be ignored. Current value: feature_fraction=0.7709828932730298\n",
      "[LightGBM] [Warning] bagging_fraction is set=0.9568332467165983, subsample=1.0 will be ignored. Current value: bagging_fraction=0.9568332467165983\n",
      "[LightGBM] [Warning] bagging_freq is set=5, subsample_freq=0 will be ignored. Current value: bagging_freq=5\n",
      "[LightGBM] [Warning] feature_fraction is set=0.7709828932730298, colsample_bytree=1.0 will be ignored. Current value: feature_fraction=0.7709828932730298\n",
      "[LightGBM] [Warning] bagging_fraction is set=0.9568332467165983, subsample=1.0 will be ignored. Current value: bagging_fraction=0.9568332467165983\n",
      "[LightGBM] [Warning] bagging_freq is set=5, subsample_freq=0 will be ignored. Current value: bagging_freq=5\n",
      "[LightGBM] [Warning] feature_fraction is set=0.7709828932730298, colsample_bytree=1.0 will be ignored. Current value: feature_fraction=0.7709828932730298\n",
      "[LightGBM] [Warning] bagging_fraction is set=0.9568332467165983, subsample=1.0 will be ignored. Current value: bagging_fraction=0.9568332467165983\n",
      "[LightGBM] [Warning] bagging_freq is set=5, subsample_freq=0 will be ignored. Current value: bagging_freq=5\n",
      "[LightGBM] [Warning] feature_fraction is set=0.7709828932730298, colsample_bytree=1.0 will be ignored. Current value: feature_fraction=0.7709828932730298\n",
      "[LightGBM] [Warning] bagging_fraction is set=0.9568332467165983, subsample=1.0 will be ignored. Current value: bagging_fraction=0.9568332467165983\n",
      "[LightGBM] [Warning] bagging_freq is set=5, subsample_freq=0 will be ignored. Current value: bagging_freq=5\n",
      "[LightGBM] [Warning] feature_fraction is set=0.7709828932730298, colsample_bytree=1.0 will be ignored. Current value: feature_fraction=0.7709828932730298\n",
      "[LightGBM] [Warning] bagging_fraction is set=0.9568332467165983, subsample=1.0 will be ignored. Current value: bagging_fraction=0.9568332467165983\n",
      "[LightGBM] [Warning] bagging_freq is set=5, subsample_freq=0 will be ignored. Current value: bagging_freq=5\n",
      "[LightGBM] [Warning] feature_fraction is set=0.7709828932730298, colsample_bytree=1.0 will be ignored. Current value: feature_fraction=0.7709828932730298\n",
      "[LightGBM] [Warning] bagging_fraction is set=0.9568332467165983, subsample=1.0 will be ignored. Current value: bagging_fraction=0.9568332467165983\n",
      "[LightGBM] [Warning] bagging_freq is set=5, subsample_freq=0 will be ignored. Current value: bagging_freq=5\n",
      "[LightGBM] [Warning] feature_fraction is set=0.7709828932730298, colsample_bytree=1.0 will be ignored. Current value: feature_fraction=0.7709828932730298\n",
      "[LightGBM] [Warning] bagging_fraction is set=0.9568332467165983, subsample=1.0 will be ignored. Current value: bagging_fraction=0.9568332467165983\n",
      "[LightGBM] [Warning] bagging_freq is set=5, subsample_freq=0 will be ignored. Current value: bagging_freq=5\n",
      "[LightGBM] [Warning] feature_fraction is set=0.7709828932730298, colsample_bytree=1.0 will be ignored. Current value: feature_fraction=0.7709828932730298\n",
      "[LightGBM] [Warning] bagging_fraction is set=0.9568332467165983, subsample=1.0 will be ignored. Current value: bagging_fraction=0.9568332467165983\n",
      "[LightGBM] [Warning] bagging_freq is set=5, subsample_freq=0 will be ignored. Current value: bagging_freq=5\n",
      "[LightGBM] [Warning] feature_fraction is set=0.7709828932730298, colsample_bytree=1.0 will be ignored. Current value: feature_fraction=0.7709828932730298\n",
      "[LightGBM] [Warning] bagging_fraction is set=0.9568332467165983, subsample=1.0 will be ignored. Current value: bagging_fraction=0.9568332467165983\n",
      "[LightGBM] [Warning] bagging_freq is set=5, subsample_freq=0 will be ignored. Current value: bagging_freq=5\n",
      "[LightGBM] [Warning] feature_fraction is set=0.7709828932730298, colsample_bytree=1.0 will be ignored. Current value: feature_fraction=0.7709828932730298\n",
      "[LightGBM] [Warning] bagging_fraction is set=0.9568332467165983, subsample=1.0 will be ignored. Current value: bagging_fraction=0.9568332467165983\n",
      "[LightGBM] [Warning] bagging_freq is set=5, subsample_freq=0 will be ignored. Current value: bagging_freq=5\n",
      "[LightGBM] [Warning] feature_fraction is set=0.7709828932730298, colsample_bytree=1.0 will be ignored. Current value: feature_fraction=0.7709828932730298\n",
      "[LightGBM] [Warning] bagging_fraction is set=0.9568332467165983, subsample=1.0 will be ignored. Current value: bagging_fraction=0.9568332467165983\n",
      "[LightGBM] [Warning] bagging_freq is set=5, subsample_freq=0 will be ignored. Current value: bagging_freq=5\n",
      "[LightGBM] [Warning] feature_fraction is set=0.7709828932730298, colsample_bytree=1.0 will be ignored. Current value: feature_fraction=0.7709828932730298\n",
      "[LightGBM] [Warning] bagging_fraction is set=0.9568332467165983, subsample=1.0 will be ignored. Current value: bagging_fraction=0.9568332467165983\n",
      "[LightGBM] [Warning] bagging_freq is set=5, subsample_freq=0 will be ignored. Current value: bagging_freq=5\n",
      "[LightGBM] [Warning] feature_fraction is set=0.7709828932730298, colsample_bytree=1.0 will be ignored. Current value: feature_fraction=0.7709828932730298\n",
      "[LightGBM] [Warning] bagging_fraction is set=0.9568332467165983, subsample=1.0 will be ignored. Current value: bagging_fraction=0.9568332467165983\n",
      "[LightGBM] [Warning] bagging_freq is set=5, subsample_freq=0 will be ignored. Current value: bagging_freq=5\n",
      "[LightGBM] [Warning] feature_fraction is set=0.7709828932730298, colsample_bytree=1.0 will be ignored. Current value: feature_fraction=0.7709828932730298\n",
      "[LightGBM] [Warning] bagging_fraction is set=0.9568332467165983, subsample=1.0 will be ignored. Current value: bagging_fraction=0.9568332467165983\n",
      "[LightGBM] [Warning] bagging_freq is set=5, subsample_freq=0 will be ignored. Current value: bagging_freq=5\n",
      "[LightGBM] [Warning] feature_fraction is set=0.7709828932730298, colsample_bytree=1.0 will be ignored. Current value: feature_fraction=0.7709828932730298\n",
      "[LightGBM] [Warning] bagging_fraction is set=0.9568332467165983, subsample=1.0 will be ignored. Current value: bagging_fraction=0.9568332467165983\n",
      "[LightGBM] [Warning] bagging_freq is set=5, subsample_freq=0 will be ignored. Current value: bagging_freq=5\n",
      "[LightGBM] [Warning] feature_fraction is set=0.7709828932730298, colsample_bytree=1.0 will be ignored. Current value: feature_fraction=0.7709828932730298\n",
      "[LightGBM] [Warning] bagging_fraction is set=0.9568332467165983, subsample=1.0 will be ignored. Current value: bagging_fraction=0.9568332467165983\n",
      "[LightGBM] [Warning] bagging_freq is set=5, subsample_freq=0 will be ignored. Current value: bagging_freq=5\n",
      "[LightGBM] [Warning] feature_fraction is set=0.7709828932730298, colsample_bytree=1.0 will be ignored. Current value: feature_fraction=0.7709828932730298\n",
      "[LightGBM] [Warning] bagging_fraction is set=0.9568332467165983, subsample=1.0 will be ignored. Current value: bagging_fraction=0.9568332467165983\n",
      "[LightGBM] [Warning] bagging_freq is set=5, subsample_freq=0 will be ignored. Current value: bagging_freq=5\n",
      "[LightGBM] [Warning] feature_fraction is set=0.7709828932730298, colsample_bytree=1.0 will be ignored. Current value: feature_fraction=0.7709828932730298\n",
      "[LightGBM] [Warning] bagging_fraction is set=0.9568332467165983, subsample=1.0 will be ignored. Current value: bagging_fraction=0.9568332467165983\n",
      "[LightGBM] [Warning] bagging_freq is set=5, subsample_freq=0 will be ignored. Current value: bagging_freq=5\n",
      "[LightGBM] [Warning] feature_fraction is set=0.7709828932730298, colsample_bytree=1.0 will be ignored. Current value: feature_fraction=0.7709828932730298\n",
      "[LightGBM] [Warning] bagging_fraction is set=0.9568332467165983, subsample=1.0 will be ignored. Current value: bagging_fraction=0.9568332467165983\n",
      "[LightGBM] [Warning] bagging_freq is set=5, subsample_freq=0 will be ignored. Current value: bagging_freq=5\n",
      "[LightGBM] [Warning] feature_fraction is set=0.7709828932730298, colsample_bytree=1.0 will be ignored. Current value: feature_fraction=0.7709828932730298\n",
      "[LightGBM] [Warning] bagging_fraction is set=0.9568332467165983, subsample=1.0 will be ignored. Current value: bagging_fraction=0.9568332467165983\n",
      "[LightGBM] [Warning] bagging_freq is set=5, subsample_freq=0 will be ignored. Current value: bagging_freq=5\n",
      "[LightGBM] [Warning] feature_fraction is set=0.7709828932730298, colsample_bytree=1.0 will be ignored. Current value: feature_fraction=0.7709828932730298\n",
      "[LightGBM] [Warning] bagging_fraction is set=0.9568332467165983, subsample=1.0 will be ignored. Current value: bagging_fraction=0.9568332467165983\n",
      "[LightGBM] [Warning] bagging_freq is set=5, subsample_freq=0 will be ignored. Current value: bagging_freq=5\n",
      "[LightGBM] [Warning] feature_fraction is set=0.7709828932730298, colsample_bytree=1.0 will be ignored. Current value: feature_fraction=0.7709828932730298\n",
      "[LightGBM] [Warning] bagging_fraction is set=0.9568332467165983, subsample=1.0 will be ignored. Current value: bagging_fraction=0.9568332467165983\n",
      "[LightGBM] [Warning] bagging_freq is set=5, subsample_freq=0 will be ignored. Current value: bagging_freq=5\n",
      "[LightGBM] [Warning] feature_fraction is set=0.7709828932730298, colsample_bytree=1.0 will be ignored. Current value: feature_fraction=0.7709828932730298\n",
      "[LightGBM] [Warning] bagging_fraction is set=0.9568332467165983, subsample=1.0 will be ignored. Current value: bagging_fraction=0.9568332467165983\n",
      "[LightGBM] [Warning] bagging_freq is set=5, subsample_freq=0 will be ignored. Current value: bagging_freq=5\n",
      "[LightGBM] [Warning] feature_fraction is set=0.7709828932730298, colsample_bytree=1.0 will be ignored. Current value: feature_fraction=0.7709828932730298\n",
      "[LightGBM] [Warning] bagging_fraction is set=0.9568332467165983, subsample=1.0 will be ignored. Current value: bagging_fraction=0.9568332467165983\n",
      "[LightGBM] [Warning] bagging_freq is set=5, subsample_freq=0 will be ignored. Current value: bagging_freq=5\n",
      "[LightGBM] [Warning] feature_fraction is set=0.7709828932730298, colsample_bytree=1.0 will be ignored. Current value: feature_fraction=0.7709828932730298\n",
      "[LightGBM] [Warning] bagging_fraction is set=0.9568332467165983, subsample=1.0 will be ignored. Current value: bagging_fraction=0.9568332467165983\n",
      "[LightGBM] [Warning] bagging_freq is set=5, subsample_freq=0 will be ignored. Current value: bagging_freq=5\n",
      "[LightGBM] [Warning] feature_fraction is set=0.7709828932730298, colsample_bytree=1.0 will be ignored. Current value: feature_fraction=0.7709828932730298\n",
      "[LightGBM] [Warning] bagging_fraction is set=0.9568332467165983, subsample=1.0 will be ignored. Current value: bagging_fraction=0.9568332467165983\n",
      "[LightGBM] [Warning] bagging_freq is set=5, subsample_freq=0 will be ignored. Current value: bagging_freq=5\n",
      "[LightGBM] [Warning] feature_fraction is set=0.7709828932730298, colsample_bytree=1.0 will be ignored. Current value: feature_fraction=0.7709828932730298\n",
      "[LightGBM] [Warning] bagging_fraction is set=0.9568332467165983, subsample=1.0 will be ignored. Current value: bagging_fraction=0.9568332467165983\n",
      "[LightGBM] [Warning] bagging_freq is set=5, subsample_freq=0 will be ignored. Current value: bagging_freq=5\n",
      "[LightGBM] [Warning] feature_fraction is set=0.7709828932730298, colsample_bytree=1.0 will be ignored. Current value: feature_fraction=0.7709828932730298\n",
      "[LightGBM] [Warning] bagging_fraction is set=0.9568332467165983, subsample=1.0 will be ignored. Current value: bagging_fraction=0.9568332467165983\n",
      "[LightGBM] [Warning] bagging_freq is set=5, subsample_freq=0 will be ignored. Current value: bagging_freq=5\n",
      "[LightGBM] [Warning] feature_fraction is set=0.7709828932730298, colsample_bytree=1.0 will be ignored. Current value: feature_fraction=0.7709828932730298\n",
      "[LightGBM] [Warning] bagging_fraction is set=0.9568332467165983, subsample=1.0 will be ignored. Current value: bagging_fraction=0.9568332467165983\n",
      "[LightGBM] [Warning] bagging_freq is set=5, subsample_freq=0 will be ignored. Current value: bagging_freq=5\n",
      "[LightGBM] [Warning] feature_fraction is set=0.7709828932730298, colsample_bytree=1.0 will be ignored. Current value: feature_fraction=0.7709828932730298\n",
      "[LightGBM] [Warning] bagging_fraction is set=0.9568332467165983, subsample=1.0 will be ignored. Current value: bagging_fraction=0.9568332467165983\n",
      "[LightGBM] [Warning] bagging_freq is set=5, subsample_freq=0 will be ignored. Current value: bagging_freq=5\n",
      "[LightGBM] [Warning] feature_fraction is set=0.7709828932730298, colsample_bytree=1.0 will be ignored. Current value: feature_fraction=0.7709828932730298\n",
      "[LightGBM] [Warning] bagging_fraction is set=0.9568332467165983, subsample=1.0 will be ignored. Current value: bagging_fraction=0.9568332467165983\n",
      "[LightGBM] [Warning] bagging_freq is set=5, subsample_freq=0 will be ignored. Current value: bagging_freq=5\n",
      "[LightGBM] [Warning] feature_fraction is set=0.7709828932730298, colsample_bytree=1.0 will be ignored. Current value: feature_fraction=0.7709828932730298\n",
      "[LightGBM] [Warning] bagging_fraction is set=0.9568332467165983, subsample=1.0 will be ignored. Current value: bagging_fraction=0.9568332467165983\n",
      "[LightGBM] [Warning] bagging_freq is set=5, subsample_freq=0 will be ignored. Current value: bagging_freq=5\n",
      "[LightGBM] [Warning] feature_fraction is set=0.7709828932730298, colsample_bytree=1.0 will be ignored. Current value: feature_fraction=0.7709828932730298\n",
      "[LightGBM] [Warning] bagging_fraction is set=0.9568332467165983, subsample=1.0 will be ignored. Current value: bagging_fraction=0.9568332467165983\n",
      "[LightGBM] [Warning] bagging_freq is set=5, subsample_freq=0 will be ignored. Current value: bagging_freq=5\n",
      "[LightGBM] [Warning] feature_fraction is set=0.7709828932730298, colsample_bytree=1.0 will be ignored. Current value: feature_fraction=0.7709828932730298\n",
      "[LightGBM] [Warning] bagging_fraction is set=0.9568332467165983, subsample=1.0 will be ignored. Current value: bagging_fraction=0.9568332467165983\n",
      "[LightGBM] [Warning] bagging_freq is set=5, subsample_freq=0 will be ignored. Current value: bagging_freq=5\n",
      "[LightGBM] [Warning] feature_fraction is set=0.7709828932730298, colsample_bytree=1.0 will be ignored. Current value: feature_fraction=0.7709828932730298\n",
      "[LightGBM] [Warning] bagging_fraction is set=0.9568332467165983, subsample=1.0 will be ignored. Current value: bagging_fraction=0.9568332467165983\n",
      "[LightGBM] [Warning] bagging_freq is set=5, subsample_freq=0 will be ignored. Current value: bagging_freq=5\n",
      "[LightGBM] [Warning] feature_fraction is set=0.7709828932730298, colsample_bytree=1.0 will be ignored. Current value: feature_fraction=0.7709828932730298\n",
      "[LightGBM] [Warning] bagging_fraction is set=0.9568332467165983, subsample=1.0 will be ignored. Current value: bagging_fraction=0.9568332467165983\n",
      "[LightGBM] [Warning] bagging_freq is set=5, subsample_freq=0 will be ignored. Current value: bagging_freq=5\n",
      "[LightGBM] [Warning] feature_fraction is set=0.7709828932730298, colsample_bytree=1.0 will be ignored. Current value: feature_fraction=0.7709828932730298\n",
      "[LightGBM] [Warning] bagging_fraction is set=0.9568332467165983, subsample=1.0 will be ignored. Current value: bagging_fraction=0.9568332467165983\n",
      "[LightGBM] [Warning] bagging_freq is set=5, subsample_freq=0 will be ignored. Current value: bagging_freq=5\n",
      "[LightGBM] [Warning] feature_fraction is set=0.7709828932730298, colsample_bytree=1.0 will be ignored. Current value: feature_fraction=0.7709828932730298\n",
      "[LightGBM] [Warning] bagging_fraction is set=0.9568332467165983, subsample=1.0 will be ignored. Current value: bagging_fraction=0.9568332467165983\n",
      "[LightGBM] [Warning] bagging_freq is set=5, subsample_freq=0 will be ignored. Current value: bagging_freq=5\n",
      "[LightGBM] [Warning] feature_fraction is set=0.7709828932730298, colsample_bytree=1.0 will be ignored. Current value: feature_fraction=0.7709828932730298\n",
      "[LightGBM] [Warning] bagging_fraction is set=0.9568332467165983, subsample=1.0 will be ignored. Current value: bagging_fraction=0.9568332467165983\n",
      "[LightGBM] [Warning] bagging_freq is set=5, subsample_freq=0 will be ignored. Current value: bagging_freq=5\n",
      "[LightGBM] [Warning] feature_fraction is set=0.7709828932730298, colsample_bytree=1.0 will be ignored. Current value: feature_fraction=0.7709828932730298\n",
      "[LightGBM] [Warning] bagging_fraction is set=0.9568332467165983, subsample=1.0 will be ignored. Current value: bagging_fraction=0.9568332467165983\n",
      "[LightGBM] [Warning] bagging_freq is set=5, subsample_freq=0 will be ignored. Current value: bagging_freq=5\n",
      "[LightGBM] [Warning] feature_fraction is set=0.7709828932730298, colsample_bytree=1.0 will be ignored. Current value: feature_fraction=0.7709828932730298\n",
      "[LightGBM] [Warning] bagging_fraction is set=0.9568332467165983, subsample=1.0 will be ignored. Current value: bagging_fraction=0.9568332467165983\n",
      "[LightGBM] [Warning] bagging_freq is set=5, subsample_freq=0 will be ignored. Current value: bagging_freq=5\n",
      "[LightGBM] [Warning] feature_fraction is set=0.7709828932730298, colsample_bytree=1.0 will be ignored. Current value: feature_fraction=0.7709828932730298\n",
      "[LightGBM] [Warning] bagging_fraction is set=0.9568332467165983, subsample=1.0 will be ignored. Current value: bagging_fraction=0.9568332467165983\n",
      "[LightGBM] [Warning] bagging_freq is set=5, subsample_freq=0 will be ignored. Current value: bagging_freq=5\n",
      "[LightGBM] [Warning] feature_fraction is set=0.7709828932730298, colsample_bytree=1.0 will be ignored. Current value: feature_fraction=0.7709828932730298\n",
      "[LightGBM] [Warning] bagging_fraction is set=0.9568332467165983, subsample=1.0 will be ignored. Current value: bagging_fraction=0.9568332467165983\n",
      "[LightGBM] [Warning] bagging_freq is set=5, subsample_freq=0 will be ignored. Current value: bagging_freq=5\n",
      "[LightGBM] [Warning] feature_fraction is set=0.7709828932730298, colsample_bytree=1.0 will be ignored. Current value: feature_fraction=0.7709828932730298\n",
      "[LightGBM] [Warning] bagging_fraction is set=0.9568332467165983, subsample=1.0 will be ignored. Current value: bagging_fraction=0.9568332467165983\n",
      "[LightGBM] [Warning] bagging_freq is set=5, subsample_freq=0 will be ignored. Current value: bagging_freq=5\n",
      "[LightGBM] [Warning] feature_fraction is set=0.7709828932730298, colsample_bytree=1.0 will be ignored. Current value: feature_fraction=0.7709828932730298\n",
      "[LightGBM] [Warning] bagging_fraction is set=0.9568332467165983, subsample=1.0 will be ignored. Current value: bagging_fraction=0.9568332467165983\n",
      "[LightGBM] [Warning] bagging_freq is set=5, subsample_freq=0 will be ignored. Current value: bagging_freq=5\n",
      "[LightGBM] [Warning] feature_fraction is set=0.7709828932730298, colsample_bytree=1.0 will be ignored. Current value: feature_fraction=0.7709828932730298\n",
      "[LightGBM] [Warning] bagging_fraction is set=0.9568332467165983, subsample=1.0 will be ignored. Current value: bagging_fraction=0.9568332467165983\n",
      "[LightGBM] [Warning] bagging_freq is set=5, subsample_freq=0 will be ignored. Current value: bagging_freq=5\n",
      "[LightGBM] [Warning] feature_fraction is set=0.7709828932730298, colsample_bytree=1.0 will be ignored. Current value: feature_fraction=0.7709828932730298\n",
      "[LightGBM] [Warning] bagging_fraction is set=0.9568332467165983, subsample=1.0 will be ignored. Current value: bagging_fraction=0.9568332467165983\n",
      "[LightGBM] [Warning] bagging_freq is set=5, subsample_freq=0 will be ignored. Current value: bagging_freq=5\n",
      "[LightGBM] [Warning] feature_fraction is set=0.7709828932730298, colsample_bytree=1.0 will be ignored. Current value: feature_fraction=0.7709828932730298\n",
      "[LightGBM] [Warning] bagging_fraction is set=0.9568332467165983, subsample=1.0 will be ignored. Current value: bagging_fraction=0.9568332467165983\n",
      "[LightGBM] [Warning] bagging_freq is set=5, subsample_freq=0 will be ignored. Current value: bagging_freq=5\n",
      "[LightGBM] [Warning] feature_fraction is set=0.7709828932730298, colsample_bytree=1.0 will be ignored. Current value: feature_fraction=0.7709828932730298\n",
      "[LightGBM] [Warning] bagging_fraction is set=0.9568332467165983, subsample=1.0 will be ignored. Current value: bagging_fraction=0.9568332467165983\n",
      "[LightGBM] [Warning] bagging_freq is set=5, subsample_freq=0 will be ignored. Current value: bagging_freq=5\n",
      "[LightGBM] [Warning] feature_fraction is set=0.7709828932730298, colsample_bytree=1.0 will be ignored. Current value: feature_fraction=0.7709828932730298\n",
      "[LightGBM] [Warning] bagging_fraction is set=0.9568332467165983, subsample=1.0 will be ignored. Current value: bagging_fraction=0.9568332467165983\n",
      "[LightGBM] [Warning] bagging_freq is set=5, subsample_freq=0 will be ignored. Current value: bagging_freq=5\n",
      "[LightGBM] [Warning] feature_fraction is set=0.7709828932730298, colsample_bytree=1.0 will be ignored. Current value: feature_fraction=0.7709828932730298\n",
      "[LightGBM] [Warning] bagging_fraction is set=0.9568332467165983, subsample=1.0 will be ignored. Current value: bagging_fraction=0.9568332467165983\n",
      "[LightGBM] [Warning] bagging_freq is set=5, subsample_freq=0 will be ignored. Current value: bagging_freq=5\n",
      "[LightGBM] [Warning] feature_fraction is set=0.7709828932730298, colsample_bytree=1.0 will be ignored. Current value: feature_fraction=0.7709828932730298\n",
      "[LightGBM] [Warning] bagging_fraction is set=0.9568332467165983, subsample=1.0 will be ignored. Current value: bagging_fraction=0.9568332467165983\n",
      "[LightGBM] [Warning] bagging_freq is set=5, subsample_freq=0 will be ignored. Current value: bagging_freq=5\n",
      "[LightGBM] [Warning] feature_fraction is set=0.7709828932730298, colsample_bytree=1.0 will be ignored. Current value: feature_fraction=0.7709828932730298\n",
      "[LightGBM] [Warning] bagging_fraction is set=0.9568332467165983, subsample=1.0 will be ignored. Current value: bagging_fraction=0.9568332467165983\n",
      "[LightGBM] [Warning] bagging_freq is set=5, subsample_freq=0 will be ignored. Current value: bagging_freq=5\n",
      "[LightGBM] [Warning] feature_fraction is set=0.7709828932730298, colsample_bytree=1.0 will be ignored. Current value: feature_fraction=0.7709828932730298\n",
      "[LightGBM] [Warning] bagging_fraction is set=0.9568332467165983, subsample=1.0 will be ignored. Current value: bagging_fraction=0.9568332467165983\n",
      "[LightGBM] [Warning] bagging_freq is set=5, subsample_freq=0 will be ignored. Current value: bagging_freq=5\n",
      "[LightGBM] [Warning] feature_fraction is set=0.7709828932730298, colsample_bytree=1.0 will be ignored. Current value: feature_fraction=0.7709828932730298\n",
      "[LightGBM] [Warning] bagging_fraction is set=0.9568332467165983, subsample=1.0 will be ignored. Current value: bagging_fraction=0.9568332467165983\n",
      "[LightGBM] [Warning] bagging_freq is set=5, subsample_freq=0 will be ignored. Current value: bagging_freq=5\n",
      "[LightGBM] [Warning] feature_fraction is set=0.7709828932730298, colsample_bytree=1.0 will be ignored. Current value: feature_fraction=0.7709828932730298\n",
      "[LightGBM] [Warning] bagging_fraction is set=0.9568332467165983, subsample=1.0 will be ignored. Current value: bagging_fraction=0.9568332467165983\n",
      "[LightGBM] [Warning] bagging_freq is set=5, subsample_freq=0 will be ignored. Current value: bagging_freq=5\n",
      "[LightGBM] [Warning] feature_fraction is set=0.7709828932730298, colsample_bytree=1.0 will be ignored. Current value: feature_fraction=0.7709828932730298\n",
      "[LightGBM] [Warning] bagging_fraction is set=0.9568332467165983, subsample=1.0 will be ignored. Current value: bagging_fraction=0.9568332467165983\n",
      "[LightGBM] [Warning] bagging_freq is set=5, subsample_freq=0 will be ignored. Current value: bagging_freq=5\n",
      "[LightGBM] [Warning] feature_fraction is set=0.7709828932730298, colsample_bytree=1.0 will be ignored. Current value: feature_fraction=0.7709828932730298\n",
      "[LightGBM] [Warning] bagging_fraction is set=0.9568332467165983, subsample=1.0 will be ignored. Current value: bagging_fraction=0.9568332467165983\n",
      "[LightGBM] [Warning] bagging_freq is set=5, subsample_freq=0 will be ignored. Current value: bagging_freq=5\n",
      "[LightGBM] [Warning] feature_fraction is set=0.7709828932730298, colsample_bytree=1.0 will be ignored. Current value: feature_fraction=0.7709828932730298\n",
      "[LightGBM] [Warning] bagging_fraction is set=0.9568332467165983, subsample=1.0 will be ignored. Current value: bagging_fraction=0.9568332467165983\n",
      "[LightGBM] [Warning] bagging_freq is set=5, subsample_freq=0 will be ignored. Current value: bagging_freq=5\n",
      "[LightGBM] [Warning] feature_fraction is set=0.7709828932730298, colsample_bytree=1.0 will be ignored. Current value: feature_fraction=0.7709828932730298\n",
      "[LightGBM] [Warning] bagging_fraction is set=0.9568332467165983, subsample=1.0 will be ignored. Current value: bagging_fraction=0.9568332467165983\n",
      "[LightGBM] [Warning] bagging_freq is set=5, subsample_freq=0 will be ignored. Current value: bagging_freq=5\n",
      "[LightGBM] [Warning] feature_fraction is set=0.7709828932730298, colsample_bytree=1.0 will be ignored. Current value: feature_fraction=0.7709828932730298\n",
      "[LightGBM] [Warning] bagging_fraction is set=0.9568332467165983, subsample=1.0 will be ignored. Current value: bagging_fraction=0.9568332467165983\n",
      "[LightGBM] [Warning] bagging_freq is set=5, subsample_freq=0 will be ignored. Current value: bagging_freq=5\n",
      "[LightGBM] [Warning] feature_fraction is set=0.7709828932730298, colsample_bytree=1.0 will be ignored. Current value: feature_fraction=0.7709828932730298\n",
      "[LightGBM] [Warning] bagging_fraction is set=0.9568332467165983, subsample=1.0 will be ignored. Current value: bagging_fraction=0.9568332467165983\n",
      "[LightGBM] [Warning] bagging_freq is set=5, subsample_freq=0 will be ignored. Current value: bagging_freq=5\n",
      "[LightGBM] [Warning] feature_fraction is set=0.7709828932730298, colsample_bytree=1.0 will be ignored. Current value: feature_fraction=0.7709828932730298\n",
      "[LightGBM] [Warning] bagging_fraction is set=0.9568332467165983, subsample=1.0 will be ignored. Current value: bagging_fraction=0.9568332467165983\n",
      "[LightGBM] [Warning] bagging_freq is set=5, subsample_freq=0 will be ignored. Current value: bagging_freq=5\n",
      "[LightGBM] [Warning] feature_fraction is set=0.7709828932730298, colsample_bytree=1.0 will be ignored. Current value: feature_fraction=0.7709828932730298\n",
      "[LightGBM] [Warning] bagging_fraction is set=0.9568332467165983, subsample=1.0 will be ignored. Current value: bagging_fraction=0.9568332467165983\n",
      "[LightGBM] [Warning] bagging_freq is set=5, subsample_freq=0 will be ignored. Current value: bagging_freq=5\n",
      "[LightGBM] [Warning] feature_fraction is set=0.7709828932730298, colsample_bytree=1.0 will be ignored. Current value: feature_fraction=0.7709828932730298\n",
      "[LightGBM] [Warning] bagging_fraction is set=0.9568332467165983, subsample=1.0 will be ignored. Current value: bagging_fraction=0.9568332467165983\n",
      "[LightGBM] [Warning] bagging_freq is set=5, subsample_freq=0 will be ignored. Current value: bagging_freq=5\n",
      "[LightGBM] [Warning] feature_fraction is set=0.7709828932730298, colsample_bytree=1.0 will be ignored. Current value: feature_fraction=0.7709828932730298\n",
      "[LightGBM] [Warning] bagging_fraction is set=0.9568332467165983, subsample=1.0 will be ignored. Current value: bagging_fraction=0.9568332467165983\n",
      "[LightGBM] [Warning] bagging_freq is set=5, subsample_freq=0 will be ignored. Current value: bagging_freq=5\n",
      "[LightGBM] [Warning] feature_fraction is set=0.7709828932730298, colsample_bytree=1.0 will be ignored. Current value: feature_fraction=0.7709828932730298\n",
      "[LightGBM] [Warning] bagging_fraction is set=0.9568332467165983, subsample=1.0 will be ignored. Current value: bagging_fraction=0.9568332467165983\n",
      "[LightGBM] [Warning] bagging_freq is set=5, subsample_freq=0 will be ignored. Current value: bagging_freq=5\n",
      "[LightGBM] [Warning] feature_fraction is set=0.7709828932730298, colsample_bytree=1.0 will be ignored. Current value: feature_fraction=0.7709828932730298\n",
      "[LightGBM] [Warning] bagging_fraction is set=0.9568332467165983, subsample=1.0 will be ignored. Current value: bagging_fraction=0.9568332467165983\n",
      "[LightGBM] [Warning] bagging_freq is set=5, subsample_freq=0 will be ignored. Current value: bagging_freq=5\n",
      "[LightGBM] [Warning] feature_fraction is set=0.7709828932730298, colsample_bytree=1.0 will be ignored. Current value: feature_fraction=0.7709828932730298\n",
      "[LightGBM] [Warning] bagging_fraction is set=0.9568332467165983, subsample=1.0 will be ignored. Current value: bagging_fraction=0.9568332467165983\n",
      "[LightGBM] [Warning] bagging_freq is set=5, subsample_freq=0 will be ignored. Current value: bagging_freq=5\n",
      "[LightGBM] [Warning] feature_fraction is set=0.7709828932730298, colsample_bytree=1.0 will be ignored. Current value: feature_fraction=0.7709828932730298\n",
      "[LightGBM] [Warning] bagging_fraction is set=0.9568332467165983, subsample=1.0 will be ignored. Current value: bagging_fraction=0.9568332467165983\n",
      "[LightGBM] [Warning] bagging_freq is set=5, subsample_freq=0 will be ignored. Current value: bagging_freq=5\n",
      "[LightGBM] [Warning] feature_fraction is set=0.7709828932730298, colsample_bytree=1.0 will be ignored. Current value: feature_fraction=0.7709828932730298\n",
      "[LightGBM] [Warning] bagging_fraction is set=0.9568332467165983, subsample=1.0 will be ignored. Current value: bagging_fraction=0.9568332467165983\n",
      "[LightGBM] [Warning] bagging_freq is set=5, subsample_freq=0 will be ignored. Current value: bagging_freq=5\n",
      "[LightGBM] [Warning] feature_fraction is set=0.7709828932730298, colsample_bytree=1.0 will be ignored. Current value: feature_fraction=0.7709828932730298\n",
      "[LightGBM] [Warning] bagging_fraction is set=0.9568332467165983, subsample=1.0 will be ignored. Current value: bagging_fraction=0.9568332467165983\n",
      "[LightGBM] [Warning] bagging_freq is set=5, subsample_freq=0 will be ignored. Current value: bagging_freq=5\n",
      "[LightGBM] [Warning] feature_fraction is set=0.7709828932730298, colsample_bytree=1.0 will be ignored. Current value: feature_fraction=0.7709828932730298\n",
      "[LightGBM] [Warning] bagging_fraction is set=0.9568332467165983, subsample=1.0 will be ignored. Current value: bagging_fraction=0.9568332467165983\n",
      "[LightGBM] [Warning] bagging_freq is set=5, subsample_freq=0 will be ignored. Current value: bagging_freq=5\n",
      "[LightGBM] [Warning] feature_fraction is set=0.7709828932730298, colsample_bytree=1.0 will be ignored. Current value: feature_fraction=0.7709828932730298\n",
      "[LightGBM] [Warning] bagging_fraction is set=0.9568332467165983, subsample=1.0 will be ignored. Current value: bagging_fraction=0.9568332467165983\n",
      "[LightGBM] [Warning] bagging_freq is set=5, subsample_freq=0 will be ignored. Current value: bagging_freq=5\n",
      "[LightGBM] [Warning] feature_fraction is set=0.7709828932730298, colsample_bytree=1.0 will be ignored. Current value: feature_fraction=0.7709828932730298\n",
      "[LightGBM] [Warning] bagging_fraction is set=0.9568332467165983, subsample=1.0 will be ignored. Current value: bagging_fraction=0.9568332467165983\n",
      "[LightGBM] [Warning] bagging_freq is set=5, subsample_freq=0 will be ignored. Current value: bagging_freq=5\n",
      "[LightGBM] [Warning] feature_fraction is set=0.7709828932730298, colsample_bytree=1.0 will be ignored. Current value: feature_fraction=0.7709828932730298\n",
      "[LightGBM] [Warning] bagging_fraction is set=0.9568332467165983, subsample=1.0 will be ignored. Current value: bagging_fraction=0.9568332467165983\n",
      "[LightGBM] [Warning] bagging_freq is set=5, subsample_freq=0 will be ignored. Current value: bagging_freq=5\n",
      "[LightGBM] [Warning] feature_fraction is set=0.7709828932730298, colsample_bytree=1.0 will be ignored. Current value: feature_fraction=0.7709828932730298\n",
      "[LightGBM] [Warning] bagging_fraction is set=0.9568332467165983, subsample=1.0 will be ignored. Current value: bagging_fraction=0.9568332467165983\n",
      "[LightGBM] [Warning] bagging_freq is set=5, subsample_freq=0 will be ignored. Current value: bagging_freq=5\n",
      "[LightGBM] [Warning] feature_fraction is set=0.7709828932730298, colsample_bytree=1.0 will be ignored. Current value: feature_fraction=0.7709828932730298\n",
      "[LightGBM] [Warning] bagging_fraction is set=0.9568332467165983, subsample=1.0 will be ignored. Current value: bagging_fraction=0.9568332467165983\n",
      "[LightGBM] [Warning] bagging_freq is set=5, subsample_freq=0 will be ignored. Current value: bagging_freq=5\n",
      "[LightGBM] [Warning] feature_fraction is set=0.7709828932730298, colsample_bytree=1.0 will be ignored. Current value: feature_fraction=0.7709828932730298\n",
      "[LightGBM] [Warning] bagging_fraction is set=0.9568332467165983, subsample=1.0 will be ignored. Current value: bagging_fraction=0.9568332467165983\n",
      "[LightGBM] [Warning] bagging_freq is set=5, subsample_freq=0 will be ignored. Current value: bagging_freq=5\n",
      "[LightGBM] [Warning] feature_fraction is set=0.7709828932730298, colsample_bytree=1.0 will be ignored. Current value: feature_fraction=0.7709828932730298\n",
      "[LightGBM] [Warning] bagging_fraction is set=0.9568332467165983, subsample=1.0 will be ignored. Current value: bagging_fraction=0.9568332467165983\n",
      "[LightGBM] [Warning] bagging_freq is set=5, subsample_freq=0 will be ignored. Current value: bagging_freq=5\n",
      "[LightGBM] [Warning] feature_fraction is set=0.7709828932730298, colsample_bytree=1.0 will be ignored. Current value: feature_fraction=0.7709828932730298\n",
      "[LightGBM] [Warning] bagging_fraction is set=0.9568332467165983, subsample=1.0 will be ignored. Current value: bagging_fraction=0.9568332467165983\n",
      "[LightGBM] [Warning] bagging_freq is set=5, subsample_freq=0 will be ignored. Current value: bagging_freq=5\n",
      "[LightGBM] [Warning] feature_fraction is set=0.7709828932730298, colsample_bytree=1.0 will be ignored. Current value: feature_fraction=0.7709828932730298\n",
      "[LightGBM] [Warning] bagging_fraction is set=0.9568332467165983, subsample=1.0 will be ignored. Current value: bagging_fraction=0.9568332467165983\n",
      "[LightGBM] [Warning] bagging_freq is set=5, subsample_freq=0 will be ignored. Current value: bagging_freq=5\n",
      "[LightGBM] [Warning] feature_fraction is set=0.7709828932730298, colsample_bytree=1.0 will be ignored. Current value: feature_fraction=0.7709828932730298\n",
      "[LightGBM] [Warning] bagging_fraction is set=0.9568332467165983, subsample=1.0 will be ignored. Current value: bagging_fraction=0.9568332467165983\n",
      "[LightGBM] [Warning] bagging_freq is set=5, subsample_freq=0 will be ignored. Current value: bagging_freq=5\n",
      "[LightGBM] [Warning] feature_fraction is set=0.7709828932730298, colsample_bytree=1.0 will be ignored. Current value: feature_fraction=0.7709828932730298\n",
      "[LightGBM] [Warning] bagging_fraction is set=0.9568332467165983, subsample=1.0 will be ignored. Current value: bagging_fraction=0.9568332467165983\n",
      "[LightGBM] [Warning] bagging_freq is set=5, subsample_freq=0 will be ignored. Current value: bagging_freq=5\n",
      "[LightGBM] [Warning] feature_fraction is set=0.7709828932730298, colsample_bytree=1.0 will be ignored. Current value: feature_fraction=0.7709828932730298\n",
      "[LightGBM] [Warning] bagging_fraction is set=0.9568332467165983, subsample=1.0 will be ignored. Current value: bagging_fraction=0.9568332467165983\n",
      "[LightGBM] [Warning] bagging_freq is set=5, subsample_freq=0 will be ignored. Current value: bagging_freq=5\n",
      "[LightGBM] [Warning] feature_fraction is set=0.7709828932730298, colsample_bytree=1.0 will be ignored. Current value: feature_fraction=0.7709828932730298\n",
      "[LightGBM] [Warning] bagging_fraction is set=0.9568332467165983, subsample=1.0 will be ignored. Current value: bagging_fraction=0.9568332467165983\n",
      "[LightGBM] [Warning] bagging_freq is set=5, subsample_freq=0 will be ignored. Current value: bagging_freq=5\n",
      "[LightGBM] [Warning] feature_fraction is set=0.7709828932730298, colsample_bytree=1.0 will be ignored. Current value: feature_fraction=0.7709828932730298\n",
      "[LightGBM] [Warning] bagging_fraction is set=0.9568332467165983, subsample=1.0 will be ignored. Current value: bagging_fraction=0.9568332467165983\n",
      "[LightGBM] [Warning] bagging_freq is set=5, subsample_freq=0 will be ignored. Current value: bagging_freq=5\n",
      "[LightGBM] [Warning] feature_fraction is set=0.7709828932730298, colsample_bytree=1.0 will be ignored. Current value: feature_fraction=0.7709828932730298\n",
      "[LightGBM] [Warning] bagging_fraction is set=0.9568332467165983, subsample=1.0 will be ignored. Current value: bagging_fraction=0.9568332467165983\n",
      "[LightGBM] [Warning] bagging_freq is set=5, subsample_freq=0 will be ignored. Current value: bagging_freq=5\n",
      "[LightGBM] [Warning] feature_fraction is set=0.7709828932730298, colsample_bytree=1.0 will be ignored. Current value: feature_fraction=0.7709828932730298\n",
      "[LightGBM] [Warning] bagging_fraction is set=0.9568332467165983, subsample=1.0 will be ignored. Current value: bagging_fraction=0.9568332467165983\n",
      "[LightGBM] [Warning] bagging_freq is set=5, subsample_freq=0 will be ignored. Current value: bagging_freq=5\n",
      "[LightGBM] [Warning] feature_fraction is set=0.7709828932730298, colsample_bytree=1.0 will be ignored. Current value: feature_fraction=0.7709828932730298\n",
      "[LightGBM] [Warning] bagging_fraction is set=0.9568332467165983, subsample=1.0 will be ignored. Current value: bagging_fraction=0.9568332467165983\n",
      "[LightGBM] [Warning] bagging_freq is set=5, subsample_freq=0 will be ignored. Current value: bagging_freq=5\n"
     ]
    },
    {
     "ename": "ValueError",
     "evalue": "Mime type rendering requires nbformat>=4.2.0 but it is not installed",
     "output_type": "error",
     "traceback": [
      "\u001b[1;31m---------------------------------------------------------------------------\u001b[0m",
      "\u001b[1;31mValueError\u001b[0m                                Traceback (most recent call last)",
      "File \u001b[1;32mc:\\Bruno\\Projects\\rio-airbnb-data-analysis\\.venv\\Lib\\site-packages\\IPython\\core\\formatters.py:925\u001b[0m, in \u001b[0;36mIPythonDisplayFormatter.__call__\u001b[1;34m(self, obj)\u001b[0m\n\u001b[0;32m    923\u001b[0m method \u001b[38;5;241m=\u001b[39m get_real_method(obj, \u001b[38;5;28mself\u001b[39m\u001b[38;5;241m.\u001b[39mprint_method)\n\u001b[0;32m    924\u001b[0m \u001b[38;5;28;01mif\u001b[39;00m method \u001b[38;5;129;01mis\u001b[39;00m \u001b[38;5;129;01mnot\u001b[39;00m \u001b[38;5;28;01mNone\u001b[39;00m:\n\u001b[1;32m--> 925\u001b[0m     \u001b[43mmethod\u001b[49m\u001b[43m(\u001b[49m\u001b[43m)\u001b[49m\n\u001b[0;32m    926\u001b[0m     \u001b[38;5;28;01mreturn\u001b[39;00m \u001b[38;5;28;01mTrue\u001b[39;00m\n",
      "File \u001b[1;32mc:\\Bruno\\Projects\\rio-airbnb-data-analysis\\.venv\\Lib\\site-packages\\plotly\\basedatatypes.py:832\u001b[0m, in \u001b[0;36mBaseFigure._ipython_display_\u001b[1;34m(self)\u001b[0m\n\u001b[0;32m    829\u001b[0m \u001b[38;5;28;01mimport\u001b[39;00m \u001b[38;5;21;01mplotly\u001b[39;00m\u001b[38;5;21;01m.\u001b[39;00m\u001b[38;5;21;01mio\u001b[39;00m \u001b[38;5;28;01mas\u001b[39;00m \u001b[38;5;21;01mpio\u001b[39;00m\n\u001b[0;32m    831\u001b[0m \u001b[38;5;28;01mif\u001b[39;00m pio\u001b[38;5;241m.\u001b[39mrenderers\u001b[38;5;241m.\u001b[39mrender_on_display \u001b[38;5;129;01mand\u001b[39;00m pio\u001b[38;5;241m.\u001b[39mrenderers\u001b[38;5;241m.\u001b[39mdefault:\n\u001b[1;32m--> 832\u001b[0m     \u001b[43mpio\u001b[49m\u001b[38;5;241;43m.\u001b[39;49m\u001b[43mshow\u001b[49m\u001b[43m(\u001b[49m\u001b[38;5;28;43mself\u001b[39;49m\u001b[43m)\u001b[49m\n\u001b[0;32m    833\u001b[0m \u001b[38;5;28;01melse\u001b[39;00m:\n\u001b[0;32m    834\u001b[0m     \u001b[38;5;28mprint\u001b[39m(\u001b[38;5;28mrepr\u001b[39m(\u001b[38;5;28mself\u001b[39m))\n",
      "File \u001b[1;32mc:\\Bruno\\Projects\\rio-airbnb-data-analysis\\.venv\\Lib\\site-packages\\plotly\\io\\_renderers.py:394\u001b[0m, in \u001b[0;36mshow\u001b[1;34m(fig, renderer, validate, **kwargs)\u001b[0m\n\u001b[0;32m    389\u001b[0m         \u001b[38;5;28;01mraise\u001b[39;00m \u001b[38;5;167;01mValueError\u001b[39;00m(\n\u001b[0;32m    390\u001b[0m             \u001b[38;5;124m\"\u001b[39m\u001b[38;5;124mMime type rendering requires ipython but it is not installed\u001b[39m\u001b[38;5;124m\"\u001b[39m\n\u001b[0;32m    391\u001b[0m         )\n\u001b[0;32m    393\u001b[0m     \u001b[38;5;28;01mif\u001b[39;00m \u001b[38;5;129;01mnot\u001b[39;00m nbformat \u001b[38;5;129;01mor\u001b[39;00m Version(nbformat\u001b[38;5;241m.\u001b[39m__version__) \u001b[38;5;241m<\u001b[39m Version(\u001b[38;5;124m\"\u001b[39m\u001b[38;5;124m4.2.0\u001b[39m\u001b[38;5;124m\"\u001b[39m):\n\u001b[1;32m--> 394\u001b[0m         \u001b[38;5;28;01mraise\u001b[39;00m \u001b[38;5;167;01mValueError\u001b[39;00m(\n\u001b[0;32m    395\u001b[0m             \u001b[38;5;124m\"\u001b[39m\u001b[38;5;124mMime type rendering requires nbformat>=4.2.0 but it is not installed\u001b[39m\u001b[38;5;124m\"\u001b[39m\n\u001b[0;32m    396\u001b[0m         )\n\u001b[0;32m    398\u001b[0m     ipython_display\u001b[38;5;241m.\u001b[39mdisplay(bundle, raw\u001b[38;5;241m=\u001b[39m\u001b[38;5;28;01mTrue\u001b[39;00m)\n\u001b[0;32m    400\u001b[0m \u001b[38;5;66;03m# external renderers\u001b[39;00m\n",
      "\u001b[1;31mValueError\u001b[0m: Mime type rendering requires nbformat>=4.2.0 but it is not installed"
     ]
    },
    {
     "data": {
      "application/vnd.plotly.v1+json": {
       "config": {
        "plotlyServerURL": "https://plot.ly"
       },
       "data": [
        {
         "fill": "tonexty",
         "fillcolor": "rgba(68, 68, 68, 0.15)",
         "line": {
          "color": "#1f77b4"
         },
         "mode": "lines",
         "name": "Main",
         "type": "scatter",
         "x": [
          -23.07327651977539,
          -23.004561530219185,
          -22.984711752997505,
          -22.98166020711263,
          -22.975062052408855,
          -22.968509674072266,
          -22.963672637939453,
          -22.94460678100586,
          -22.91932423909505,
          -22.750940322875977
         ],
         "xaxis": "x",
         "y": [
          467.5409023210394,
          417.9255348126201,
          422.30175470875736,
          395.45266318111635,
          381.7670282568183,
          356.4018008397741,
          338.19750091783175,
          316.44265089887017,
          265.9376256216008,
          241.72058545779845
         ],
         "yaxis": "y"
        },
        {
         "connectgaps": true,
         "line": {
          "width": 1.5
         },
         "mode": "lines",
         "name": "Background: 1",
         "opacity": 0.3,
         "type": "scatter",
         "x": [
          -23.07327651977539,
          -23.004561530219185,
          -22.984711752997505,
          -22.98166020711263,
          -22.975062052408855,
          -22.968509674072266,
          -22.963672637939453,
          -22.94460678100586,
          -22.91932423909505,
          -22.750940322875977
         ],
         "xaxis": "x",
         "y": [
          329.6076707552039,
          273.14187592086955,
          259.0324478995212,
          230.71636028610834,
          230.564901197374,
          231.20627511752232,
          215.23491231111345,
          209.70232877878848,
          149.2310214927156,
          131.2992066840827
         ],
         "yaxis": "y"
        },
        {
         "connectgaps": true,
         "line": {
          "width": 1.5
         },
         "mode": "lines",
         "name": "Background: 2",
         "opacity": 0.3,
         "type": "scatter",
         "x": [
          -23.07327651977539,
          -23.004561530219185,
          -22.984711752997505,
          -22.98166020711263,
          -22.975062052408855,
          -22.968509674072266,
          -22.963672637939453,
          -22.94460678100586,
          -22.91932423909505,
          -22.750940322875977
         ],
         "xaxis": "x",
         "y": [
          561.5550215643435,
          563.3835427847857,
          593.7941184166639,
          599.367704445119,
          608.6662036403228,
          603.0028702016159,
          539.3073505728269,
          442.77900358877645,
          409.699524884438,
          383.0367167984616
         ],
         "yaxis": "y"
        },
        {
         "connectgaps": true,
         "line": {
          "width": 1.5
         },
         "mode": "lines",
         "name": "Background: 3",
         "opacity": 0.3,
         "type": "scatter",
         "x": [
          -23.07327651977539,
          -23.004561530219185,
          -22.984711752997505,
          -22.98166020711263,
          -22.975062052408855,
          -22.968509674072266,
          -22.963672637939453,
          -22.94460678100586,
          -22.91932423909505,
          -22.750940322875977
         ],
         "xaxis": "x",
         "y": [
          484.67071763474803,
          384.7084674814787,
          403.39796602591184,
          372.9547457160118,
          327.77896608786864,
          307.19804739426667,
          307.33034959210715,
          280.597289030367,
          220.31760110338527,
          195.2448659401663
         ],
         "yaxis": "y"
        },
        {
         "connectgaps": true,
         "line": {
          "width": 1.5
         },
         "mode": "lines",
         "name": "Background: 4",
         "opacity": 0.3,
         "type": "scatter",
         "x": [
          -23.07327651977539,
          -23.004561530219185,
          -22.984711752997505,
          -22.98166020711263,
          -22.975062052408855,
          -22.968509674072266,
          -22.963672637939453,
          -22.94460678100586,
          -22.91932423909505,
          -22.750940322875977
         ],
         "xaxis": "x",
         "y": [
          340.2966649338625,
          220.61118177752192,
          209.38797132352843,
          195.0924550112554,
          193.97245886051192,
          168.88950180310624,
          167.2952149631452,
          164.4725390718741,
          149.48312843596938,
          123.46972835491125
         ],
         "yaxis": "y"
        },
        {
         "connectgaps": true,
         "line": {
          "width": 1.5
         },
         "mode": "lines",
         "name": "Background: 5",
         "opacity": 0.3,
         "type": "scatter",
         "x": [
          -23.07327651977539,
          -23.004561530219185,
          -22.984711752997505,
          -22.98166020711263,
          -22.975062052408855,
          -22.968509674072266,
          -22.963672637939453,
          -22.94460678100586,
          -22.91932423909505,
          -22.750940322875977
         ],
         "xaxis": "x",
         "y": [
          369.97549051949375,
          291.5868285822857,
          283.2775576971056,
          279.1948673015191,
          272.89540000772035,
          269.12389541421174,
          239.8693635985981,
          217.9896486348357,
          190.87730996061617,
          167.39317520758385
         ],
         "yaxis": "y"
        },
        {
         "connectgaps": true,
         "line": {
          "width": 1.5
         },
         "mode": "lines",
         "name": "Background: 6",
         "opacity": 0.3,
         "type": "scatter",
         "x": [
          -23.07327651977539,
          -23.004561530219185,
          -22.984711752997505,
          -22.98166020711263,
          -22.975062052408855,
          -22.968509674072266,
          -22.963672637939453,
          -22.94460678100586,
          -22.91932423909505,
          -22.750940322875977
         ],
         "xaxis": "x",
         "y": [
          828.8825619775594,
          741.0852497961513,
          780.9988228062376,
          764.1423611850082,
          719.9610850489198,
          684.6109587589777,
          648.6871312332632,
          604.3180644166248,
          470.3287368215841,
          437.50133792321105
         ],
         "yaxis": "y"
        },
        {
         "connectgaps": true,
         "line": {
          "width": 1.5
         },
         "mode": "lines",
         "name": "Background: 7",
         "opacity": 0.3,
         "type": "scatter",
         "x": [
          -23.07327651977539,
          -23.004561530219185,
          -22.984711752997505,
          -22.98166020711263,
          -22.975062052408855,
          -22.968509674072266,
          -22.963672637939453,
          -22.94460678100586,
          -22.91932423909505,
          -22.750940322875977
         ],
         "xaxis": "x",
         "y": [
          216.8721671079257,
          176.97202764388663,
          168.17365274102843,
          147.88710861068412,
          147.49581669826688,
          136.74370797711126,
          136.88251678809306,
          134.2049104528586,
          122.31021917304261,
          112.01738488138022
         ],
         "yaxis": "y"
        },
        {
         "connectgaps": true,
         "line": {
          "width": 1.5
         },
         "mode": "lines",
         "name": "Background: 8",
         "opacity": 0.3,
         "type": "scatter",
         "x": [
          -23.07327651977539,
          -23.004561530219185,
          -22.984711752997505,
          -22.98166020711263,
          -22.975062052408855,
          -22.968509674072266,
          -22.963672637939453,
          -22.94460678100586,
          -22.91932423909505,
          -22.750940322875977
         ],
         "xaxis": "x",
         "y": [
          333.77993068701625,
          302.63094544665904,
          299.58679832632043,
          275.8468335499588,
          273.8803113946159,
          202.15938117504365,
          176.41861171903287,
          179.70100084739684,
          149.42888636496374,
          136.42057052108177
         ],
         "yaxis": "y"
        },
        {
         "connectgaps": true,
         "line": {
          "width": 1.5
         },
         "mode": "lines",
         "name": "Background: 9",
         "opacity": 0.3,
         "type": "scatter",
         "x": [
          -23.07327651977539,
          -23.004561530219185,
          -22.984711752997505,
          -22.98166020711263,
          -22.975062052408855,
          -22.968509674072266,
          -22.963672637939453,
          -22.94460678100586,
          -22.91932423909505,
          -22.750940322875977
         ],
         "xaxis": "x",
         "y": [
          584.0696743199248,
          572.2332920542407,
          574.018445539988,
          552.3408676946206,
          537.1568204349571,
          542.049623532661,
          531.2069545938655,
          458.5971149725739,
          322.8482729079225,
          278.5206796943243
         ],
         "yaxis": "y"
        },
        {
         "connectgaps": true,
         "line": {
          "width": 1.5
         },
         "mode": "lines",
         "name": "Background: 10",
         "opacity": 0.3,
         "type": "scatter",
         "x": [
          -23.07327651977539,
          -23.004561530219185,
          -22.984711752997505,
          -22.98166020711263,
          -22.975062052408855,
          -22.968509674072266,
          -22.963672637939453,
          -22.94460678100586,
          -22.91932423909505,
          -22.750940322875977
         ],
         "xaxis": "x",
         "y": [
          378.71498190462313,
          294.1603742000605,
          300.0127876655701,
          288.22358771366873,
          281.48949081798673,
          252.78523222835946,
          247.18990623107675,
          226.7929584402371,
          198.22018446750442,
          177.17586862487408
         ],
         "yaxis": "y"
        },
        {
         "hovertemplate": "(%{hovertext}): %{y}",
         "hovertext": [
          "-23.1 - -23.1",
          "-23.1 - -23",
          "-23 - -23",
          "-23 - -23",
          "-23 - -23",
          "-23 - -23",
          "-23 - -23",
          "-23 - -22.9",
          "-22.9 - -22.9",
          "-22.9 - -22.9",
          "-22.9 - -22.9",
          "-22.9 - -22.9",
          "-22.9 - -22.9",
          "-22.9 - -22.8",
          "-22.8 - -22.8",
          "-22.8 - -22.8",
          "-22.8 - -22.8",
          "-22.8 - -22.8",
          "-22.8 - -22.8"
         ],
         "marker": {
          "color": "#ff7f0e"
         },
         "name": "Distribution",
         "type": "bar",
         "x": [
          -23.064793988278037,
          -23.047828925283333,
          -23.030863862288626,
          -23.01389879929392,
          -22.996933736299212,
          -22.97996867330451,
          -22.9630036103098,
          -22.946038547315098,
          -22.92907348432039,
          -22.912108421325684,
          -22.895143358330976,
          -22.87817829533627,
          -22.861213232341566,
          -22.84424816934686,
          -22.827283106352155,
          -22.810318043357448,
          -22.79335298036274,
          -22.776387917368034,
          -22.75942285437333
         ],
         "xaxis": "x2",
         "y": [
          22,
          2,
          162,
          440,
          321,
          2090,
          1457,
          357,
          469,
          526,
          90,
          27,
          21,
          10,
          11,
          19,
          11,
          0,
          9
         ],
         "yaxis": "y2"
        }
       ],
       "layout": {
        "bargap": 0,
        "showlegend": false,
        "template": {
         "data": {
          "bar": [
           {
            "error_x": {
             "color": "#2a3f5f"
            },
            "error_y": {
             "color": "#2a3f5f"
            },
            "marker": {
             "line": {
              "color": "#E5ECF6",
              "width": 0.5
             },
             "pattern": {
              "fillmode": "overlay",
              "size": 10,
              "solidity": 0.2
             }
            },
            "type": "bar"
           }
          ],
          "barpolar": [
           {
            "marker": {
             "line": {
              "color": "#E5ECF6",
              "width": 0.5
             },
             "pattern": {
              "fillmode": "overlay",
              "size": 10,
              "solidity": 0.2
             }
            },
            "type": "barpolar"
           }
          ],
          "carpet": [
           {
            "aaxis": {
             "endlinecolor": "#2a3f5f",
             "gridcolor": "white",
             "linecolor": "white",
             "minorgridcolor": "white",
             "startlinecolor": "#2a3f5f"
            },
            "baxis": {
             "endlinecolor": "#2a3f5f",
             "gridcolor": "white",
             "linecolor": "white",
             "minorgridcolor": "white",
             "startlinecolor": "#2a3f5f"
            },
            "type": "carpet"
           }
          ],
          "choropleth": [
           {
            "colorbar": {
             "outlinewidth": 0,
             "ticks": ""
            },
            "type": "choropleth"
           }
          ],
          "contour": [
           {
            "colorbar": {
             "outlinewidth": 0,
             "ticks": ""
            },
            "colorscale": [
             [
              0,
              "#0d0887"
             ],
             [
              0.1111111111111111,
              "#46039f"
             ],
             [
              0.2222222222222222,
              "#7201a8"
             ],
             [
              0.3333333333333333,
              "#9c179e"
             ],
             [
              0.4444444444444444,
              "#bd3786"
             ],
             [
              0.5555555555555556,
              "#d8576b"
             ],
             [
              0.6666666666666666,
              "#ed7953"
             ],
             [
              0.7777777777777778,
              "#fb9f3a"
             ],
             [
              0.8888888888888888,
              "#fdca26"
             ],
             [
              1,
              "#f0f921"
             ]
            ],
            "type": "contour"
           }
          ],
          "contourcarpet": [
           {
            "colorbar": {
             "outlinewidth": 0,
             "ticks": ""
            },
            "type": "contourcarpet"
           }
          ],
          "heatmap": [
           {
            "colorbar": {
             "outlinewidth": 0,
             "ticks": ""
            },
            "colorscale": [
             [
              0,
              "#0d0887"
             ],
             [
              0.1111111111111111,
              "#46039f"
             ],
             [
              0.2222222222222222,
              "#7201a8"
             ],
             [
              0.3333333333333333,
              "#9c179e"
             ],
             [
              0.4444444444444444,
              "#bd3786"
             ],
             [
              0.5555555555555556,
              "#d8576b"
             ],
             [
              0.6666666666666666,
              "#ed7953"
             ],
             [
              0.7777777777777778,
              "#fb9f3a"
             ],
             [
              0.8888888888888888,
              "#fdca26"
             ],
             [
              1,
              "#f0f921"
             ]
            ],
            "type": "heatmap"
           }
          ],
          "heatmapgl": [
           {
            "colorbar": {
             "outlinewidth": 0,
             "ticks": ""
            },
            "colorscale": [
             [
              0,
              "#0d0887"
             ],
             [
              0.1111111111111111,
              "#46039f"
             ],
             [
              0.2222222222222222,
              "#7201a8"
             ],
             [
              0.3333333333333333,
              "#9c179e"
             ],
             [
              0.4444444444444444,
              "#bd3786"
             ],
             [
              0.5555555555555556,
              "#d8576b"
             ],
             [
              0.6666666666666666,
              "#ed7953"
             ],
             [
              0.7777777777777778,
              "#fb9f3a"
             ],
             [
              0.8888888888888888,
              "#fdca26"
             ],
             [
              1,
              "#f0f921"
             ]
            ],
            "type": "heatmapgl"
           }
          ],
          "histogram": [
           {
            "marker": {
             "pattern": {
              "fillmode": "overlay",
              "size": 10,
              "solidity": 0.2
             }
            },
            "type": "histogram"
           }
          ],
          "histogram2d": [
           {
            "colorbar": {
             "outlinewidth": 0,
             "ticks": ""
            },
            "colorscale": [
             [
              0,
              "#0d0887"
             ],
             [
              0.1111111111111111,
              "#46039f"
             ],
             [
              0.2222222222222222,
              "#7201a8"
             ],
             [
              0.3333333333333333,
              "#9c179e"
             ],
             [
              0.4444444444444444,
              "#bd3786"
             ],
             [
              0.5555555555555556,
              "#d8576b"
             ],
             [
              0.6666666666666666,
              "#ed7953"
             ],
             [
              0.7777777777777778,
              "#fb9f3a"
             ],
             [
              0.8888888888888888,
              "#fdca26"
             ],
             [
              1,
              "#f0f921"
             ]
            ],
            "type": "histogram2d"
           }
          ],
          "histogram2dcontour": [
           {
            "colorbar": {
             "outlinewidth": 0,
             "ticks": ""
            },
            "colorscale": [
             [
              0,
              "#0d0887"
             ],
             [
              0.1111111111111111,
              "#46039f"
             ],
             [
              0.2222222222222222,
              "#7201a8"
             ],
             [
              0.3333333333333333,
              "#9c179e"
             ],
             [
              0.4444444444444444,
              "#bd3786"
             ],
             [
              0.5555555555555556,
              "#d8576b"
             ],
             [
              0.6666666666666666,
              "#ed7953"
             ],
             [
              0.7777777777777778,
              "#fb9f3a"
             ],
             [
              0.8888888888888888,
              "#fdca26"
             ],
             [
              1,
              "#f0f921"
             ]
            ],
            "type": "histogram2dcontour"
           }
          ],
          "mesh3d": [
           {
            "colorbar": {
             "outlinewidth": 0,
             "ticks": ""
            },
            "type": "mesh3d"
           }
          ],
          "parcoords": [
           {
            "line": {
             "colorbar": {
              "outlinewidth": 0,
              "ticks": ""
             }
            },
            "type": "parcoords"
           }
          ],
          "pie": [
           {
            "automargin": true,
            "type": "pie"
           }
          ],
          "scatter": [
           {
            "fillpattern": {
             "fillmode": "overlay",
             "size": 10,
             "solidity": 0.2
            },
            "type": "scatter"
           }
          ],
          "scatter3d": [
           {
            "line": {
             "colorbar": {
              "outlinewidth": 0,
              "ticks": ""
             }
            },
            "marker": {
             "colorbar": {
              "outlinewidth": 0,
              "ticks": ""
             }
            },
            "type": "scatter3d"
           }
          ],
          "scattercarpet": [
           {
            "marker": {
             "colorbar": {
              "outlinewidth": 0,
              "ticks": ""
             }
            },
            "type": "scattercarpet"
           }
          ],
          "scattergeo": [
           {
            "marker": {
             "colorbar": {
              "outlinewidth": 0,
              "ticks": ""
             }
            },
            "type": "scattergeo"
           }
          ],
          "scattergl": [
           {
            "marker": {
             "colorbar": {
              "outlinewidth": 0,
              "ticks": ""
             }
            },
            "type": "scattergl"
           }
          ],
          "scattermapbox": [
           {
            "marker": {
             "colorbar": {
              "outlinewidth": 0,
              "ticks": ""
             }
            },
            "type": "scattermapbox"
           }
          ],
          "scatterpolar": [
           {
            "marker": {
             "colorbar": {
              "outlinewidth": 0,
              "ticks": ""
             }
            },
            "type": "scatterpolar"
           }
          ],
          "scatterpolargl": [
           {
            "marker": {
             "colorbar": {
              "outlinewidth": 0,
              "ticks": ""
             }
            },
            "type": "scatterpolargl"
           }
          ],
          "scatterternary": [
           {
            "marker": {
             "colorbar": {
              "outlinewidth": 0,
              "ticks": ""
             }
            },
            "type": "scatterternary"
           }
          ],
          "surface": [
           {
            "colorbar": {
             "outlinewidth": 0,
             "ticks": ""
            },
            "colorscale": [
             [
              0,
              "#0d0887"
             ],
             [
              0.1111111111111111,
              "#46039f"
             ],
             [
              0.2222222222222222,
              "#7201a8"
             ],
             [
              0.3333333333333333,
              "#9c179e"
             ],
             [
              0.4444444444444444,
              "#bd3786"
             ],
             [
              0.5555555555555556,
              "#d8576b"
             ],
             [
              0.6666666666666666,
              "#ed7953"
             ],
             [
              0.7777777777777778,
              "#fb9f3a"
             ],
             [
              0.8888888888888888,
              "#fdca26"
             ],
             [
              1,
              "#f0f921"
             ]
            ],
            "type": "surface"
           }
          ],
          "table": [
           {
            "cells": {
             "fill": {
              "color": "#EBF0F8"
             },
             "line": {
              "color": "white"
             }
            },
            "header": {
             "fill": {
              "color": "#C8D4E3"
             },
             "line": {
              "color": "white"
             }
            },
            "type": "table"
           }
          ]
         },
         "layout": {
          "annotationdefaults": {
           "arrowcolor": "#2a3f5f",
           "arrowhead": 0,
           "arrowwidth": 1
          },
          "autotypenumbers": "strict",
          "coloraxis": {
           "colorbar": {
            "outlinewidth": 0,
            "ticks": ""
           }
          },
          "colorscale": {
           "diverging": [
            [
             0,
             "#8e0152"
            ],
            [
             0.1,
             "#c51b7d"
            ],
            [
             0.2,
             "#de77ae"
            ],
            [
             0.3,
             "#f1b6da"
            ],
            [
             0.4,
             "#fde0ef"
            ],
            [
             0.5,
             "#f7f7f7"
            ],
            [
             0.6,
             "#e6f5d0"
            ],
            [
             0.7,
             "#b8e186"
            ],
            [
             0.8,
             "#7fbc41"
            ],
            [
             0.9,
             "#4d9221"
            ],
            [
             1,
             "#276419"
            ]
           ],
           "sequential": [
            [
             0,
             "#0d0887"
            ],
            [
             0.1111111111111111,
             "#46039f"
            ],
            [
             0.2222222222222222,
             "#7201a8"
            ],
            [
             0.3333333333333333,
             "#9c179e"
            ],
            [
             0.4444444444444444,
             "#bd3786"
            ],
            [
             0.5555555555555556,
             "#d8576b"
            ],
            [
             0.6666666666666666,
             "#ed7953"
            ],
            [
             0.7777777777777778,
             "#fb9f3a"
            ],
            [
             0.8888888888888888,
             "#fdca26"
            ],
            [
             1,
             "#f0f921"
            ]
           ],
           "sequentialminus": [
            [
             0,
             "#0d0887"
            ],
            [
             0.1111111111111111,
             "#46039f"
            ],
            [
             0.2222222222222222,
             "#7201a8"
            ],
            [
             0.3333333333333333,
             "#9c179e"
            ],
            [
             0.4444444444444444,
             "#bd3786"
            ],
            [
             0.5555555555555556,
             "#d8576b"
            ],
            [
             0.6666666666666666,
             "#ed7953"
            ],
            [
             0.7777777777777778,
             "#fb9f3a"
            ],
            [
             0.8888888888888888,
             "#fdca26"
            ],
            [
             1,
             "#f0f921"
            ]
           ]
          },
          "colorway": [
           "#636efa",
           "#EF553B",
           "#00cc96",
           "#ab63fa",
           "#FFA15A",
           "#19d3f3",
           "#FF6692",
           "#B6E880",
           "#FF97FF",
           "#FECB52"
          ],
          "font": {
           "color": "#2a3f5f"
          },
          "geo": {
           "bgcolor": "white",
           "lakecolor": "white",
           "landcolor": "#E5ECF6",
           "showlakes": true,
           "showland": true,
           "subunitcolor": "white"
          },
          "hoverlabel": {
           "align": "left"
          },
          "hovermode": "closest",
          "mapbox": {
           "style": "light"
          },
          "paper_bgcolor": "white",
          "plot_bgcolor": "#E5ECF6",
          "polar": {
           "angularaxis": {
            "gridcolor": "white",
            "linecolor": "white",
            "ticks": ""
           },
           "bgcolor": "#E5ECF6",
           "radialaxis": {
            "gridcolor": "white",
            "linecolor": "white",
            "ticks": ""
           }
          },
          "scene": {
           "xaxis": {
            "backgroundcolor": "#E5ECF6",
            "gridcolor": "white",
            "gridwidth": 2,
            "linecolor": "white",
            "showbackground": true,
            "ticks": "",
            "zerolinecolor": "white"
           },
           "yaxis": {
            "backgroundcolor": "#E5ECF6",
            "gridcolor": "white",
            "gridwidth": 2,
            "linecolor": "white",
            "showbackground": true,
            "ticks": "",
            "zerolinecolor": "white"
           },
           "zaxis": {
            "backgroundcolor": "#E5ECF6",
            "gridcolor": "white",
            "gridwidth": 2,
            "linecolor": "white",
            "showbackground": true,
            "ticks": "",
            "zerolinecolor": "white"
           }
          },
          "shapedefaults": {
           "line": {
            "color": "#2a3f5f"
           }
          },
          "ternary": {
           "aaxis": {
            "gridcolor": "white",
            "linecolor": "white",
            "ticks": ""
           },
           "baxis": {
            "gridcolor": "white",
            "linecolor": "white",
            "ticks": ""
           },
           "bgcolor": "#E5ECF6",
           "caxis": {
            "gridcolor": "white",
            "linecolor": "white",
            "ticks": ""
           }
          },
          "title": {
           "x": 0.05
          },
          "xaxis": {
           "automargin": true,
           "gridcolor": "white",
           "linecolor": "white",
           "ticks": "",
           "title": {
            "standoff": 15
           },
           "zerolinecolor": "white",
           "zerolinewidth": 2
          },
          "yaxis": {
           "automargin": true,
           "gridcolor": "white",
           "linecolor": "white",
           "ticks": "",
           "title": {
            "standoff": 15
           },
           "zerolinecolor": "white",
           "zerolinewidth": 2
          }
         }
        },
        "title": {
         "text": "latitude"
        },
        "xaxis": {
         "anchor": "y",
         "domain": [
          0,
          1
         ],
         "matches": "x"
        },
        "xaxis2": {
         "anchor": "y2",
         "domain": [
          0,
          1
         ],
         "matches": "x",
         "tickmode": "array",
         "ticktext": [
          "-23.1 - -23.1",
          "-23.1 - -23",
          "-23 - -23",
          "-23 - -23",
          "-23 - -23",
          "-23 - -23",
          "-23 - -23",
          "-23 - -22.9",
          "-22.9 - -22.9",
          "-22.9 - -22.9",
          "-22.9 - -22.9",
          "-22.9 - -22.9",
          "-22.9 - -22.9",
          "-22.9 - -22.8",
          "-22.8 - -22.8",
          "-22.8 - -22.8",
          "-22.8 - -22.8",
          "-22.8 - -22.8",
          "-22.8 - -22.8"
         ],
         "tickvals": [
          -23.064793988278037,
          -23.047828925283333,
          -23.030863862288626,
          -23.01389879929392,
          -22.996933736299212,
          -22.97996867330451,
          -22.9630036103098,
          -22.946038547315098,
          -22.92907348432039,
          -22.912108421325684,
          -22.895143358330976,
          -22.87817829533627,
          -22.861213232341566,
          -22.84424816934686,
          -22.827283106352155,
          -22.810318043357448,
          -22.79335298036274,
          -22.776387917368034,
          -22.75942285437333
         ],
         "title": {
          "text": ""
         }
        },
        "yaxis": {
         "anchor": "x",
         "domain": [
          0.4,
          1
         ],
         "title": {
          "text": "Average Response"
         }
        },
        "yaxis2": {
         "anchor": "x2",
         "domain": [
          0,
          0.15
         ],
         "title": {
          "text": "Density"
         }
        }
       }
      },
      "text/html": [
       "<div>                        <script type=\"text/javascript\">window.PlotlyConfig = {MathJaxConfig: 'local'};</script>\n",
       "        <script charset=\"utf-8\" src=\"https://cdn.plot.ly/plotly-2.35.2.min.js\"></script>                <div id=\"dbf65872-af50-4aa5-a931-89b03e8f74a7\" class=\"plotly-graph-div\" style=\"height:100%; width:100%;\"></div>            <script type=\"text/javascript\">                                    window.PLOTLYENV=window.PLOTLYENV || {};                                    if (document.getElementById(\"dbf65872-af50-4aa5-a931-89b03e8f74a7\")) {                    Plotly.newPlot(                        \"dbf65872-af50-4aa5-a931-89b03e8f74a7\",                        [{\"fill\":\"tonexty\",\"fillcolor\":\"rgba(68, 68, 68, 0.15)\",\"line\":{\"color\":\"#1f77b4\"},\"mode\":\"lines\",\"name\":\"Main\",\"x\":[-23.07327651977539,-23.004561530219185,-22.984711752997505,-22.98166020711263,-22.975062052408855,-22.968509674072266,-22.963672637939453,-22.94460678100586,-22.91932423909505,-22.750940322875977],\"y\":[467.5409023210394,417.9255348126201,422.30175470875736,395.45266318111635,381.7670282568183,356.4018008397741,338.19750091783175,316.44265089887017,265.9376256216008,241.72058545779845],\"type\":\"scatter\",\"xaxis\":\"x\",\"yaxis\":\"y\"},{\"connectgaps\":true,\"line\":{\"width\":1.5},\"mode\":\"lines\",\"name\":\"Background: 1\",\"opacity\":0.3,\"x\":[-23.07327651977539,-23.004561530219185,-22.984711752997505,-22.98166020711263,-22.975062052408855,-22.968509674072266,-22.963672637939453,-22.94460678100586,-22.91932423909505,-22.750940322875977],\"y\":[329.6076707552039,273.14187592086955,259.0324478995212,230.71636028610834,230.564901197374,231.20627511752232,215.23491231111345,209.70232877878848,149.2310214927156,131.2992066840827],\"type\":\"scatter\",\"xaxis\":\"x\",\"yaxis\":\"y\"},{\"connectgaps\":true,\"line\":{\"width\":1.5},\"mode\":\"lines\",\"name\":\"Background: 2\",\"opacity\":0.3,\"x\":[-23.07327651977539,-23.004561530219185,-22.984711752997505,-22.98166020711263,-22.975062052408855,-22.968509674072266,-22.963672637939453,-22.94460678100586,-22.91932423909505,-22.750940322875977],\"y\":[561.5550215643435,563.3835427847857,593.7941184166639,599.367704445119,608.6662036403228,603.0028702016159,539.3073505728269,442.77900358877645,409.699524884438,383.0367167984616],\"type\":\"scatter\",\"xaxis\":\"x\",\"yaxis\":\"y\"},{\"connectgaps\":true,\"line\":{\"width\":1.5},\"mode\":\"lines\",\"name\":\"Background: 3\",\"opacity\":0.3,\"x\":[-23.07327651977539,-23.004561530219185,-22.984711752997505,-22.98166020711263,-22.975062052408855,-22.968509674072266,-22.963672637939453,-22.94460678100586,-22.91932423909505,-22.750940322875977],\"y\":[484.67071763474803,384.7084674814787,403.39796602591184,372.9547457160118,327.77896608786864,307.19804739426667,307.33034959210715,280.597289030367,220.31760110338527,195.2448659401663],\"type\":\"scatter\",\"xaxis\":\"x\",\"yaxis\":\"y\"},{\"connectgaps\":true,\"line\":{\"width\":1.5},\"mode\":\"lines\",\"name\":\"Background: 4\",\"opacity\":0.3,\"x\":[-23.07327651977539,-23.004561530219185,-22.984711752997505,-22.98166020711263,-22.975062052408855,-22.968509674072266,-22.963672637939453,-22.94460678100586,-22.91932423909505,-22.750940322875977],\"y\":[340.2966649338625,220.61118177752192,209.38797132352843,195.0924550112554,193.97245886051192,168.88950180310624,167.2952149631452,164.4725390718741,149.48312843596938,123.46972835491125],\"type\":\"scatter\",\"xaxis\":\"x\",\"yaxis\":\"y\"},{\"connectgaps\":true,\"line\":{\"width\":1.5},\"mode\":\"lines\",\"name\":\"Background: 5\",\"opacity\":0.3,\"x\":[-23.07327651977539,-23.004561530219185,-22.984711752997505,-22.98166020711263,-22.975062052408855,-22.968509674072266,-22.963672637939453,-22.94460678100586,-22.91932423909505,-22.750940322875977],\"y\":[369.97549051949375,291.5868285822857,283.2775576971056,279.1948673015191,272.89540000772035,269.12389541421174,239.8693635985981,217.9896486348357,190.87730996061617,167.39317520758385],\"type\":\"scatter\",\"xaxis\":\"x\",\"yaxis\":\"y\"},{\"connectgaps\":true,\"line\":{\"width\":1.5},\"mode\":\"lines\",\"name\":\"Background: 6\",\"opacity\":0.3,\"x\":[-23.07327651977539,-23.004561530219185,-22.984711752997505,-22.98166020711263,-22.975062052408855,-22.968509674072266,-22.963672637939453,-22.94460678100586,-22.91932423909505,-22.750940322875977],\"y\":[828.8825619775594,741.0852497961513,780.9988228062376,764.1423611850082,719.9610850489198,684.6109587589777,648.6871312332632,604.3180644166248,470.3287368215841,437.50133792321105],\"type\":\"scatter\",\"xaxis\":\"x\",\"yaxis\":\"y\"},{\"connectgaps\":true,\"line\":{\"width\":1.5},\"mode\":\"lines\",\"name\":\"Background: 7\",\"opacity\":0.3,\"x\":[-23.07327651977539,-23.004561530219185,-22.984711752997505,-22.98166020711263,-22.975062052408855,-22.968509674072266,-22.963672637939453,-22.94460678100586,-22.91932423909505,-22.750940322875977],\"y\":[216.8721671079257,176.97202764388663,168.17365274102843,147.88710861068412,147.49581669826688,136.74370797711126,136.88251678809306,134.2049104528586,122.31021917304261,112.01738488138022],\"type\":\"scatter\",\"xaxis\":\"x\",\"yaxis\":\"y\"},{\"connectgaps\":true,\"line\":{\"width\":1.5},\"mode\":\"lines\",\"name\":\"Background: 8\",\"opacity\":0.3,\"x\":[-23.07327651977539,-23.004561530219185,-22.984711752997505,-22.98166020711263,-22.975062052408855,-22.968509674072266,-22.963672637939453,-22.94460678100586,-22.91932423909505,-22.750940322875977],\"y\":[333.77993068701625,302.63094544665904,299.58679832632043,275.8468335499588,273.8803113946159,202.15938117504365,176.41861171903287,179.70100084739684,149.42888636496374,136.42057052108177],\"type\":\"scatter\",\"xaxis\":\"x\",\"yaxis\":\"y\"},{\"connectgaps\":true,\"line\":{\"width\":1.5},\"mode\":\"lines\",\"name\":\"Background: 9\",\"opacity\":0.3,\"x\":[-23.07327651977539,-23.004561530219185,-22.984711752997505,-22.98166020711263,-22.975062052408855,-22.968509674072266,-22.963672637939453,-22.94460678100586,-22.91932423909505,-22.750940322875977],\"y\":[584.0696743199248,572.2332920542407,574.018445539988,552.3408676946206,537.1568204349571,542.049623532661,531.2069545938655,458.5971149725739,322.8482729079225,278.5206796943243],\"type\":\"scatter\",\"xaxis\":\"x\",\"yaxis\":\"y\"},{\"connectgaps\":true,\"line\":{\"width\":1.5},\"mode\":\"lines\",\"name\":\"Background: 10\",\"opacity\":0.3,\"x\":[-23.07327651977539,-23.004561530219185,-22.984711752997505,-22.98166020711263,-22.975062052408855,-22.968509674072266,-22.963672637939453,-22.94460678100586,-22.91932423909505,-22.750940322875977],\"y\":[378.71498190462313,294.1603742000605,300.0127876655701,288.22358771366873,281.48949081798673,252.78523222835946,247.18990623107675,226.7929584402371,198.22018446750442,177.17586862487408],\"type\":\"scatter\",\"xaxis\":\"x\",\"yaxis\":\"y\"},{\"hovertemplate\":\"(%{hovertext}): %{y}\",\"hovertext\":[\"-23.1 - -23.1\",\"-23.1 - -23\",\"-23 - -23\",\"-23 - -23\",\"-23 - -23\",\"-23 - -23\",\"-23 - -23\",\"-23 - -22.9\",\"-22.9 - -22.9\",\"-22.9 - -22.9\",\"-22.9 - -22.9\",\"-22.9 - -22.9\",\"-22.9 - -22.9\",\"-22.9 - -22.8\",\"-22.8 - -22.8\",\"-22.8 - -22.8\",\"-22.8 - -22.8\",\"-22.8 - -22.8\",\"-22.8 - -22.8\"],\"marker\":{\"color\":\"#ff7f0e\"},\"name\":\"Distribution\",\"x\":[-23.064793988278037,-23.047828925283333,-23.030863862288626,-23.01389879929392,-22.996933736299212,-22.97996867330451,-22.9630036103098,-22.946038547315098,-22.92907348432039,-22.912108421325684,-22.895143358330976,-22.87817829533627,-22.861213232341566,-22.84424816934686,-22.827283106352155,-22.810318043357448,-22.79335298036274,-22.776387917368034,-22.75942285437333],\"y\":[22,2,162,440,321,2090,1457,357,469,526,90,27,21,10,11,19,11,0,9],\"type\":\"bar\",\"xaxis\":\"x2\",\"yaxis\":\"y2\"}],                        {\"template\":{\"data\":{\"histogram2dcontour\":[{\"type\":\"histogram2dcontour\",\"colorbar\":{\"outlinewidth\":0,\"ticks\":\"\"},\"colorscale\":[[0.0,\"#0d0887\"],[0.1111111111111111,\"#46039f\"],[0.2222222222222222,\"#7201a8\"],[0.3333333333333333,\"#9c179e\"],[0.4444444444444444,\"#bd3786\"],[0.5555555555555556,\"#d8576b\"],[0.6666666666666666,\"#ed7953\"],[0.7777777777777778,\"#fb9f3a\"],[0.8888888888888888,\"#fdca26\"],[1.0,\"#f0f921\"]]}],\"choropleth\":[{\"type\":\"choropleth\",\"colorbar\":{\"outlinewidth\":0,\"ticks\":\"\"}}],\"histogram2d\":[{\"type\":\"histogram2d\",\"colorbar\":{\"outlinewidth\":0,\"ticks\":\"\"},\"colorscale\":[[0.0,\"#0d0887\"],[0.1111111111111111,\"#46039f\"],[0.2222222222222222,\"#7201a8\"],[0.3333333333333333,\"#9c179e\"],[0.4444444444444444,\"#bd3786\"],[0.5555555555555556,\"#d8576b\"],[0.6666666666666666,\"#ed7953\"],[0.7777777777777778,\"#fb9f3a\"],[0.8888888888888888,\"#fdca26\"],[1.0,\"#f0f921\"]]}],\"heatmap\":[{\"type\":\"heatmap\",\"colorbar\":{\"outlinewidth\":0,\"ticks\":\"\"},\"colorscale\":[[0.0,\"#0d0887\"],[0.1111111111111111,\"#46039f\"],[0.2222222222222222,\"#7201a8\"],[0.3333333333333333,\"#9c179e\"],[0.4444444444444444,\"#bd3786\"],[0.5555555555555556,\"#d8576b\"],[0.6666666666666666,\"#ed7953\"],[0.7777777777777778,\"#fb9f3a\"],[0.8888888888888888,\"#fdca26\"],[1.0,\"#f0f921\"]]}],\"heatmapgl\":[{\"type\":\"heatmapgl\",\"colorbar\":{\"outlinewidth\":0,\"ticks\":\"\"},\"colorscale\":[[0.0,\"#0d0887\"],[0.1111111111111111,\"#46039f\"],[0.2222222222222222,\"#7201a8\"],[0.3333333333333333,\"#9c179e\"],[0.4444444444444444,\"#bd3786\"],[0.5555555555555556,\"#d8576b\"],[0.6666666666666666,\"#ed7953\"],[0.7777777777777778,\"#fb9f3a\"],[0.8888888888888888,\"#fdca26\"],[1.0,\"#f0f921\"]]}],\"contourcarpet\":[{\"type\":\"contourcarpet\",\"colorbar\":{\"outlinewidth\":0,\"ticks\":\"\"}}],\"contour\":[{\"type\":\"contour\",\"colorbar\":{\"outlinewidth\":0,\"ticks\":\"\"},\"colorscale\":[[0.0,\"#0d0887\"],[0.1111111111111111,\"#46039f\"],[0.2222222222222222,\"#7201a8\"],[0.3333333333333333,\"#9c179e\"],[0.4444444444444444,\"#bd3786\"],[0.5555555555555556,\"#d8576b\"],[0.6666666666666666,\"#ed7953\"],[0.7777777777777778,\"#fb9f3a\"],[0.8888888888888888,\"#fdca26\"],[1.0,\"#f0f921\"]]}],\"surface\":[{\"type\":\"surface\",\"colorbar\":{\"outlinewidth\":0,\"ticks\":\"\"},\"colorscale\":[[0.0,\"#0d0887\"],[0.1111111111111111,\"#46039f\"],[0.2222222222222222,\"#7201a8\"],[0.3333333333333333,\"#9c179e\"],[0.4444444444444444,\"#bd3786\"],[0.5555555555555556,\"#d8576b\"],[0.6666666666666666,\"#ed7953\"],[0.7777777777777778,\"#fb9f3a\"],[0.8888888888888888,\"#fdca26\"],[1.0,\"#f0f921\"]]}],\"mesh3d\":[{\"type\":\"mesh3d\",\"colorbar\":{\"outlinewidth\":0,\"ticks\":\"\"}}],\"scatter\":[{\"fillpattern\":{\"fillmode\":\"overlay\",\"size\":10,\"solidity\":0.2},\"type\":\"scatter\"}],\"parcoords\":[{\"type\":\"parcoords\",\"line\":{\"colorbar\":{\"outlinewidth\":0,\"ticks\":\"\"}}}],\"scatterpolargl\":[{\"type\":\"scatterpolargl\",\"marker\":{\"colorbar\":{\"outlinewidth\":0,\"ticks\":\"\"}}}],\"bar\":[{\"error_x\":{\"color\":\"#2a3f5f\"},\"error_y\":{\"color\":\"#2a3f5f\"},\"marker\":{\"line\":{\"color\":\"#E5ECF6\",\"width\":0.5},\"pattern\":{\"fillmode\":\"overlay\",\"size\":10,\"solidity\":0.2}},\"type\":\"bar\"}],\"scattergeo\":[{\"type\":\"scattergeo\",\"marker\":{\"colorbar\":{\"outlinewidth\":0,\"ticks\":\"\"}}}],\"scatterpolar\":[{\"type\":\"scatterpolar\",\"marker\":{\"colorbar\":{\"outlinewidth\":0,\"ticks\":\"\"}}}],\"histogram\":[{\"marker\":{\"pattern\":{\"fillmode\":\"overlay\",\"size\":10,\"solidity\":0.2}},\"type\":\"histogram\"}],\"scattergl\":[{\"type\":\"scattergl\",\"marker\":{\"colorbar\":{\"outlinewidth\":0,\"ticks\":\"\"}}}],\"scatter3d\":[{\"type\":\"scatter3d\",\"line\":{\"colorbar\":{\"outlinewidth\":0,\"ticks\":\"\"}},\"marker\":{\"colorbar\":{\"outlinewidth\":0,\"ticks\":\"\"}}}],\"scattermapbox\":[{\"type\":\"scattermapbox\",\"marker\":{\"colorbar\":{\"outlinewidth\":0,\"ticks\":\"\"}}}],\"scatterternary\":[{\"type\":\"scatterternary\",\"marker\":{\"colorbar\":{\"outlinewidth\":0,\"ticks\":\"\"}}}],\"scattercarpet\":[{\"type\":\"scattercarpet\",\"marker\":{\"colorbar\":{\"outlinewidth\":0,\"ticks\":\"\"}}}],\"carpet\":[{\"aaxis\":{\"endlinecolor\":\"#2a3f5f\",\"gridcolor\":\"white\",\"linecolor\":\"white\",\"minorgridcolor\":\"white\",\"startlinecolor\":\"#2a3f5f\"},\"baxis\":{\"endlinecolor\":\"#2a3f5f\",\"gridcolor\":\"white\",\"linecolor\":\"white\",\"minorgridcolor\":\"white\",\"startlinecolor\":\"#2a3f5f\"},\"type\":\"carpet\"}],\"table\":[{\"cells\":{\"fill\":{\"color\":\"#EBF0F8\"},\"line\":{\"color\":\"white\"}},\"header\":{\"fill\":{\"color\":\"#C8D4E3\"},\"line\":{\"color\":\"white\"}},\"type\":\"table\"}],\"barpolar\":[{\"marker\":{\"line\":{\"color\":\"#E5ECF6\",\"width\":0.5},\"pattern\":{\"fillmode\":\"overlay\",\"size\":10,\"solidity\":0.2}},\"type\":\"barpolar\"}],\"pie\":[{\"automargin\":true,\"type\":\"pie\"}]},\"layout\":{\"autotypenumbers\":\"strict\",\"colorway\":[\"#636efa\",\"#EF553B\",\"#00cc96\",\"#ab63fa\",\"#FFA15A\",\"#19d3f3\",\"#FF6692\",\"#B6E880\",\"#FF97FF\",\"#FECB52\"],\"font\":{\"color\":\"#2a3f5f\"},\"hovermode\":\"closest\",\"hoverlabel\":{\"align\":\"left\"},\"paper_bgcolor\":\"white\",\"plot_bgcolor\":\"#E5ECF6\",\"polar\":{\"bgcolor\":\"#E5ECF6\",\"angularaxis\":{\"gridcolor\":\"white\",\"linecolor\":\"white\",\"ticks\":\"\"},\"radialaxis\":{\"gridcolor\":\"white\",\"linecolor\":\"white\",\"ticks\":\"\"}},\"ternary\":{\"bgcolor\":\"#E5ECF6\",\"aaxis\":{\"gridcolor\":\"white\",\"linecolor\":\"white\",\"ticks\":\"\"},\"baxis\":{\"gridcolor\":\"white\",\"linecolor\":\"white\",\"ticks\":\"\"},\"caxis\":{\"gridcolor\":\"white\",\"linecolor\":\"white\",\"ticks\":\"\"}},\"coloraxis\":{\"colorbar\":{\"outlinewidth\":0,\"ticks\":\"\"}},\"colorscale\":{\"sequential\":[[0.0,\"#0d0887\"],[0.1111111111111111,\"#46039f\"],[0.2222222222222222,\"#7201a8\"],[0.3333333333333333,\"#9c179e\"],[0.4444444444444444,\"#bd3786\"],[0.5555555555555556,\"#d8576b\"],[0.6666666666666666,\"#ed7953\"],[0.7777777777777778,\"#fb9f3a\"],[0.8888888888888888,\"#fdca26\"],[1.0,\"#f0f921\"]],\"sequentialminus\":[[0.0,\"#0d0887\"],[0.1111111111111111,\"#46039f\"],[0.2222222222222222,\"#7201a8\"],[0.3333333333333333,\"#9c179e\"],[0.4444444444444444,\"#bd3786\"],[0.5555555555555556,\"#d8576b\"],[0.6666666666666666,\"#ed7953\"],[0.7777777777777778,\"#fb9f3a\"],[0.8888888888888888,\"#fdca26\"],[1.0,\"#f0f921\"]],\"diverging\":[[0,\"#8e0152\"],[0.1,\"#c51b7d\"],[0.2,\"#de77ae\"],[0.3,\"#f1b6da\"],[0.4,\"#fde0ef\"],[0.5,\"#f7f7f7\"],[0.6,\"#e6f5d0\"],[0.7,\"#b8e186\"],[0.8,\"#7fbc41\"],[0.9,\"#4d9221\"],[1,\"#276419\"]]},\"xaxis\":{\"gridcolor\":\"white\",\"linecolor\":\"white\",\"ticks\":\"\",\"title\":{\"standoff\":15},\"zerolinecolor\":\"white\",\"automargin\":true,\"zerolinewidth\":2},\"yaxis\":{\"gridcolor\":\"white\",\"linecolor\":\"white\",\"ticks\":\"\",\"title\":{\"standoff\":15},\"zerolinecolor\":\"white\",\"automargin\":true,\"zerolinewidth\":2},\"scene\":{\"xaxis\":{\"backgroundcolor\":\"#E5ECF6\",\"gridcolor\":\"white\",\"linecolor\":\"white\",\"showbackground\":true,\"ticks\":\"\",\"zerolinecolor\":\"white\",\"gridwidth\":2},\"yaxis\":{\"backgroundcolor\":\"#E5ECF6\",\"gridcolor\":\"white\",\"linecolor\":\"white\",\"showbackground\":true,\"ticks\":\"\",\"zerolinecolor\":\"white\",\"gridwidth\":2},\"zaxis\":{\"backgroundcolor\":\"#E5ECF6\",\"gridcolor\":\"white\",\"linecolor\":\"white\",\"showbackground\":true,\"ticks\":\"\",\"zerolinecolor\":\"white\",\"gridwidth\":2}},\"shapedefaults\":{\"line\":{\"color\":\"#2a3f5f\"}},\"annotationdefaults\":{\"arrowcolor\":\"#2a3f5f\",\"arrowhead\":0,\"arrowwidth\":1},\"geo\":{\"bgcolor\":\"white\",\"landcolor\":\"#E5ECF6\",\"subunitcolor\":\"white\",\"showland\":true,\"showlakes\":true,\"lakecolor\":\"white\"},\"title\":{\"x\":0.05},\"mapbox\":{\"style\":\"light\"}}},\"xaxis\":{\"anchor\":\"y\",\"domain\":[0.0,1.0],\"matches\":\"x\"},\"yaxis\":{\"anchor\":\"x\",\"domain\":[0.4,1.0],\"title\":{\"text\":\"Average Response\"}},\"xaxis2\":{\"anchor\":\"y2\",\"domain\":[0.0,1.0],\"title\":{\"text\":\"\"},\"tickmode\":\"array\",\"ticktext\":[\"-23.1 - -23.1\",\"-23.1 - -23\",\"-23 - -23\",\"-23 - -23\",\"-23 - -23\",\"-23 - -23\",\"-23 - -23\",\"-23 - -22.9\",\"-22.9 - -22.9\",\"-22.9 - -22.9\",\"-22.9 - -22.9\",\"-22.9 - -22.9\",\"-22.9 - -22.9\",\"-22.9 - -22.8\",\"-22.8 - -22.8\",\"-22.8 - -22.8\",\"-22.8 - -22.8\",\"-22.8 - -22.8\",\"-22.8 - -22.8\"],\"tickvals\":[-23.064793988278037,-23.047828925283333,-23.030863862288626,-23.01389879929392,-22.996933736299212,-22.97996867330451,-22.9630036103098,-22.946038547315098,-22.92907348432039,-22.912108421325684,-22.895143358330976,-22.87817829533627,-22.861213232341566,-22.84424816934686,-22.827283106352155,-22.810318043357448,-22.79335298036274,-22.776387917368034,-22.75942285437333],\"matches\":\"x\"},\"yaxis2\":{\"anchor\":\"x2\",\"domain\":[0.0,0.15],\"title\":{\"text\":\"Density\"}},\"title\":{\"text\":\"latitude\"},\"showlegend\":false,\"bargap\":0},                        {\"responsive\": true}                    )                };                            </script>        </div>"
      ],
      "text/plain": [
       "Figure({\n",
       "    'data': [{'fill': 'tonexty',\n",
       "              'fillcolor': 'rgba(68, 68, 68, 0.15)',\n",
       "              'line': {'color': '#1f77b4'},\n",
       "              'mode': 'lines',\n",
       "              'name': 'Main',\n",
       "              'type': 'scatter',\n",
       "              'x': array([-23.07327652, -23.00456153, -22.98471175, -22.98166021, -22.97506205,\n",
       "                          -22.96850967, -22.96367264, -22.94460678, -22.91932424, -22.75094032]),\n",
       "              'xaxis': 'x',\n",
       "              'y': array([467.54090232, 417.92553481, 422.30175471, 395.45266318, 381.76702826,\n",
       "                          356.40180084, 338.19750092, 316.4426509 , 265.93762562, 241.72058546]),\n",
       "              'yaxis': 'y'},\n",
       "             {'connectgaps': True,\n",
       "              'line': {'width': 1.5},\n",
       "              'mode': 'lines',\n",
       "              'name': 'Background: 1',\n",
       "              'opacity': 0.3,\n",
       "              'type': 'scatter',\n",
       "              'x': array([-23.07327652, -23.00456153, -22.98471175, -22.98166021, -22.97506205,\n",
       "                          -22.96850967, -22.96367264, -22.94460678, -22.91932424, -22.75094032]),\n",
       "              'xaxis': 'x',\n",
       "              'y': array([329.60767076, 273.14187592, 259.0324479 , 230.71636029, 230.5649012 ,\n",
       "                          231.20627512, 215.23491231, 209.70232878, 149.23102149, 131.29920668]),\n",
       "              'yaxis': 'y'},\n",
       "             {'connectgaps': True,\n",
       "              'line': {'width': 1.5},\n",
       "              'mode': 'lines',\n",
       "              'name': 'Background: 2',\n",
       "              'opacity': 0.3,\n",
       "              'type': 'scatter',\n",
       "              'x': array([-23.07327652, -23.00456153, -22.98471175, -22.98166021, -22.97506205,\n",
       "                          -22.96850967, -22.96367264, -22.94460678, -22.91932424, -22.75094032]),\n",
       "              'xaxis': 'x',\n",
       "              'y': array([561.55502156, 563.38354278, 593.79411842, 599.36770445, 608.66620364,\n",
       "                          603.0028702 , 539.30735057, 442.77900359, 409.69952488, 383.0367168 ]),\n",
       "              'yaxis': 'y'},\n",
       "             {'connectgaps': True,\n",
       "              'line': {'width': 1.5},\n",
       "              'mode': 'lines',\n",
       "              'name': 'Background: 3',\n",
       "              'opacity': 0.3,\n",
       "              'type': 'scatter',\n",
       "              'x': array([-23.07327652, -23.00456153, -22.98471175, -22.98166021, -22.97506205,\n",
       "                          -22.96850967, -22.96367264, -22.94460678, -22.91932424, -22.75094032]),\n",
       "              'xaxis': 'x',\n",
       "              'y': array([484.67071763, 384.70846748, 403.39796603, 372.95474572, 327.77896609,\n",
       "                          307.19804739, 307.33034959, 280.59728903, 220.3176011 , 195.24486594]),\n",
       "              'yaxis': 'y'},\n",
       "             {'connectgaps': True,\n",
       "              'line': {'width': 1.5},\n",
       "              'mode': 'lines',\n",
       "              'name': 'Background: 4',\n",
       "              'opacity': 0.3,\n",
       "              'type': 'scatter',\n",
       "              'x': array([-23.07327652, -23.00456153, -22.98471175, -22.98166021, -22.97506205,\n",
       "                          -22.96850967, -22.96367264, -22.94460678, -22.91932424, -22.75094032]),\n",
       "              'xaxis': 'x',\n",
       "              'y': array([340.29666493, 220.61118178, 209.38797132, 195.09245501, 193.97245886,\n",
       "                          168.8895018 , 167.29521496, 164.47253907, 149.48312844, 123.46972835]),\n",
       "              'yaxis': 'y'},\n",
       "             {'connectgaps': True,\n",
       "              'line': {'width': 1.5},\n",
       "              'mode': 'lines',\n",
       "              'name': 'Background: 5',\n",
       "              'opacity': 0.3,\n",
       "              'type': 'scatter',\n",
       "              'x': array([-23.07327652, -23.00456153, -22.98471175, -22.98166021, -22.97506205,\n",
       "                          -22.96850967, -22.96367264, -22.94460678, -22.91932424, -22.75094032]),\n",
       "              'xaxis': 'x',\n",
       "              'y': array([369.97549052, 291.58682858, 283.2775577 , 279.1948673 , 272.89540001,\n",
       "                          269.12389541, 239.8693636 , 217.98964863, 190.87730996, 167.39317521]),\n",
       "              'yaxis': 'y'},\n",
       "             {'connectgaps': True,\n",
       "              'line': {'width': 1.5},\n",
       "              'mode': 'lines',\n",
       "              'name': 'Background: 6',\n",
       "              'opacity': 0.3,\n",
       "              'type': 'scatter',\n",
       "              'x': array([-23.07327652, -23.00456153, -22.98471175, -22.98166021, -22.97506205,\n",
       "                          -22.96850967, -22.96367264, -22.94460678, -22.91932424, -22.75094032]),\n",
       "              'xaxis': 'x',\n",
       "              'y': array([828.88256198, 741.0852498 , 780.99882281, 764.14236119, 719.96108505,\n",
       "                          684.61095876, 648.68713123, 604.31806442, 470.32873682, 437.50133792]),\n",
       "              'yaxis': 'y'},\n",
       "             {'connectgaps': True,\n",
       "              'line': {'width': 1.5},\n",
       "              'mode': 'lines',\n",
       "              'name': 'Background: 7',\n",
       "              'opacity': 0.3,\n",
       "              'type': 'scatter',\n",
       "              'x': array([-23.07327652, -23.00456153, -22.98471175, -22.98166021, -22.97506205,\n",
       "                          -22.96850967, -22.96367264, -22.94460678, -22.91932424, -22.75094032]),\n",
       "              'xaxis': 'x',\n",
       "              'y': array([216.87216711, 176.97202764, 168.17365274, 147.88710861, 147.4958167 ,\n",
       "                          136.74370798, 136.88251679, 134.20491045, 122.31021917, 112.01738488]),\n",
       "              'yaxis': 'y'},\n",
       "             {'connectgaps': True,\n",
       "              'line': {'width': 1.5},\n",
       "              'mode': 'lines',\n",
       "              'name': 'Background: 8',\n",
       "              'opacity': 0.3,\n",
       "              'type': 'scatter',\n",
       "              'x': array([-23.07327652, -23.00456153, -22.98471175, -22.98166021, -22.97506205,\n",
       "                          -22.96850967, -22.96367264, -22.94460678, -22.91932424, -22.75094032]),\n",
       "              'xaxis': 'x',\n",
       "              'y': array([333.77993069, 302.63094545, 299.58679833, 275.84683355, 273.88031139,\n",
       "                          202.15938118, 176.41861172, 179.70100085, 149.42888636, 136.42057052]),\n",
       "              'yaxis': 'y'},\n",
       "             {'connectgaps': True,\n",
       "              'line': {'width': 1.5},\n",
       "              'mode': 'lines',\n",
       "              'name': 'Background: 9',\n",
       "              'opacity': 0.3,\n",
       "              'type': 'scatter',\n",
       "              'x': array([-23.07327652, -23.00456153, -22.98471175, -22.98166021, -22.97506205,\n",
       "                          -22.96850967, -22.96367264, -22.94460678, -22.91932424, -22.75094032]),\n",
       "              'xaxis': 'x',\n",
       "              'y': array([584.06967432, 572.23329205, 574.01844554, 552.34086769, 537.15682043,\n",
       "                          542.04962353, 531.20695459, 458.59711497, 322.84827291, 278.52067969]),\n",
       "              'yaxis': 'y'},\n",
       "             {'connectgaps': True,\n",
       "              'line': {'width': 1.5},\n",
       "              'mode': 'lines',\n",
       "              'name': 'Background: 10',\n",
       "              'opacity': 0.3,\n",
       "              'type': 'scatter',\n",
       "              'x': array([-23.07327652, -23.00456153, -22.98471175, -22.98166021, -22.97506205,\n",
       "                          -22.96850967, -22.96367264, -22.94460678, -22.91932424, -22.75094032]),\n",
       "              'xaxis': 'x',\n",
       "              'y': array([378.7149819 , 294.1603742 , 300.01278767, 288.22358771, 281.48949082,\n",
       "                          252.78523223, 247.18990623, 226.79295844, 198.22018447, 177.17586862]),\n",
       "              'yaxis': 'y'},\n",
       "             {'hovertemplate': '(%{hovertext}): %{y}',\n",
       "              'hovertext': [-23.1 - -23.1, -23.1 - -23, -23 - -23, -23 - -23, -23\n",
       "                            - -23, -23 - -23, -23 - -23, -23 - -22.9, -22.9 -\n",
       "                            -22.9, -22.9 - -22.9, -22.9 - -22.9, -22.9 - -22.9,\n",
       "                            -22.9 - -22.9, -22.9 - -22.8, -22.8 - -22.8, -22.8 -\n",
       "                            -22.8, -22.8 - -22.8, -22.8 - -22.8, -22.8 - -22.8],\n",
       "              'marker': {'color': '#ff7f0e'},\n",
       "              'name': 'Distribution',\n",
       "              'type': 'bar',\n",
       "              'x': [-23.064793988278037, -23.047828925283333, -23.030863862288626,\n",
       "                    -23.01389879929392, -22.996933736299212, -22.97996867330451,\n",
       "                    -22.9630036103098, -22.946038547315098, -22.92907348432039,\n",
       "                    -22.912108421325684, -22.895143358330976, -22.87817829533627,\n",
       "                    -22.861213232341566, -22.84424816934686, -22.827283106352155,\n",
       "                    -22.810318043357448, -22.79335298036274, -22.776387917368034,\n",
       "                    -22.75942285437333],\n",
       "              'xaxis': 'x2',\n",
       "              'y': array([  22,    2,  162,  440,  321, 2090, 1457,  357,  469,  526,   90,   27,\n",
       "                            21,   10,   11,   19,   11,    0,    9], dtype=int64),\n",
       "              'yaxis': 'y2'}],\n",
       "    'layout': {'bargap': 0,\n",
       "               'showlegend': False,\n",
       "               'template': '...',\n",
       "               'title': {'text': 'latitude'},\n",
       "               'xaxis': {'anchor': 'y', 'domain': [0.0, 1.0], 'matches': 'x'},\n",
       "               'xaxis2': {'anchor': 'y2',\n",
       "                          'domain': [0.0, 1.0],\n",
       "                          'matches': 'x',\n",
       "                          'tickmode': 'array',\n",
       "                          'ticktext': [-23.1 - -23.1, -23.1 - -23, -23 - -23, -23\n",
       "                                       - -23, -23 - -23, -23 - -23, -23 - -23, -23\n",
       "                                       - -22.9, -22.9 - -22.9, -22.9 - -22.9, -22.9\n",
       "                                       - -22.9, -22.9 - -22.9, -22.9 - -22.9, -22.9\n",
       "                                       - -22.8, -22.8 - -22.8, -22.8 - -22.8, -22.8\n",
       "                                       - -22.8, -22.8 - -22.8, -22.8 - -22.8],\n",
       "                          'tickvals': [-23.064793988278037, -23.047828925283333,\n",
       "                                       -23.030863862288626, -23.01389879929392,\n",
       "                                       -22.996933736299212, -22.97996867330451,\n",
       "                                       -22.9630036103098, -22.946038547315098,\n",
       "                                       -22.92907348432039, -22.912108421325684,\n",
       "                                       -22.895143358330976, -22.87817829533627,\n",
       "                                       -22.861213232341566, -22.84424816934686,\n",
       "                                       -22.827283106352155, -22.810318043357448,\n",
       "                                       -22.79335298036274, -22.776387917368034,\n",
       "                                       -22.75942285437333],\n",
       "                          'title': {'text': ''}},\n",
       "               'yaxis': {'anchor': 'x', 'domain': [0.4, 1.0], 'title': {'text': 'Average Response'}},\n",
       "               'yaxis2': {'anchor': 'x2', 'domain': [0.0, 0.15], 'title': {'text': 'Density'}}}\n",
       "})"
      ]
     },
     "execution_count": 11,
     "metadata": {},
     "output_type": "execute_result"
    }
   ],
   "source": [
    "interpret_model(model, plot='pdp', feature='latitude')"
   ]
  }
 ],
 "metadata": {
  "kernelspec": {
   "display_name": ".venv",
   "language": "python",
   "name": "python3"
  },
  "language_info": {
   "codemirror_mode": {
    "name": "ipython",
    "version": 3
   },
   "file_extension": ".py",
   "mimetype": "text/x-python",
   "name": "python",
   "nbconvert_exporter": "python",
   "pygments_lexer": "ipython3",
   "version": "3.11.2"
  }
 },
 "nbformat": 4,
 "nbformat_minor": 2
}
