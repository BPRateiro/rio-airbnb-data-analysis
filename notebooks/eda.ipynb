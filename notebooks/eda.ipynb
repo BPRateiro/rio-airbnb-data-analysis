{
 "cells": [
  {
   "cell_type": "markdown",
   "metadata": {},
   "source": [
    "# Airbnb Rio de Janeiro - Análise exploratória"
   ]
  },
  {
   "cell_type": "markdown",
   "metadata": {},
   "source": [
    "# 1. Introdução\n",
    "\n",
    "Este estudo tem como objetivo realizar uma Análise Exploratória de Dados (EDA) do [anúncio de imóveis do Airbnb na cidade do Rio de Janeiro](https://insideairbnb.com/get-the-data/#:~:text=Rio%20de%20Janeiro%2C%20Rio%20de%20Janeiro%2C%20Brazil). Os dados correspondem à data de 27 de Junho de 2024, correspondente à coleta de dados mais recente disponível no momento da elaboração deste estudo. Através desta análise, buscamos identificar padrões, tendências e insights que possam ser úteis para ambos anfitriões e hóspedes."
   ]
  },
  {
   "cell_type": "markdown",
   "metadata": {},
   "source": [
    "## 1.1 Configurações e bibliotecas"
   ]
  },
  {
   "cell_type": "code",
   "execution_count": 1,
   "metadata": {},
   "outputs": [],
   "source": [
    "import pandas as pd"
   ]
  },
  {
   "cell_type": "markdown",
   "metadata": {},
   "source": [
    "## 1.2 Dados utilizados\n",
    "\n",
    "Dos dados disponíveis no site, utilizaremos apenas *[listings.csv.gz](https://data.insideairbnb.com/brazil/rj/rio-de-janeiro/2024-06-27/data/listings.csv.gz)*. Esse arquivo contém informações detalhadas dos imóveis na cidade e período considerados."
   ]
  },
  {
   "cell_type": "markdown",
   "metadata": {},
   "source": [
    "## 1.3 Dicionário de dados\n",
    "\n",
    "O dicionário de dados oficial em inglês pode ser encontrado nessa [planilha Google Sheets](https://docs.google.com/spreadsheets/d/1iWCNJcSutYqpULSQHlNyGInUvHg2BoUGoNRIGa6Szc4/edit?pli=1&gid=1322284596#gid=1322284596).\n",
    "\n",
    "| Campo                                       | Tipo     | Descrição                                                                                          |\n",
    "|---------------------------------------------|----------|----------------------------------------------------------------------------------------------------|\n",
    "| accommodates                                | integer  | Número máximo de hóspedes                                                                          |\n",
    "| amenities                                   | text     | Lista de amenidades oferecida                                                                      |\n",
    "| availability_30                             | integer  | Número de dias disponíveis nos próximos 30 dias                                                    |\n",
    "| availability_365                            | integer  | Número de dias disponíveis nos próximos 365 dias                                                   |\n",
    "| availability_60                             | integer  | Número de dias disponíveis nos próximos 60 dias                                                    |\n",
    "| availability_90                             | integer  | Número de dias disponíveis nos próximos 90 dias                                                    |\n",
    "| bathrooms                                   | float    | Número de banheiros                                                                                |\n",
    "| bathrooms_text                              | text     | Descrição dos banheiros                                                                            |\n",
    "| bedrooms                                    | integer  | Número de quartos                                                                                  |\n",
    "| beds                                        | integer  | Número de camas                                                                                    |\n",
    "| calendar_last_scraped                       | datetime | Data da última coleta no período                                                                   |\n",
    "| calendar_updated                            | text     | Data da última atualização no período                                                              |\n",
    "| calculated_host_listings_count              | integer  | Número calculado de anúncios do anfitrião                                                          |\n",
    "| calculated_host_listings_count_entire_homes | integer  | Número calculado de anúncios de casas inteiras do anfitrião                                        |\n",
    "| calculated_host_listings_count_private_rooms| integer  | Número calculado de anúncios de quartos privados do anfitrião                                      |\n",
    "| calculated_host_listings_count_shared_rooms | integer  | Número calculado de anúncios de quartos compartilhados do anfitrião                                |\n",
    "| description                                 | text     | Descrição do anúncio                                                                               |\n",
    "| first_review                                | datetime | Data da primeira avaliação                                                                         |\n",
    "| has_availability                            | boolean  | Indica se o lugar tem disponibilidade                                                              |\n",
    "| host_about                                  | text     | Descrição sobre o anfitrião                                                                        |\n",
    "| host_acceptance_rate                        | text     | Taxa de aceitação da hospedagem                                                                    |\n",
    "| host_has_profile_pic                        | boolean  | Indica se o anfitrião possui foto de perfil                                                        |\n",
    "| host_id                                     | integer  | Identificador único do anfitrião                                                                   |\n",
    "| host_identity_verified                      | boolean  | Indica se a identidade do anfitrião foi verificada                                                 |\n",
    "| host_is_superhost                           | boolean  | Indica se o anfitrião é um superhost                                                               |\n",
    "| host_listings_count                         | integer  | Número de anúncios do anfitrião                                                                    |\n",
    "| host_location                               | text     | Localização do anfitrião                                                                           |\n",
    "| host_name                                   | text     | Nome do anfitrião                                                                                  |\n",
    "| host_neighbourhood                          | text     | Bairro do anfitrião                                                                                |\n",
    "| host_picture_url                            | text     | URL da imagem do anfitrião                                                                         |\n",
    "| host_response_rate                          | text     | Taxa de resposta do anfitrião                                                                      |\n",
    "| host_response_time                          | text     | Tempo de resposta do anfitrião                                                                     |\n",
    "| host_since                                  | datetime | Data de cadastro do anfitrião                                                                      |\n",
    "| host_thumbnail_url                          | text     | URL da imagem em miniatura do anfitrião                                                            |\n",
    "| host_total_listings_count                   | integer  | Número total de anúncios do anfitrião                                                              |\n",
    "| host_url                                    | text     | URL do perfil do anfitrião                                                                         |\n",
    "| host_verifications                          | text     | Verificações do anfitrião                                                                          |\n",
    "| id                                          | integer  | Identificador único do anúncio                                                                     |\n",
    "| instant_bookable                            | boolean  | Indica se a anúncio pode ser reservada instantaneamente                                            |\n",
    "| last_review                                 | datetime | Data da última avaliação                                                                           |\n",
    "| last_scraped                                | datetime | UTC. A data e hora em que este anúncio foi raspado                                                 |\n",
    "| latitude                                    | float    | Latitude da localidade                                                                             |\n",
    "| license                                     | text     | Número da licença ou permissão para operar                                                         |\n",
    "| listing_url                                 | text     | URL do anúncio                                                                                     |\n",
    "| longitude                                   | float    | Longitude da localidade                                                                            |\n",
    "| maximum_maximum_nights                      | integer  | Valor máximo do número máximo de noites nos próximos 365 dias                                      |\n",
    "| maximum_minimum_nights                      | integer  | Valor máximo do número mínimo de noites nos próximos 365 dias                                      |\n",
    "| maximum_nights                              | integer  | Número máximo de noites para estadia                                                               |\n",
    "| maximum_nights_avg_ntm                      | float    | Valor máximo da média de noites nos próximos 365 dias                                              |\n",
    "| minimum_maximum_nights                      | integer  | Valor mínimo do número máximo de noites nos próximos 365 dias                                      |\n",
    "| minimum_minimum_nights                      | integer  | Valor mínimo do número mínimo de noites nos próximos 365 dias                                      |\n",
    "| minimum_nights                              | integer  | Número mínimo de noites para estadia                                                               |\n",
    "| minimum_nights_avg_ntm                      | float    | Valor mínimo da média de noites nos próximos 365 dias                                              |\n",
    "| name                                        | text     | Nome da anúncio                                                                                    |\n",
    "| neighbourhood                               | text     | Bairro com base em dados do Airbnb                                                                 |\n",
    "| neighbourhood_cleansed                      | text     | Bairro com base em dados públicos                                                                  |\n",
    "| neighbourhood_group_cleansed                | text     | Grupo de bairros com bas em dados públicos                                                         |\n",
    "| neighbourhood_overview                      | text     | Descrição do bairro pelo anfitrião                                                                 |\n",
    "| number_of_reviews                           | integer  | Número de avaliações                                                                               |\n",
    "| number_of_reviews_l30d                      | integer  | Número de avaliações nos últimos 30 dias                                                           |\n",
    "| number_of_reviews_ltm                       | integer  | Número de avaliações nos últimos 12 meses                                                          |\n",
    "| picture_url                                 | text     | URL da imagem principal da anúncio                                                                 |\n",
    "| price                                       | currency | Preço diário em moeda local.                                                                       |\n",
    "| property_type                               | text     | Tipo de propriedade                                                                                |\n",
    "| review_scores_accuracy                      | float    | Pontuação de precisão das avaliações                                                               |\n",
    "| review_scores_checkin                       | float    | Pontuação de check-in das avaliações                                                               |\n",
    "| review_scores_cleanliness                   | float    | Pontuação de limpeza das avaliações                                                                |\n",
    "| review_scores_communication                 | float    | Pontuação de comunicação das avaliações                                                            |\n",
    "| review_scores_location                      | float    | Pontuação de localização das avaliações                                                            |\n",
    "| review_scores_rating                        | float    | Pontuação média das avaliações                                                                     |\n",
    "| review_scores_value                         | float    | Pontuação de valor das avaliações                                                                  |\n",
    "| reviews_per_month                           | float    | Número médio de avaliações por mês                                                                 |\n",
    "| room_type                                   | text     | [Tipo de quarto](https://www.airbnb.com/help/article/5)                                            |\n",
    "| scrape_id                                   | bigint   | Identificador da raspagem dos dados                                                                |\n",
    "| source                                      | text     | Encotnrado por uma raspagem anterior ou por busca regional                                         |"
   ]
  },
  {
   "cell_type": "markdown",
   "metadata": {},
   "source": [
    "## 1.4 Sumarização"
   ]
  }
 ],
 "metadata": {
  "kernelspec": {
   "display_name": "rio-airbnb-data-analysis-z6c6-7AH-py3.12",
   "language": "python",
   "name": "python3"
  },
  "language_info": {
   "codemirror_mode": {
    "name": "ipython",
    "version": 3
   },
   "file_extension": ".py",
   "mimetype": "text/x-python",
   "name": "python",
   "nbconvert_exporter": "python",
   "pygments_lexer": "ipython3",
   "version": "3.12.4"
  }
 },
 "nbformat": 4,
 "nbformat_minor": 2
}
