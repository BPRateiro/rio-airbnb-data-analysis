{
 "cells": [
  {
   "cell_type": "markdown",
   "metadata": {},
   "source": [
    "# Airbnb Rio de Janeiro - Feature engineering\n",
    "\n",
    "# 1. Introdução\n",
    "\n",
    "Esse notebook propõe um processo de feature engineering para os [dados do Airbnb na cidade do Rio de Janeiro](https://insideairbnb.com/get-the-data/#:~:text=Rio%20de%20Janeiro%2C%20Rio%20de%20Janeiro%2C%20Brazil). \n",
    "\n",
    "A base de dados original foi previamente explorada e modificada durante a etapa de [análise exploratória (EDA)](https://github.com/BPRateiro/rio-airbnb-data-analysis/blob/main/notebooks/eda.ipynb). Os dados incluem informações detalhadas sobre a disponibilidade de listagens, características dos imóveis, interações de usuários, e preços. \n",
    "\n",
    "O objetivo principal é transformar essas informações para melhorar a capacidade preditiva de modelos de machine learning e facilitar análises mais profundas.\n",
    "\n",
    "## 1.1 Configurações e bibliotecas"
   ]
  },
  {
   "cell_type": "code",
   "execution_count": 1,
   "metadata": {},
   "outputs": [],
   "source": [
    "import pandas as pd\n",
    "from summarytools import dfSummary\n",
    "from sklearn.impute import KNNImputer, SimpleImputer\n",
    "from sklearn.ensemble import IsolationForest\n",
    "from dython import nominal\n",
    "import numpy as np\n",
    "import hiplot as hip\n",
    "from distfit import distfit\n",
    "import seaborn as sns\n",
    "import matplotlib.pyplot as plt\n",
    "from matplotlib.colors import ListedColormap, BoundaryNorm\n",
    "from matplotlib.patches import Patch\n",
    "import ast"
   ]
  },
  {
   "cell_type": "code",
   "execution_count": null,
   "metadata": {},
   "outputs": [],
   "source": [
    "# Separar colunas numéricas e categóricas\n",
    "numeric_cols = df_sumarizacao.select_dtypes(include=['int64', 'float64']).columns\n",
    "categorical_cols = df_sumarizacao.select_dtypes(exclude=['int64', 'float64']).columns\n",
    "\n",
    "# Imputação de variáveis numéricas usando KNN Imputer\n",
    "knn_imputer = KNNImputer(n_neighbors=5)\n",
    "numeric_data_imputed = knn_imputer.fit_transform(df_sumarizacao[numeric_cols])\n",
    "df_numeric_imputed = pd.DataFrame(numeric_data_imputed, columns=numeric_cols)\n",
    "\n",
    "# Imputação de variáveis categóricas usando Simple Imputer\n",
    "simple_imputer = SimpleImputer(strategy='constant', fill_value='Unknown')\n",
    "categorical_data_imputed = simple_imputer.fit_transform(df_sumarizacao[categorical_cols])\n",
    "df_categorical_imputed = pd.DataFrame(categorical_data_imputed, columns=categorical_cols)\n",
    "\n",
    "# Combinar os dados imputados\n",
    "df_final = pd.concat([df_numeric_imputed, df_categorical_imputed], axis=1)"
   ]
  }
 ],
 "metadata": {
  "kernelspec": {
   "display_name": "rio-airbnb-data-analysis-z6c6-7AH-py3.12",
   "language": "python",
   "name": "python3"
  },
  "language_info": {
   "codemirror_mode": {
    "name": "ipython",
    "version": 3
   },
   "file_extension": ".py",
   "mimetype": "text/x-python",
   "name": "python",
   "nbconvert_exporter": "python",
   "pygments_lexer": "ipython3",
   "version": "3.12.4"
  }
 },
 "nbformat": 4,
 "nbformat_minor": 2
}
